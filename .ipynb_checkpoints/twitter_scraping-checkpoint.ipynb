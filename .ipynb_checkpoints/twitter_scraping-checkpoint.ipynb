{
 "cells": [
  {
   "cell_type": "markdown",
   "metadata": {},
   "source": [
    "# Downloading data from Twitter"
   ]
  },
  {
   "cell_type": "markdown",
   "metadata": {},
   "source": [
    "Note that the functions used for preprocessing and downloading are imported from our script 'twitter_helpers'."
   ]
  },
  {
   "cell_type": "code",
   "execution_count": 1,
   "metadata": {},
   "outputs": [],
   "source": [
    "import pandas as pd\n",
    "import pickle\n",
    "import twitter_helpers as th\n",
    "\n",
    "# set local working directory\n",
    "# import os\n",
    "# os.chdir('/Users/patrickschulze/Desktop/Consulting/Bundestag-MP-Analyse/')"
   ]
  },
  {
   "cell_type": "markdown",
   "metadata": {},
   "source": [
    "## 1. Data Import"
   ]
  },
  {
   "cell_type": "code",
   "execution_count": 2,
   "metadata": {},
   "outputs": [],
   "source": [
    "# import Bundestag data\n",
    "with open('abg_df.pickle', 'rb') as handle:\n",
    "    bt_data = pickle.load(handle)\n"
   ]
  },
  {
   "cell_type": "code",
   "execution_count": 3,
   "metadata": {},
   "outputs": [
    {
     "data": {
      "text/html": [
       "<div>\n",
       "<style scoped>\n",
       "    .dataframe tbody tr th:only-of-type {\n",
       "        vertical-align: middle;\n",
       "    }\n",
       "\n",
       "    .dataframe tbody tr th {\n",
       "        vertical-align: top;\n",
       "    }\n",
       "\n",
       "    .dataframe thead th {\n",
       "        text-align: right;\n",
       "    }\n",
       "</style>\n",
       "<table border=\"1\" class=\"dataframe\">\n",
       "  <thead>\n",
       "    <tr style=\"text-align: right;\">\n",
       "      <th></th>\n",
       "      <th>Name</th>\n",
       "      <th>Partei</th>\n",
       "      <th>Wahlart</th>\n",
       "      <th>Bundesland</th>\n",
       "      <th>Wahlkreis</th>\n",
       "      <th>Ausschuesse</th>\n",
       "      <th>Soziale Medien</th>\n",
       "      <th>Biografie</th>\n",
       "      <th>Twitter</th>\n",
       "    </tr>\n",
       "  </thead>\n",
       "  <tbody>\n",
       "    <tr>\n",
       "      <th>0</th>\n",
       "      <td>Abercron, Dr. Michael von</td>\n",
       "      <td>CDU/CSU</td>\n",
       "      <td>Direkt gewählt</td>\n",
       "      <td>Schleswig-Holstein</td>\n",
       "      <td>Wahlkreis 007: Pinneberg</td>\n",
       "      <td>{'Ordentliches Mitglied': ['Ausschuss für Ernä...</td>\n",
       "      <td>{'von-abercron.de/': 'http://www.von-abercron....</td>\n",
       "      <td>Geboren am 17. November 1952 in Ehlers...</td>\n",
       "      <td>mvabercron</td>\n",
       "    </tr>\n",
       "    <tr>\n",
       "      <th>1</th>\n",
       "      <td>Achelwilm, Doris</td>\n",
       "      <td>Die Linke</td>\n",
       "      <td>Gewählt über Landesliste</td>\n",
       "      <td>Bremen</td>\n",
       "      <td>n.a.</td>\n",
       "      <td>{'Ordentliches Mitglied': ['Ausschuss für Fami...</td>\n",
       "      <td>{'doris-achelwilm.de': 'http://www.doris-achel...</td>\n",
       "      <td>Geboren am 30. November 1976 in Thuine...</td>\n",
       "      <td>DorisAchelwilm</td>\n",
       "    </tr>\n",
       "    <tr>\n",
       "      <th>2</th>\n",
       "      <td>Aggelidis, Grigorios</td>\n",
       "      <td>FDP</td>\n",
       "      <td>Gewählt über Landesliste</td>\n",
       "      <td>Niedersachsen</td>\n",
       "      <td>Wahlkreis 043: Hannover-Land I</td>\n",
       "      <td>{'Ordentliches Mitglied': ['Kuratorium der Bun...</td>\n",
       "      <td>{'grigorios-aggelidis.de': 'http://www.grigori...</td>\n",
       "      <td>Geboren am 19. August 1965 in Hannover...</td>\n",
       "      <td>aggelidis_fdp</td>\n",
       "    </tr>\n",
       "    <tr>\n",
       "      <th>3</th>\n",
       "      <td>Akbulut, Gökay</td>\n",
       "      <td>Die Linke</td>\n",
       "      <td>Gewählt über Landesliste</td>\n",
       "      <td>Baden-Württemberg</td>\n",
       "      <td>Wahlkreis 275: Mannheim</td>\n",
       "      <td>{'Ordentliches Mitglied': ['Schriftführer/in',...</td>\n",
       "      <td>{'goekay-akbulut.de': 'https://goekay-akbulut....</td>\n",
       "      <td>Geboren 1982 in Pinarbasi/ Türkei; ledig.Juni ...</td>\n",
       "      <td>akbulutgokay</td>\n",
       "    </tr>\n",
       "    <tr>\n",
       "      <th>4</th>\n",
       "      <td>Albani, Stephan</td>\n",
       "      <td>CDU/CSU</td>\n",
       "      <td>Gewählt über Landesliste</td>\n",
       "      <td>Niedersachsen</td>\n",
       "      <td>Wahlkreis 027: Oldenburg – Ammerland</td>\n",
       "      <td>{'Ordentliches Mitglied': ['Ausschuss für Bild...</td>\n",
       "      <td>{'stephan-albani.de': 'http://www.stephan-alba...</td>\n",
       "      <td>Geboren am 3. Juni 1968 in Göttingen; verheira...</td>\n",
       "      <td></td>\n",
       "    </tr>\n",
       "    <tr>\n",
       "      <th>...</th>\n",
       "      <td>...</td>\n",
       "      <td>...</td>\n",
       "      <td>...</td>\n",
       "      <td>...</td>\n",
       "      <td>...</td>\n",
       "      <td>...</td>\n",
       "      <td>...</td>\n",
       "      <td>...</td>\n",
       "      <td>...</td>\n",
       "    </tr>\n",
       "    <tr>\n",
       "      <th>725</th>\n",
       "      <td>Zierke, Stefan</td>\n",
       "      <td>SPD</td>\n",
       "      <td>Gewählt über Landesliste</td>\n",
       "      <td>Brandenburg</td>\n",
       "      <td>Wahlkreis 057: Uckermark – Barnim I</td>\n",
       "      <td>{'Parlamentarischer Staatssekretär bei der Bun...</td>\n",
       "      <td>{'stefan-zierke.de': 'http://www.stefan-zierke...</td>\n",
       "      <td>Geboren am 5. Dezember 1970 in Prenzlau (Brand...</td>\n",
       "      <td>zierke</td>\n",
       "    </tr>\n",
       "    <tr>\n",
       "      <th>726</th>\n",
       "      <td>Zimmer, Prof. Dr. Matthias</td>\n",
       "      <td>CDU/CSU</td>\n",
       "      <td>Direkt gewählt</td>\n",
       "      <td>Hessen</td>\n",
       "      <td>Wahlkreis 182: Frankfurt am Main I</td>\n",
       "      <td>{'Obmann': ['Ausschuss für Arbeit und Soziales...</td>\n",
       "      <td>{'matthias-zimmer.de': 'http://www.matthias-zi...</td>\n",
       "      <td>Geboren am 3. Mai 1961 in Marburg/Lahn; verhei...</td>\n",
       "      <td>matthiaszimmer</td>\n",
       "    </tr>\n",
       "    <tr>\n",
       "      <th>727</th>\n",
       "      <td>Zimmermann, Dr. Jens</td>\n",
       "      <td>SPD</td>\n",
       "      <td>Gewählt über Landesliste</td>\n",
       "      <td>Hessen</td>\n",
       "      <td>Wahlkreis 187: Odenwald</td>\n",
       "      <td>{'Obmann': ['Ausschuss Digitale Agenda'], 'Ord...</td>\n",
       "      <td>{'jens-zimmermann.org': 'http://www.jens-zimme...</td>\n",
       "      <td>Geboren am 9. September 1981 in Groß-U...</td>\n",
       "      <td>JensZimmermann1</td>\n",
       "    </tr>\n",
       "    <tr>\n",
       "      <th>728</th>\n",
       "      <td>Zimmermann, Pia</td>\n",
       "      <td>Die Linke</td>\n",
       "      <td>Gewählt über Landesliste</td>\n",
       "      <td>Niedersachsen</td>\n",
       "      <td>Wahlkreis 051: Helmstedt – Wolfsburg</td>\n",
       "      <td>{'Ordentliches Mitglied': ['Ausschuss für Gesu...</td>\n",
       "      <td>{'pia-zimmermann.de': 'http://www.pia-zimmerma...</td>\n",
       "      <td>Geboren am 17. September 1956 in Braunschweig;...</td>\n",
       "      <td></td>\n",
       "    </tr>\n",
       "    <tr>\n",
       "      <th>729</th>\n",
       "      <td>Zimmermann (Zwickau), Sabine</td>\n",
       "      <td>Die Linke</td>\n",
       "      <td>Gewählt über Landesliste</td>\n",
       "      <td>Sachsen</td>\n",
       "      <td>Wahlkreis 165: Zwickau</td>\n",
       "      <td>{'Vorsitzende': ['Ausschuss für Familie, Senio...</td>\n",
       "      <td>{'sabine-zimmermann.info': 'http://sabine-zimm...</td>\n",
       "      <td>Geboren am 30. Dezember 1960 in Pasewa...</td>\n",
       "      <td></td>\n",
       "    </tr>\n",
       "  </tbody>\n",
       "</table>\n",
       "<p>730 rows × 9 columns</p>\n",
       "</div>"
      ],
      "text/plain": [
       "                             Name     Partei                   Wahlart  \\\n",
       "0       Abercron, Dr. Michael von    CDU/CSU            Direkt gewählt   \n",
       "1                Achelwilm, Doris  Die Linke  Gewählt über Landesliste   \n",
       "2            Aggelidis, Grigorios        FDP  Gewählt über Landesliste   \n",
       "3                  Akbulut, Gökay  Die Linke  Gewählt über Landesliste   \n",
       "4                 Albani, Stephan    CDU/CSU  Gewählt über Landesliste   \n",
       "..                            ...        ...                       ...   \n",
       "725                Zierke, Stefan        SPD  Gewählt über Landesliste   \n",
       "726    Zimmer, Prof. Dr. Matthias    CDU/CSU            Direkt gewählt   \n",
       "727          Zimmermann, Dr. Jens        SPD  Gewählt über Landesliste   \n",
       "728               Zimmermann, Pia  Die Linke  Gewählt über Landesliste   \n",
       "729  Zimmermann (Zwickau), Sabine  Die Linke  Gewählt über Landesliste   \n",
       "\n",
       "             Bundesland                             Wahlkreis  \\\n",
       "0    Schleswig-Holstein              Wahlkreis 007: Pinneberg   \n",
       "1                Bremen                                  n.a.   \n",
       "2         Niedersachsen        Wahlkreis 043: Hannover-Land I   \n",
       "3     Baden-Württemberg               Wahlkreis 275: Mannheim   \n",
       "4         Niedersachsen  Wahlkreis 027: Oldenburg – Ammerland   \n",
       "..                  ...                                   ...   \n",
       "725         Brandenburg   Wahlkreis 057: Uckermark – Barnim I   \n",
       "726              Hessen    Wahlkreis 182: Frankfurt am Main I   \n",
       "727              Hessen               Wahlkreis 187: Odenwald   \n",
       "728       Niedersachsen  Wahlkreis 051: Helmstedt – Wolfsburg   \n",
       "729             Sachsen                Wahlkreis 165: Zwickau   \n",
       "\n",
       "                                           Ausschuesse  \\\n",
       "0    {'Ordentliches Mitglied': ['Ausschuss für Ernä...   \n",
       "1    {'Ordentliches Mitglied': ['Ausschuss für Fami...   \n",
       "2    {'Ordentliches Mitglied': ['Kuratorium der Bun...   \n",
       "3    {'Ordentliches Mitglied': ['Schriftführer/in',...   \n",
       "4    {'Ordentliches Mitglied': ['Ausschuss für Bild...   \n",
       "..                                                 ...   \n",
       "725  {'Parlamentarischer Staatssekretär bei der Bun...   \n",
       "726  {'Obmann': ['Ausschuss für Arbeit und Soziales...   \n",
       "727  {'Obmann': ['Ausschuss Digitale Agenda'], 'Ord...   \n",
       "728  {'Ordentliches Mitglied': ['Ausschuss für Gesu...   \n",
       "729  {'Vorsitzende': ['Ausschuss für Familie, Senio...   \n",
       "\n",
       "                                        Soziale Medien  \\\n",
       "0    {'von-abercron.de/': 'http://www.von-abercron....   \n",
       "1    {'doris-achelwilm.de': 'http://www.doris-achel...   \n",
       "2    {'grigorios-aggelidis.de': 'http://www.grigori...   \n",
       "3    {'goekay-akbulut.de': 'https://goekay-akbulut....   \n",
       "4    {'stephan-albani.de': 'http://www.stephan-alba...   \n",
       "..                                                 ...   \n",
       "725  {'stefan-zierke.de': 'http://www.stefan-zierke...   \n",
       "726  {'matthias-zimmer.de': 'http://www.matthias-zi...   \n",
       "727  {'jens-zimmermann.org': 'http://www.jens-zimme...   \n",
       "728  {'pia-zimmermann.de': 'http://www.pia-zimmerma...   \n",
       "729  {'sabine-zimmermann.info': 'http://sabine-zimm...   \n",
       "\n",
       "                                             Biografie          Twitter  \n",
       "0            Geboren am 17. November 1952 in Ehlers...       mvabercron  \n",
       "1            Geboren am 30. November 1976 in Thuine...   DorisAchelwilm  \n",
       "2            Geboren am 19. August 1965 in Hannover...    aggelidis_fdp  \n",
       "3    Geboren 1982 in Pinarbasi/ Türkei; ledig.Juni ...     akbulutgokay  \n",
       "4    Geboren am 3. Juni 1968 in Göttingen; verheira...                   \n",
       "..                                                 ...              ...  \n",
       "725  Geboren am 5. Dezember 1970 in Prenzlau (Brand...           zierke  \n",
       "726  Geboren am 3. Mai 1961 in Marburg/Lahn; verhei...   matthiaszimmer  \n",
       "727          Geboren am 9. September 1981 in Groß-U...  JensZimmermann1  \n",
       "728  Geboren am 17. September 1956 in Braunschweig;...                   \n",
       "729          Geboren am 30. Dezember 1960 in Pasewa...                   \n",
       "\n",
       "[730 rows x 9 columns]"
      ]
     },
     "execution_count": 3,
     "metadata": {},
     "output_type": "execute_result"
    }
   ],
   "source": [
    "bt_data"
   ]
  },
  {
   "cell_type": "code",
   "execution_count": 4,
   "metadata": {},
   "outputs": [],
   "source": [
    "# select name and username for each member and store in table called twitter_account\n",
    "names = bt_data['Name']\n",
    "twitter_usernames = bt_data['Twitter']\n",
    "names.rename(\"name\", inplace = True)\n",
    "twitter_usernames.rename(\"username\", inplace = True)\n",
    "twitter_account = pd.concat([names, twitter_usernames], axis = 1)"
   ]
  },
  {
   "cell_type": "code",
   "execution_count": 5,
   "metadata": {},
   "outputs": [
    {
     "data": {
      "text/html": [
       "<div>\n",
       "<style scoped>\n",
       "    .dataframe tbody tr th:only-of-type {\n",
       "        vertical-align: middle;\n",
       "    }\n",
       "\n",
       "    .dataframe tbody tr th {\n",
       "        vertical-align: top;\n",
       "    }\n",
       "\n",
       "    .dataframe thead th {\n",
       "        text-align: right;\n",
       "    }\n",
       "</style>\n",
       "<table border=\"1\" class=\"dataframe\">\n",
       "  <thead>\n",
       "    <tr style=\"text-align: right;\">\n",
       "      <th></th>\n",
       "      <th>name</th>\n",
       "      <th>username</th>\n",
       "    </tr>\n",
       "  </thead>\n",
       "  <tbody>\n",
       "    <tr>\n",
       "      <th>0</th>\n",
       "      <td>Abercron, Dr. Michael von</td>\n",
       "      <td>mvabercron</td>\n",
       "    </tr>\n",
       "    <tr>\n",
       "      <th>1</th>\n",
       "      <td>Achelwilm, Doris</td>\n",
       "      <td>DorisAchelwilm</td>\n",
       "    </tr>\n",
       "    <tr>\n",
       "      <th>2</th>\n",
       "      <td>Aggelidis, Grigorios</td>\n",
       "      <td>aggelidis_fdp</td>\n",
       "    </tr>\n",
       "    <tr>\n",
       "      <th>3</th>\n",
       "      <td>Akbulut, Gökay</td>\n",
       "      <td>akbulutgokay</td>\n",
       "    </tr>\n",
       "    <tr>\n",
       "      <th>4</th>\n",
       "      <td>Albani, Stephan</td>\n",
       "      <td></td>\n",
       "    </tr>\n",
       "    <tr>\n",
       "      <th>...</th>\n",
       "      <td>...</td>\n",
       "      <td>...</td>\n",
       "    </tr>\n",
       "    <tr>\n",
       "      <th>725</th>\n",
       "      <td>Zierke, Stefan</td>\n",
       "      <td>zierke</td>\n",
       "    </tr>\n",
       "    <tr>\n",
       "      <th>726</th>\n",
       "      <td>Zimmer, Prof. Dr. Matthias</td>\n",
       "      <td>matthiaszimmer</td>\n",
       "    </tr>\n",
       "    <tr>\n",
       "      <th>727</th>\n",
       "      <td>Zimmermann, Dr. Jens</td>\n",
       "      <td>JensZimmermann1</td>\n",
       "    </tr>\n",
       "    <tr>\n",
       "      <th>728</th>\n",
       "      <td>Zimmermann, Pia</td>\n",
       "      <td></td>\n",
       "    </tr>\n",
       "    <tr>\n",
       "      <th>729</th>\n",
       "      <td>Zimmermann (Zwickau), Sabine</td>\n",
       "      <td></td>\n",
       "    </tr>\n",
       "  </tbody>\n",
       "</table>\n",
       "<p>730 rows × 2 columns</p>\n",
       "</div>"
      ],
      "text/plain": [
       "                             name         username\n",
       "0       Abercron, Dr. Michael von       mvabercron\n",
       "1                Achelwilm, Doris   DorisAchelwilm\n",
       "2            Aggelidis, Grigorios    aggelidis_fdp\n",
       "3                  Akbulut, Gökay     akbulutgokay\n",
       "4                 Albani, Stephan                 \n",
       "..                            ...              ...\n",
       "725                Zierke, Stefan           zierke\n",
       "726    Zimmer, Prof. Dr. Matthias   matthiaszimmer\n",
       "727          Zimmermann, Dr. Jens  JensZimmermann1\n",
       "728               Zimmermann, Pia                 \n",
       "729  Zimmermann (Zwickau), Sabine                 \n",
       "\n",
       "[730 rows x 2 columns]"
      ]
     },
     "execution_count": 5,
     "metadata": {},
     "output_type": "execute_result"
    }
   ],
   "source": [
    "twitter_account"
   ]
  },
  {
   "cell_type": "code",
   "execution_count": 36,
   "metadata": {},
   "outputs": [],
   "source": [
    "# drop usernames that are nan or empty, in order to avoid error message when downloading\n",
    "usr_nan = twitter_account.username.isna()\n",
    "usr_empty = twitter_account.username == ''\n",
    "twitter_account = twitter_account[~(usr_nan | usr_empty)]"
   ]
  },
  {
   "cell_type": "code",
   "execution_count": 37,
   "metadata": {},
   "outputs": [
    {
     "data": {
      "text/html": [
       "<div>\n",
       "<style scoped>\n",
       "    .dataframe tbody tr th:only-of-type {\n",
       "        vertical-align: middle;\n",
       "    }\n",
       "\n",
       "    .dataframe tbody tr th {\n",
       "        vertical-align: top;\n",
       "    }\n",
       "\n",
       "    .dataframe thead th {\n",
       "        text-align: right;\n",
       "    }\n",
       "</style>\n",
       "<table border=\"1\" class=\"dataframe\">\n",
       "  <thead>\n",
       "    <tr style=\"text-align: right;\">\n",
       "      <th></th>\n",
       "      <th>name</th>\n",
       "      <th>username</th>\n",
       "    </tr>\n",
       "  </thead>\n",
       "  <tbody>\n",
       "    <tr>\n",
       "      <th>0</th>\n",
       "      <td>Abercron, Dr. Michael von</td>\n",
       "      <td>mvabercron</td>\n",
       "    </tr>\n",
       "    <tr>\n",
       "      <th>1</th>\n",
       "      <td>Achelwilm, Doris</td>\n",
       "      <td>DorisAchelwilm</td>\n",
       "    </tr>\n",
       "    <tr>\n",
       "      <th>2</th>\n",
       "      <td>Aggelidis, Grigorios</td>\n",
       "      <td>aggelidis_fdp</td>\n",
       "    </tr>\n",
       "    <tr>\n",
       "      <th>3</th>\n",
       "      <td>Akbulut, Gökay</td>\n",
       "      <td>akbulutgokay</td>\n",
       "    </tr>\n",
       "    <tr>\n",
       "      <th>5</th>\n",
       "      <td>Alt, Renata</td>\n",
       "      <td>RenataAlt_MdB</td>\n",
       "    </tr>\n",
       "    <tr>\n",
       "      <th>...</th>\n",
       "      <td>...</td>\n",
       "      <td>...</td>\n",
       "    </tr>\n",
       "    <tr>\n",
       "      <th>720</th>\n",
       "      <td>Zdebel, Hubertus</td>\n",
       "      <td>ZdebelHubertus</td>\n",
       "    </tr>\n",
       "    <tr>\n",
       "      <th>724</th>\n",
       "      <td>Ziemiak, Paul</td>\n",
       "      <td>PaulZiemiak</td>\n",
       "    </tr>\n",
       "    <tr>\n",
       "      <th>725</th>\n",
       "      <td>Zierke, Stefan</td>\n",
       "      <td>zierke</td>\n",
       "    </tr>\n",
       "    <tr>\n",
       "      <th>726</th>\n",
       "      <td>Zimmer, Prof. Dr. Matthias</td>\n",
       "      <td>matthiaszimmer</td>\n",
       "    </tr>\n",
       "    <tr>\n",
       "      <th>727</th>\n",
       "      <td>Zimmermann, Dr. Jens</td>\n",
       "      <td>JensZimmermann1</td>\n",
       "    </tr>\n",
       "  </tbody>\n",
       "</table>\n",
       "<p>513 rows × 2 columns</p>\n",
       "</div>"
      ],
      "text/plain": [
       "                           name         username\n",
       "0     Abercron, Dr. Michael von       mvabercron\n",
       "1              Achelwilm, Doris   DorisAchelwilm\n",
       "2          Aggelidis, Grigorios    aggelidis_fdp\n",
       "3                Akbulut, Gökay     akbulutgokay\n",
       "5                   Alt, Renata    RenataAlt_MdB\n",
       "..                          ...              ...\n",
       "720            Zdebel, Hubertus   ZdebelHubertus\n",
       "724               Ziemiak, Paul      PaulZiemiak\n",
       "725              Zierke, Stefan           zierke\n",
       "726  Zimmer, Prof. Dr. Matthias   matthiaszimmer\n",
       "727        Zimmermann, Dr. Jens  JensZimmermann1\n",
       "\n",
       "[513 rows x 2 columns]"
      ]
     },
     "execution_count": 37,
     "metadata": {},
     "output_type": "execute_result"
    }
   ],
   "source": [
    "twitter_account"
   ]
  },
  {
   "cell_type": "markdown",
   "metadata": {},
   "source": [
    "## 2. Download with GetOldTweets3"
   ]
  },
  {
   "cell_type": "markdown",
   "metadata": {},
   "source": [
    "GetOldTweets3 is an \"inofficial\" Python module, which can be used to scrape tweets and other information from Twitter. While the official Twitter-API Tweepy has a limit of 3200 Tweets per user, with GetOldTweets3 it is possible to download an unlimited number of tweets for a given user. "
   ]
  },
  {
   "cell_type": "code",
   "execution_count": 38,
   "metadata": {},
   "outputs": [
    {
     "name": "stdout",
     "output_type": "stream",
     "text": [
      "Downloading for mvabercron\n",
      "Downloading for DorisAchelwilm\n",
      "Downloading for aggelidis_fdp\n",
      "Downloading for akbulutgokay\n",
      "Downloading for RenataAlt_MdB\n",
      "Downloading for peteraltmaier\n",
      "Downloading for NielsAnnen\n",
      "Downloading for cad59\n",
      "Downloading for PeterAumer\n",
      "Downloading for bela_bach\n",
      "Downloading for badulrichmartha\n",
      "Downloading for DoroBaer\n",
      "Downloading for ABaerbock\n",
      "Downloading for MdB_Ulrike_Bahr\n",
      "Downloading for Thomas_Bareiss\n",
      "Downloading for SBarrientosK\n",
      "Downloading for matthiasbartke \n",
      "Downloading for soerenbartol\n",
      "Downloading for DietmarBartsch\n",
      "Downloading for baerbelbas\n",
      "Downloading for berndbaumannafd\n",
      "Downloading for MargareteBause\n",
      "Downloading for DerDanyal\n",
      "Downloading for LieblingXhain\n",
      "Downloading for jensbeeck\n",
      "Downloading for MaikBeermann\n",
      "Downloading for Manfredbehrens\n",
      "Downloading for SybilleBenning\n",
      "Downloading for MarcBernhardAfD\n",
      "Downloading for c_bernstiel\n",
      "Downloading for lgbeutin\n",
      "Downloading for Peter_Beyer\n",
      "Downloading for MBiadaczMdB\n",
      "Downloading for steffenbilger\n",
      "Downloading for lothar_binding\n",
      "Downloading for MWBirkwald\n",
      "Downloading for AndreasBleckMdB\n",
      "Downloading for PeterBoehringer\n",
      "Downloading for JBrandenburgFDP\n",
      "Downloading for BraFDP\n"
     ]
    }
   ],
   "source": [
    "# download tweets using GetOldTweets3 for specified time period\n",
    "res_got3 = pd.DataFrame()\n",
    "for username in twitter_account.iloc[0:40, 1]:\n",
    "    res_got3 = pd.concat([res_got3, th.download_tweets_got3(username, since = \"2020-04-05\", \\\n",
    "                                          until = \"2020-04-08\")])"
   ]
  },
  {
   "cell_type": "code",
   "execution_count": 39,
   "metadata": {},
   "outputs": [
    {
     "data": {
      "text/html": [
       "<div>\n",
       "<style scoped>\n",
       "    .dataframe tbody tr th:only-of-type {\n",
       "        vertical-align: middle;\n",
       "    }\n",
       "\n",
       "    .dataframe tbody tr th {\n",
       "        vertical-align: top;\n",
       "    }\n",
       "\n",
       "    .dataframe thead th {\n",
       "        text-align: right;\n",
       "    }\n",
       "</style>\n",
       "<table border=\"1\" class=\"dataframe\">\n",
       "  <thead>\n",
       "    <tr style=\"text-align: right;\">\n",
       "      <th></th>\n",
       "      <th>name</th>\n",
       "      <th>username</th>\n",
       "      <th>to</th>\n",
       "      <th>text</th>\n",
       "      <th>retweets</th>\n",
       "      <th>favorites</th>\n",
       "      <th>replies</th>\n",
       "      <th>id</th>\n",
       "      <th>permalink</th>\n",
       "      <th>author_id</th>\n",
       "      <th>date</th>\n",
       "      <th>formatted_date</th>\n",
       "      <th>hashtags</th>\n",
       "      <th>mentions</th>\n",
       "      <th>geo</th>\n",
       "      <th>urls</th>\n",
       "    </tr>\n",
       "  </thead>\n",
       "  <tbody>\n",
       "    <tr>\n",
       "      <th>0</th>\n",
       "      <td>Achelwilm, Doris</td>\n",
       "      <td>DorisAchelwilm</td>\n",
       "      <td>None</td>\n",
       "      <td>#Weltgesundheitstag 2020: Gesundheit ist kein ...</td>\n",
       "      <td>8</td>\n",
       "      <td>42</td>\n",
       "      <td>4</td>\n",
       "      <td>1247472932466688000</td>\n",
       "      <td>https://twitter.com/DorisAchelwilm/status/1247...</td>\n",
       "      <td>4819478705</td>\n",
       "      <td>2020-04-07 10:34:58+00:00</td>\n",
       "      <td>Tue Apr 07 10:34:58 +0000 2020</td>\n",
       "      <td>#Weltgesundheitstag</td>\n",
       "      <td></td>\n",
       "      <td></td>\n",
       "      <td></td>\n",
       "    </tr>\n",
       "    <tr>\n",
       "      <th>1</th>\n",
       "      <td>Achelwilm, Doris</td>\n",
       "      <td>DorisAchelwilm</td>\n",
       "      <td>ndaktuell</td>\n",
       "      <td>Queerpolitik hat unter #Corona keinen leichten...</td>\n",
       "      <td>15</td>\n",
       "      <td>30</td>\n",
       "      <td>4</td>\n",
       "      <td>1247448540533710848</td>\n",
       "      <td>https://twitter.com/DorisAchelwilm/status/1247...</td>\n",
       "      <td>4819478705</td>\n",
       "      <td>2020-04-07 08:58:03+00:00</td>\n",
       "      <td>Tue Apr 07 08:58:03 +0000 2020</td>\n",
       "      <td>#Corona #Hatespeech #LGBT #Trump #Orban</td>\n",
       "      <td></td>\n",
       "      <td></td>\n",
       "      <td>https://twitter.com/ndaktuell/status/124723009...</td>\n",
       "    </tr>\n",
       "    <tr>\n",
       "      <th>2</th>\n",
       "      <td>Achelwilm, Doris</td>\n",
       "      <td>DorisAchelwilm</td>\n",
       "      <td>salzzitronen</td>\n",
       "      <td>Dieser Tarifabschluss wird aus Pflegeversicher...</td>\n",
       "      <td>0</td>\n",
       "      <td>0</td>\n",
       "      <td>1</td>\n",
       "      <td>1247210632635703298</td>\n",
       "      <td>https://twitter.com/DorisAchelwilm/status/1247...</td>\n",
       "      <td>4819478705</td>\n",
       "      <td>2020-04-06 17:12:41+00:00</td>\n",
       "      <td>Mon Apr 06 17:12:41 +0000 2020</td>\n",
       "      <td></td>\n",
       "      <td></td>\n",
       "      <td></td>\n",
       "      <td></td>\n",
       "    </tr>\n",
       "    <tr>\n",
       "      <th>3</th>\n",
       "      <td>Achelwilm, Doris</td>\n",
       "      <td>DorisAchelwilm</td>\n",
       "      <td>redheadhb2</td>\n",
       "      <td>Gut, dass Du es sagst. Nach der langen Ausbild...</td>\n",
       "      <td>0</td>\n",
       "      <td>2</td>\n",
       "      <td>0</td>\n",
       "      <td>1247207997664878592</td>\n",
       "      <td>https://twitter.com/DorisAchelwilm/status/1247...</td>\n",
       "      <td>4819478705</td>\n",
       "      <td>2020-04-06 17:02:13+00:00</td>\n",
       "      <td>Mon Apr 06 17:02:13 +0000 2020</td>\n",
       "      <td></td>\n",
       "      <td></td>\n",
       "      <td></td>\n",
       "      <td></td>\n",
       "    </tr>\n",
       "    <tr>\n",
       "      <th>4</th>\n",
       "      <td>Achelwilm, Doris</td>\n",
       "      <td>DorisAchelwilm</td>\n",
       "      <td>None</td>\n",
       "      <td>Geht doch: #Altenpflegekräfte bekommen im Juli...</td>\n",
       "      <td>4</td>\n",
       "      <td>21</td>\n",
       "      <td>4</td>\n",
       "      <td>1247203823438958594</td>\n",
       "      <td>https://twitter.com/DorisAchelwilm/status/1247...</td>\n",
       "      <td>4819478705</td>\n",
       "      <td>2020-04-06 16:45:38+00:00</td>\n",
       "      <td>Mon Apr 06 16:45:38 +0000 2020</td>\n",
       "      <td>#Altenpflegekr #Krankenhauspersonal #Systemrel...</td>\n",
       "      <td></td>\n",
       "      <td></td>\n",
       "      <td>https://www.verdi.de/presse/pressemitteilungen...</td>\n",
       "    </tr>\n",
       "    <tr>\n",
       "      <th>...</th>\n",
       "      <td>...</td>\n",
       "      <td>...</td>\n",
       "      <td>...</td>\n",
       "      <td>...</td>\n",
       "      <td>...</td>\n",
       "      <td>...</td>\n",
       "      <td>...</td>\n",
       "      <td>...</td>\n",
       "      <td>...</td>\n",
       "      <td>...</td>\n",
       "      <td>...</td>\n",
       "      <td>...</td>\n",
       "      <td>...</td>\n",
       "      <td>...</td>\n",
       "      <td>...</td>\n",
       "      <td>...</td>\n",
       "    </tr>\n",
       "    <tr>\n",
       "      <th>84</th>\n",
       "      <td>Boehringer, Peter</td>\n",
       "      <td>PeterBoehringer</td>\n",
       "      <td>None</td>\n",
       "      <td>Selbstmord aus Angst vor dem CO2-Tod: EUliten ...</td>\n",
       "      <td>6</td>\n",
       "      <td>14</td>\n",
       "      <td>3</td>\n",
       "      <td>1247064072740356096</td>\n",
       "      <td>https://twitter.com/PeterBoehringer/status/124...</td>\n",
       "      <td>99268600</td>\n",
       "      <td>2020-04-06 07:30:18+00:00</td>\n",
       "      <td>Mon Apr 06 07:30:18 +0000 2020</td>\n",
       "      <td>#co2 #klimafl #AfD #pboehringer</td>\n",
       "      <td></td>\n",
       "      <td></td>\n",
       "      <td>https://youtu.be/h_cSmlQZOgc</td>\n",
       "    </tr>\n",
       "    <tr>\n",
       "      <th>85</th>\n",
       "      <td>Brandenburg (Rhein-Neckar), Dr. Jens</td>\n",
       "      <td>JBrandenburgFDP</td>\n",
       "      <td>None</td>\n",
       "      <td>Wer nach dieser Pressekonferenz glaubt, die Bu...</td>\n",
       "      <td>1</td>\n",
       "      <td>8</td>\n",
       "      <td>0</td>\n",
       "      <td>1247182620980662273</td>\n",
       "      <td>https://twitter.com/JBrandenburgFDP/status/124...</td>\n",
       "      <td>857906951707127808</td>\n",
       "      <td>2020-04-06 15:21:23+00:00</td>\n",
       "      <td>Mon Apr 06 15:21:23 +0000 2020</td>\n",
       "      <td></td>\n",
       "      <td></td>\n",
       "      <td></td>\n",
       "      <td></td>\n",
       "    </tr>\n",
       "    <tr>\n",
       "      <th>86</th>\n",
       "      <td>Brandenburg (Rhein-Neckar), Dr. Jens</td>\n",
       "      <td>JBrandenburgFDP</td>\n",
       "      <td>StephanManfred1</td>\n",
       "      <td>Leider nein</td>\n",
       "      <td>0</td>\n",
       "      <td>1</td>\n",
       "      <td>2</td>\n",
       "      <td>1246782600938741766</td>\n",
       "      <td>https://twitter.com/JBrandenburgFDP/status/124...</td>\n",
       "      <td>857906951707127808</td>\n",
       "      <td>2020-04-05 12:51:50+00:00</td>\n",
       "      <td>Sun Apr 05 12:51:50 +0000 2020</td>\n",
       "      <td></td>\n",
       "      <td></td>\n",
       "      <td></td>\n",
       "      <td></td>\n",
       "    </tr>\n",
       "    <tr>\n",
       "      <th>87</th>\n",
       "      <td>Brandenburg (Südpfalz), Mario</td>\n",
       "      <td>BraFDP</td>\n",
       "      <td>None</td>\n",
       "      <td>Heute hat sich der Allgemeine Studierendenauss...</td>\n",
       "      <td>1</td>\n",
       "      <td>3</td>\n",
       "      <td>1</td>\n",
       "      <td>1247539165345886208</td>\n",
       "      <td>https://twitter.com/BraFDP/status/124753916534...</td>\n",
       "      <td>802968497831739392</td>\n",
       "      <td>2020-04-07 14:58:09+00:00</td>\n",
       "      <td>Tue Apr 07 14:58:09 +0000 2020</td>\n",
       "      <td>#Asta</td>\n",
       "      <td></td>\n",
       "      <td></td>\n",
       "      <td>https://www.asta-landau.de/wp-content/uploads/...</td>\n",
       "    </tr>\n",
       "    <tr>\n",
       "      <th>88</th>\n",
       "      <td>Brandenburg (Südpfalz), Mario</td>\n",
       "      <td>BraFDP</td>\n",
       "      <td>tagesschau</td>\n",
       "      <td>Es ist absolut richtig den Menschen auch einen...</td>\n",
       "      <td>1</td>\n",
       "      <td>6</td>\n",
       "      <td>0</td>\n",
       "      <td>1247112911077679109</td>\n",
       "      <td>https://twitter.com/BraFDP/status/124711291107...</td>\n",
       "      <td>802968497831739392</td>\n",
       "      <td>2020-04-06 10:44:22+00:00</td>\n",
       "      <td>Mon Apr 06 10:44:22 +0000 2020</td>\n",
       "      <td>#Oesterreich #Covid_19 #Corona</td>\n",
       "      <td></td>\n",
       "      <td></td>\n",
       "      <td>https://twitter.com/tagesschau/status/12470929...</td>\n",
       "    </tr>\n",
       "  </tbody>\n",
       "</table>\n",
       "<p>89 rows × 16 columns</p>\n",
       "</div>"
      ],
      "text/plain": [
       "                                    name         username               to  \\\n",
       "0                       Achelwilm, Doris   DorisAchelwilm             None   \n",
       "1                       Achelwilm, Doris   DorisAchelwilm        ndaktuell   \n",
       "2                       Achelwilm, Doris   DorisAchelwilm     salzzitronen   \n",
       "3                       Achelwilm, Doris   DorisAchelwilm       redheadhb2   \n",
       "4                       Achelwilm, Doris   DorisAchelwilm             None   \n",
       "..                                   ...              ...              ...   \n",
       "84                     Boehringer, Peter  PeterBoehringer             None   \n",
       "85  Brandenburg (Rhein-Neckar), Dr. Jens  JBrandenburgFDP             None   \n",
       "86  Brandenburg (Rhein-Neckar), Dr. Jens  JBrandenburgFDP  StephanManfred1   \n",
       "87         Brandenburg (Südpfalz), Mario           BraFDP             None   \n",
       "88         Brandenburg (Südpfalz), Mario           BraFDP       tagesschau   \n",
       "\n",
       "                                                 text  retweets  favorites  \\\n",
       "0   #Weltgesundheitstag 2020: Gesundheit ist kein ...         8         42   \n",
       "1   Queerpolitik hat unter #Corona keinen leichten...        15         30   \n",
       "2   Dieser Tarifabschluss wird aus Pflegeversicher...         0          0   \n",
       "3   Gut, dass Du es sagst. Nach der langen Ausbild...         0          2   \n",
       "4   Geht doch: #Altenpflegekräfte bekommen im Juli...         4         21   \n",
       "..                                                ...       ...        ...   \n",
       "84  Selbstmord aus Angst vor dem CO2-Tod: EUliten ...         6         14   \n",
       "85  Wer nach dieser Pressekonferenz glaubt, die Bu...         1          8   \n",
       "86                                        Leider nein         0          1   \n",
       "87  Heute hat sich der Allgemeine Studierendenauss...         1          3   \n",
       "88  Es ist absolut richtig den Menschen auch einen...         1          6   \n",
       "\n",
       "    replies                   id  \\\n",
       "0         4  1247472932466688000   \n",
       "1         4  1247448540533710848   \n",
       "2         1  1247210632635703298   \n",
       "3         0  1247207997664878592   \n",
       "4         4  1247203823438958594   \n",
       "..      ...                  ...   \n",
       "84        3  1247064072740356096   \n",
       "85        0  1247182620980662273   \n",
       "86        2  1246782600938741766   \n",
       "87        1  1247539165345886208   \n",
       "88        0  1247112911077679109   \n",
       "\n",
       "                                            permalink           author_id  \\\n",
       "0   https://twitter.com/DorisAchelwilm/status/1247...          4819478705   \n",
       "1   https://twitter.com/DorisAchelwilm/status/1247...          4819478705   \n",
       "2   https://twitter.com/DorisAchelwilm/status/1247...          4819478705   \n",
       "3   https://twitter.com/DorisAchelwilm/status/1247...          4819478705   \n",
       "4   https://twitter.com/DorisAchelwilm/status/1247...          4819478705   \n",
       "..                                                ...                 ...   \n",
       "84  https://twitter.com/PeterBoehringer/status/124...            99268600   \n",
       "85  https://twitter.com/JBrandenburgFDP/status/124...  857906951707127808   \n",
       "86  https://twitter.com/JBrandenburgFDP/status/124...  857906951707127808   \n",
       "87  https://twitter.com/BraFDP/status/124753916534...  802968497831739392   \n",
       "88  https://twitter.com/BraFDP/status/124711291107...  802968497831739392   \n",
       "\n",
       "                        date                  formatted_date  \\\n",
       "0  2020-04-07 10:34:58+00:00  Tue Apr 07 10:34:58 +0000 2020   \n",
       "1  2020-04-07 08:58:03+00:00  Tue Apr 07 08:58:03 +0000 2020   \n",
       "2  2020-04-06 17:12:41+00:00  Mon Apr 06 17:12:41 +0000 2020   \n",
       "3  2020-04-06 17:02:13+00:00  Mon Apr 06 17:02:13 +0000 2020   \n",
       "4  2020-04-06 16:45:38+00:00  Mon Apr 06 16:45:38 +0000 2020   \n",
       "..                       ...                             ...   \n",
       "84 2020-04-06 07:30:18+00:00  Mon Apr 06 07:30:18 +0000 2020   \n",
       "85 2020-04-06 15:21:23+00:00  Mon Apr 06 15:21:23 +0000 2020   \n",
       "86 2020-04-05 12:51:50+00:00  Sun Apr 05 12:51:50 +0000 2020   \n",
       "87 2020-04-07 14:58:09+00:00  Tue Apr 07 14:58:09 +0000 2020   \n",
       "88 2020-04-06 10:44:22+00:00  Mon Apr 06 10:44:22 +0000 2020   \n",
       "\n",
       "                                             hashtags mentions geo  \\\n",
       "0                                 #Weltgesundheitstag                \n",
       "1             #Corona #Hatespeech #LGBT #Trump #Orban                \n",
       "2                                                                    \n",
       "3                                                                    \n",
       "4   #Altenpflegekr #Krankenhauspersonal #Systemrel...                \n",
       "..                                                ...      ...  ..   \n",
       "84                    #co2 #klimafl #AfD #pboehringer                \n",
       "85                                                                   \n",
       "86                                                                   \n",
       "87                                              #Asta                \n",
       "88                     #Oesterreich #Covid_19 #Corona                \n",
       "\n",
       "                                                 urls  \n",
       "0                                                      \n",
       "1   https://twitter.com/ndaktuell/status/124723009...  \n",
       "2                                                      \n",
       "3                                                      \n",
       "4   https://www.verdi.de/presse/pressemitteilungen...  \n",
       "..                                                ...  \n",
       "84                       https://youtu.be/h_cSmlQZOgc  \n",
       "85                                                     \n",
       "86                                                     \n",
       "87  https://www.asta-landau.de/wp-content/uploads/...  \n",
       "88  https://twitter.com/tagesschau/status/12470929...  \n",
       "\n",
       "[89 rows x 16 columns]"
      ]
     },
     "execution_count": 39,
     "metadata": {},
     "output_type": "execute_result"
    }
   ],
   "source": [
    "# add 'name' column (download only uses 'username' as input)\n",
    "res_got3 = twitter_account.merge(res_got3, on = 'username')\n",
    "# display results\n",
    "res_got3"
   ]
  },
  {
   "cell_type": "markdown",
   "metadata": {},
   "source": [
    "We can check that it is indeed possible to download more than 3200 tweets per user:"
   ]
  },
  {
   "cell_type": "code",
   "execution_count": 40,
   "metadata": {},
   "outputs": [
    {
     "name": "stdout",
     "output_type": "stream",
     "text": [
      "Downloading for realDonaldTrump\n"
     ]
    }
   ],
   "source": [
    "res = th.download_tweets_got3('realDonaldTrump',since = \"2018-09-24\", until = \"2020-04-08\")"
   ]
  },
  {
   "cell_type": "code",
   "execution_count": 41,
   "metadata": {},
   "outputs": [
    {
     "data": {
      "text/plain": [
       "(6737, 15)"
      ]
     },
     "execution_count": 41,
     "metadata": {},
     "output_type": "execute_result"
    }
   ],
   "source": [
    "res.shape"
   ]
  },
  {
   "cell_type": "markdown",
   "metadata": {},
   "source": [
    "However, although occuring very rarely, some tweets appear to be missing (and some rows are empty). Furthermore, retweets cannot be downloaded using GetOldTweets3. "
   ]
  },
  {
   "cell_type": "markdown",
   "metadata": {},
   "source": [
    "## 3. Download with Tweepy"
   ]
  },
  {
   "cell_type": "markdown",
   "metadata": {},
   "source": [
    "With Tweepy we can circumvent these shortcomings, i.e. we can download retweets and there is no information missing, as Tweepy is the official Twitter-API. However, as mentioned, there is a limit of 3200 Tweets per user. "
   ]
  },
  {
   "cell_type": "code",
   "execution_count": 42,
   "metadata": {},
   "outputs": [
    {
     "name": "stdout",
     "output_type": "stream",
     "text": [
      "Downloading for mvabercron\n",
      "Downloading for DorisAchelwilm\n",
      "Downloading for aggelidis_fdp\n"
     ]
    }
   ],
   "source": [
    "# download most recent tweets using tweepy (at most 3200 tweets per user)\n",
    "res_tweepy = pd.DataFrame()\n",
    "for username in twitter_account.iloc[0:3, 1]:\n",
    "    res_tweepy = pd.concat([res_tweepy, th.download_tweets_tweepy(username)])\n",
    "# again, add column 'name'\n",
    "res_tweepy = twitter_account.merge(res_tweepy, on = 'username')"
   ]
  },
  {
   "cell_type": "code",
   "execution_count": 43,
   "metadata": {},
   "outputs": [
    {
     "data": {
      "text/plain": [
       "Index(['name', 'username', '_api', '_json', 'created_at', 'id', 'id_str',\n",
       "       'full_text', 'truncated', 'display_text_range', 'entities',\n",
       "       'extended_entities', 'source', 'source_url', 'in_reply_to_status_id',\n",
       "       'in_reply_to_status_id_str', 'in_reply_to_user_id',\n",
       "       'in_reply_to_user_id_str', 'in_reply_to_screen_name', 'author', 'user',\n",
       "       'geo', 'coordinates', 'place', 'contributors', 'is_quote_status',\n",
       "       'retweet_count', 'favorite_count', 'favorited', 'retweeted',\n",
       "       'possibly_sensitive', 'lang', 'retweeted_status', 'quoted_status_id',\n",
       "       'quoted_status_id_str', 'quoted_status_permalink', 'quoted_status',\n",
       "       'withheld_in_countries'],\n",
       "      dtype='object')"
      ]
     },
     "execution_count": 43,
     "metadata": {},
     "output_type": "execute_result"
    }
   ],
   "source": [
    "res_tweepy.columns"
   ]
  },
  {
   "cell_type": "markdown",
   "metadata": {},
   "source": [
    "Columns that might be most important for us:"
   ]
  },
  {
   "cell_type": "code",
   "execution_count": 46,
   "metadata": {},
   "outputs": [
    {
     "data": {
      "text/plain": [
       "Index(['name', 'username', 'created_at', 'full_text', 'display_text_range',\n",
       "       'entities', 'in_reply_to_user_id_str', 'author', 'is_quote_status',\n",
       "       'retweet_count', 'favorite_count', 'favorited', 'retweeted',\n",
       "       'retweeted_status'],\n",
       "      dtype='object')"
      ]
     },
     "execution_count": 46,
     "metadata": {},
     "output_type": "execute_result"
    }
   ],
   "source": [
    "res_tweepy.iloc[:,[0,1,4,7,9,10,17,19,25,26,27,28,29,32]].columns"
   ]
  },
  {
   "cell_type": "code",
   "execution_count": 47,
   "metadata": {
    "scrolled": true
   },
   "outputs": [
    {
     "data": {
      "text/html": [
       "<div>\n",
       "<style scoped>\n",
       "    .dataframe tbody tr th:only-of-type {\n",
       "        vertical-align: middle;\n",
       "    }\n",
       "\n",
       "    .dataframe tbody tr th {\n",
       "        vertical-align: top;\n",
       "    }\n",
       "\n",
       "    .dataframe thead th {\n",
       "        text-align: right;\n",
       "    }\n",
       "</style>\n",
       "<table border=\"1\" class=\"dataframe\">\n",
       "  <thead>\n",
       "    <tr style=\"text-align: right;\">\n",
       "      <th></th>\n",
       "      <th>name</th>\n",
       "      <th>username</th>\n",
       "      <th>created_at</th>\n",
       "      <th>full_text</th>\n",
       "      <th>display_text_range</th>\n",
       "      <th>entities</th>\n",
       "      <th>in_reply_to_user_id_str</th>\n",
       "      <th>author</th>\n",
       "      <th>is_quote_status</th>\n",
       "      <th>retweet_count</th>\n",
       "      <th>favorite_count</th>\n",
       "      <th>favorited</th>\n",
       "      <th>retweeted</th>\n",
       "      <th>retweeted_status</th>\n",
       "    </tr>\n",
       "  </thead>\n",
       "  <tbody>\n",
       "    <tr>\n",
       "      <th>0</th>\n",
       "      <td>Abercron, Dr. Michael von</td>\n",
       "      <td>mvabercron</td>\n",
       "      <td>2020-04-10 14:10:03</td>\n",
       "      <td>Dieser Karfreitag wird anders sein als in den ...</td>\n",
       "      <td>[0, 204]</td>\n",
       "      <td>{'hashtags': [], 'symbols': [], 'user_mentions...</td>\n",
       "      <td>None</td>\n",
       "      <td>User(_api=&lt;tweepy.api.API object at 0x11355915...</td>\n",
       "      <td>False</td>\n",
       "      <td>1</td>\n",
       "      <td>3</td>\n",
       "      <td>False</td>\n",
       "      <td>False</td>\n",
       "      <td>NaN</td>\n",
       "    </tr>\n",
       "    <tr>\n",
       "      <th>1</th>\n",
       "      <td>Abercron, Dr. Michael von</td>\n",
       "      <td>mvabercron</td>\n",
       "      <td>2020-04-02 12:29:38</td>\n",
       "      <td>Uni fällt aus? Keine Angst, eine Pause im Lehr...</td>\n",
       "      <td>[0, 275]</td>\n",
       "      <td>{'hashtags': [{'text': 'BAföG', 'indices': [82...</td>\n",
       "      <td>None</td>\n",
       "      <td>User(_api=&lt;tweepy.api.API object at 0x11355915...</td>\n",
       "      <td>False</td>\n",
       "      <td>0</td>\n",
       "      <td>0</td>\n",
       "      <td>False</td>\n",
       "      <td>False</td>\n",
       "      <td>NaN</td>\n",
       "    </tr>\n",
       "    <tr>\n",
       "      <th>2</th>\n",
       "      <td>Abercron, Dr. Michael von</td>\n",
       "      <td>mvabercron</td>\n",
       "      <td>2020-04-01 19:21:32</td>\n",
       "      <td>Alle Unternehmen können vom #Corona-Sonderprog...</td>\n",
       "      <td>[0, 199]</td>\n",
       "      <td>{'hashtags': [{'text': 'Corona', 'indices': [2...</td>\n",
       "      <td>None</td>\n",
       "      <td>User(_api=&lt;tweepy.api.API object at 0x11355915...</td>\n",
       "      <td>False</td>\n",
       "      <td>2</td>\n",
       "      <td>1</td>\n",
       "      <td>False</td>\n",
       "      <td>False</td>\n",
       "      <td>NaN</td>\n",
       "    </tr>\n",
       "    <tr>\n",
       "      <th>3</th>\n",
       "      <td>Abercron, Dr. Michael von</td>\n",
       "      <td>mvabercron</td>\n",
       "      <td>2020-03-31 10:59:46</td>\n",
       "      <td>RT @cducsubt: .@gitta_connemann und @mvabercro...</td>\n",
       "      <td>[0, 140]</td>\n",
       "      <td>{'hashtags': [{'text': 'Corona', 'indices': [5...</td>\n",
       "      <td>None</td>\n",
       "      <td>User(_api=&lt;tweepy.api.API object at 0x11355915...</td>\n",
       "      <td>False</td>\n",
       "      <td>4</td>\n",
       "      <td>0</td>\n",
       "      <td>False</td>\n",
       "      <td>False</td>\n",
       "      <td>Status(_api=&lt;tweepy.api.API object at 0x113559...</td>\n",
       "    </tr>\n",
       "    <tr>\n",
       "      <th>4</th>\n",
       "      <td>Abercron, Dr. Michael von</td>\n",
       "      <td>mvabercron</td>\n",
       "      <td>2020-03-31 10:59:37</td>\n",
       "      <td>Wir kämpfen um jeden Job – durch Ausweitung d....</td>\n",
       "      <td>[0, 280]</td>\n",
       "      <td>{'hashtags': [{'text': 'wirhandeln', 'indices'...</td>\n",
       "      <td>None</td>\n",
       "      <td>User(_api=&lt;tweepy.api.API object at 0x11355915...</td>\n",
       "      <td>False</td>\n",
       "      <td>0</td>\n",
       "      <td>0</td>\n",
       "      <td>False</td>\n",
       "      <td>False</td>\n",
       "      <td>NaN</td>\n",
       "    </tr>\n",
       "    <tr>\n",
       "      <th>...</th>\n",
       "      <td>...</td>\n",
       "      <td>...</td>\n",
       "      <td>...</td>\n",
       "      <td>...</td>\n",
       "      <td>...</td>\n",
       "      <td>...</td>\n",
       "      <td>...</td>\n",
       "      <td>...</td>\n",
       "      <td>...</td>\n",
       "      <td>...</td>\n",
       "      <td>...</td>\n",
       "      <td>...</td>\n",
       "      <td>...</td>\n",
       "      <td>...</td>\n",
       "    </tr>\n",
       "    <tr>\n",
       "      <th>3880</th>\n",
       "      <td>Aggelidis, Grigorios</td>\n",
       "      <td>aggelidis_fdp</td>\n",
       "      <td>2018-04-20 10:52:34</td>\n",
       "      <td>@BAEKaktuell möchte durch eine zentrale Liste ...</td>\n",
       "      <td>[0, 265]</td>\n",
       "      <td>{'hashtags': [{'text': 'Schwangerschaftsabruch...</td>\n",
       "      <td>243143022</td>\n",
       "      <td>User(_api=&lt;tweepy.api.API object at 0x11355915...</td>\n",
       "      <td>False</td>\n",
       "      <td>0</td>\n",
       "      <td>1</td>\n",
       "      <td>False</td>\n",
       "      <td>False</td>\n",
       "      <td>NaN</td>\n",
       "    </tr>\n",
       "    <tr>\n",
       "      <th>3881</th>\n",
       "      <td>Aggelidis, Grigorios</td>\n",
       "      <td>aggelidis_fdp</td>\n",
       "      <td>2018-04-19 12:54:16</td>\n",
       "      <td>Erste Studie zeigt #baukindergeld entfalten ka...</td>\n",
       "      <td>[0, 212]</td>\n",
       "      <td>{'hashtags': [{'text': 'baukindergeld', 'indic...</td>\n",
       "      <td>None</td>\n",
       "      <td>User(_api=&lt;tweepy.api.API object at 0x11355915...</td>\n",
       "      <td>False</td>\n",
       "      <td>3</td>\n",
       "      <td>9</td>\n",
       "      <td>False</td>\n",
       "      <td>False</td>\n",
       "      <td>NaN</td>\n",
       "    </tr>\n",
       "    <tr>\n",
       "      <th>3882</th>\n",
       "      <td>Aggelidis, Grigorios</td>\n",
       "      <td>aggelidis_fdp</td>\n",
       "      <td>2018-04-18 14:53:22</td>\n",
       "      <td>Der Vorschlag von @hubertus_heil läuft an Lebe...</td>\n",
       "      <td>[0, 277]</td>\n",
       "      <td>{'hashtags': [{'text': 'Teilzeit', 'indices': ...</td>\n",
       "      <td>None</td>\n",
       "      <td>User(_api=&lt;tweepy.api.API object at 0x11355915...</td>\n",
       "      <td>False</td>\n",
       "      <td>0</td>\n",
       "      <td>2</td>\n",
       "      <td>False</td>\n",
       "      <td>False</td>\n",
       "      <td>NaN</td>\n",
       "    </tr>\n",
       "    <tr>\n",
       "      <th>3883</th>\n",
       "      <td>Aggelidis, Grigorios</td>\n",
       "      <td>aggelidis_fdp</td>\n",
       "      <td>2018-04-15 15:03:07</td>\n",
       "      <td>Fast noch wichtiger als die Reden sind die mot...</td>\n",
       "      <td>[0, 185]</td>\n",
       "      <td>{'hashtags': [{'text': 'fdplptnds', 'indices':...</td>\n",
       "      <td>None</td>\n",
       "      <td>User(_api=&lt;tweepy.api.API object at 0x11355915...</td>\n",
       "      <td>False</td>\n",
       "      <td>1</td>\n",
       "      <td>2</td>\n",
       "      <td>False</td>\n",
       "      <td>False</td>\n",
       "      <td>NaN</td>\n",
       "    </tr>\n",
       "    <tr>\n",
       "      <th>3884</th>\n",
       "      <td>Aggelidis, Grigorios</td>\n",
       "      <td>aggelidis_fdp</td>\n",
       "      <td>2018-04-14 17:59:14</td>\n",
       "      <td>Willkommen auf dem neuen Weg #fdplptnds\\nVor u...</td>\n",
       "      <td>[0, 184]</td>\n",
       "      <td>{'hashtags': [{'text': 'fdplptnds', 'indices':...</td>\n",
       "      <td>None</td>\n",
       "      <td>User(_api=&lt;tweepy.api.API object at 0x11355915...</td>\n",
       "      <td>False</td>\n",
       "      <td>0</td>\n",
       "      <td>0</td>\n",
       "      <td>False</td>\n",
       "      <td>False</td>\n",
       "      <td>NaN</td>\n",
       "    </tr>\n",
       "  </tbody>\n",
       "</table>\n",
       "<p>3885 rows × 14 columns</p>\n",
       "</div>"
      ],
      "text/plain": [
       "                           name       username          created_at  \\\n",
       "0     Abercron, Dr. Michael von     mvabercron 2020-04-10 14:10:03   \n",
       "1     Abercron, Dr. Michael von     mvabercron 2020-04-02 12:29:38   \n",
       "2     Abercron, Dr. Michael von     mvabercron 2020-04-01 19:21:32   \n",
       "3     Abercron, Dr. Michael von     mvabercron 2020-03-31 10:59:46   \n",
       "4     Abercron, Dr. Michael von     mvabercron 2020-03-31 10:59:37   \n",
       "...                         ...            ...                 ...   \n",
       "3880       Aggelidis, Grigorios  aggelidis_fdp 2018-04-20 10:52:34   \n",
       "3881       Aggelidis, Grigorios  aggelidis_fdp 2018-04-19 12:54:16   \n",
       "3882       Aggelidis, Grigorios  aggelidis_fdp 2018-04-18 14:53:22   \n",
       "3883       Aggelidis, Grigorios  aggelidis_fdp 2018-04-15 15:03:07   \n",
       "3884       Aggelidis, Grigorios  aggelidis_fdp 2018-04-14 17:59:14   \n",
       "\n",
       "                                              full_text display_text_range  \\\n",
       "0     Dieser Karfreitag wird anders sein als in den ...           [0, 204]   \n",
       "1     Uni fällt aus? Keine Angst, eine Pause im Lehr...           [0, 275]   \n",
       "2     Alle Unternehmen können vom #Corona-Sonderprog...           [0, 199]   \n",
       "3     RT @cducsubt: .@gitta_connemann und @mvabercro...           [0, 140]   \n",
       "4     Wir kämpfen um jeden Job – durch Ausweitung d....           [0, 280]   \n",
       "...                                                 ...                ...   \n",
       "3880  @BAEKaktuell möchte durch eine zentrale Liste ...           [0, 265]   \n",
       "3881  Erste Studie zeigt #baukindergeld entfalten ka...           [0, 212]   \n",
       "3882  Der Vorschlag von @hubertus_heil läuft an Lebe...           [0, 277]   \n",
       "3883  Fast noch wichtiger als die Reden sind die mot...           [0, 185]   \n",
       "3884  Willkommen auf dem neuen Weg #fdplptnds\\nVor u...           [0, 184]   \n",
       "\n",
       "                                               entities  \\\n",
       "0     {'hashtags': [], 'symbols': [], 'user_mentions...   \n",
       "1     {'hashtags': [{'text': 'BAföG', 'indices': [82...   \n",
       "2     {'hashtags': [{'text': 'Corona', 'indices': [2...   \n",
       "3     {'hashtags': [{'text': 'Corona', 'indices': [5...   \n",
       "4     {'hashtags': [{'text': 'wirhandeln', 'indices'...   \n",
       "...                                                 ...   \n",
       "3880  {'hashtags': [{'text': 'Schwangerschaftsabruch...   \n",
       "3881  {'hashtags': [{'text': 'baukindergeld', 'indic...   \n",
       "3882  {'hashtags': [{'text': 'Teilzeit', 'indices': ...   \n",
       "3883  {'hashtags': [{'text': 'fdplptnds', 'indices':...   \n",
       "3884  {'hashtags': [{'text': 'fdplptnds', 'indices':...   \n",
       "\n",
       "     in_reply_to_user_id_str  \\\n",
       "0                       None   \n",
       "1                       None   \n",
       "2                       None   \n",
       "3                       None   \n",
       "4                       None   \n",
       "...                      ...   \n",
       "3880               243143022   \n",
       "3881                    None   \n",
       "3882                    None   \n",
       "3883                    None   \n",
       "3884                    None   \n",
       "\n",
       "                                                 author  is_quote_status  \\\n",
       "0     User(_api=<tweepy.api.API object at 0x11355915...            False   \n",
       "1     User(_api=<tweepy.api.API object at 0x11355915...            False   \n",
       "2     User(_api=<tweepy.api.API object at 0x11355915...            False   \n",
       "3     User(_api=<tweepy.api.API object at 0x11355915...            False   \n",
       "4     User(_api=<tweepy.api.API object at 0x11355915...            False   \n",
       "...                                                 ...              ...   \n",
       "3880  User(_api=<tweepy.api.API object at 0x11355915...            False   \n",
       "3881  User(_api=<tweepy.api.API object at 0x11355915...            False   \n",
       "3882  User(_api=<tweepy.api.API object at 0x11355915...            False   \n",
       "3883  User(_api=<tweepy.api.API object at 0x11355915...            False   \n",
       "3884  User(_api=<tweepy.api.API object at 0x11355915...            False   \n",
       "\n",
       "      retweet_count  favorite_count  favorited  retweeted  \\\n",
       "0                 1               3      False      False   \n",
       "1                 0               0      False      False   \n",
       "2                 2               1      False      False   \n",
       "3                 4               0      False      False   \n",
       "4                 0               0      False      False   \n",
       "...             ...             ...        ...        ...   \n",
       "3880              0               1      False      False   \n",
       "3881              3               9      False      False   \n",
       "3882              0               2      False      False   \n",
       "3883              1               2      False      False   \n",
       "3884              0               0      False      False   \n",
       "\n",
       "                                       retweeted_status  \n",
       "0                                                   NaN  \n",
       "1                                                   NaN  \n",
       "2                                                   NaN  \n",
       "3     Status(_api=<tweepy.api.API object at 0x113559...  \n",
       "4                                                   NaN  \n",
       "...                                                 ...  \n",
       "3880                                                NaN  \n",
       "3881                                                NaN  \n",
       "3882                                                NaN  \n",
       "3883                                                NaN  \n",
       "3884                                                NaN  \n",
       "\n",
       "[3885 rows x 14 columns]"
      ]
     },
     "execution_count": 47,
     "metadata": {},
     "output_type": "execute_result"
    }
   ],
   "source": [
    "res_tweepy.iloc[:,[0,1,4,7,9,10,17,19,25,26,27,28,29,32]]"
   ]
  },
  {
   "cell_type": "markdown",
   "metadata": {},
   "source": [
    "If 'in_reply_to_user_id_str' is not 'None', the tweet is a reply to another tweet. If 'is_quote_status' is not 'False', the tweet is a quote (check definition of quotes in twitter if unknown)."
   ]
  },
  {
   "cell_type": "markdown",
   "metadata": {},
   "source": [
    "### Author and User"
   ]
  },
  {
   "cell_type": "code",
   "execution_count": 48,
   "metadata": {},
   "outputs": [
    {
     "data": {
      "text/plain": [
       "19"
      ]
     },
     "execution_count": 48,
     "metadata": {},
     "output_type": "execute_result"
    }
   ],
   "source": [
    "res_tweepy.columns.get_loc('author')"
   ]
  },
  {
   "cell_type": "code",
   "execution_count": 49,
   "metadata": {},
   "outputs": [
    {
     "data": {
      "text/plain": [
       "20"
      ]
     },
     "execution_count": 49,
     "metadata": {},
     "output_type": "execute_result"
    }
   ],
   "source": [
    "res_tweepy.columns.get_loc('user')"
   ]
  },
  {
   "cell_type": "code",
   "execution_count": 50,
   "metadata": {},
   "outputs": [
    {
     "data": {
      "text/plain": [
       "User(_api=<tweepy.api.API object at 0x113559150>, _json={'id': 862747349277450240, 'id_str': '862747349277450240', 'name': 'Dr. Michael von Abercron MdB', 'screen_name': 'mvabercron', 'location': 'Pinneberg, Deutschland', 'description': 'Direkt gewählter Bundestagsabgeordneter aus dem Wahlkreis Pinneberg | Es schreiben Michael von Abercron und sein Team', 'url': 'https://t.co/5Qqm51N9U8', 'entities': {'url': {'urls': [{'url': 'https://t.co/5Qqm51N9U8', 'expanded_url': 'http://www.von-abercron.de', 'display_url': 'von-abercron.de', 'indices': [0, 23]}]}, 'description': {'urls': []}}, 'protected': False, 'followers_count': 750, 'friends_count': 674, 'listed_count': 46, 'created_at': 'Thu May 11 19:12:51 +0000 2017', 'favourites_count': 162, 'utc_offset': None, 'time_zone': None, 'geo_enabled': False, 'verified': True, 'statuses_count': 187, 'lang': None, 'contributors_enabled': False, 'is_translator': False, 'is_translation_enabled': False, 'profile_background_color': '000000', 'profile_background_image_url': 'http://abs.twimg.com/images/themes/theme1/bg.png', 'profile_background_image_url_https': 'https://abs.twimg.com/images/themes/theme1/bg.png', 'profile_background_tile': False, 'profile_image_url': 'http://pbs.twimg.com/profile_images/986200892566360065/KuYwECSZ_normal.jpg', 'profile_image_url_https': 'https://pbs.twimg.com/profile_images/986200892566360065/KuYwECSZ_normal.jpg', 'profile_banner_url': 'https://pbs.twimg.com/profile_banners/862747349277450240/1506789651', 'profile_link_color': '485152', 'profile_sidebar_border_color': '000000', 'profile_sidebar_fill_color': '000000', 'profile_text_color': '000000', 'profile_use_background_image': False, 'has_extended_profile': True, 'default_profile': False, 'default_profile_image': False, 'following': False, 'follow_request_sent': False, 'notifications': False, 'translator_type': 'none'}, id=862747349277450240, id_str='862747349277450240', name='Dr. Michael von Abercron MdB', screen_name='mvabercron', location='Pinneberg, Deutschland', description='Direkt gewählter Bundestagsabgeordneter aus dem Wahlkreis Pinneberg | Es schreiben Michael von Abercron und sein Team', url='https://t.co/5Qqm51N9U8', entities={'url': {'urls': [{'url': 'https://t.co/5Qqm51N9U8', 'expanded_url': 'http://www.von-abercron.de', 'display_url': 'von-abercron.de', 'indices': [0, 23]}]}, 'description': {'urls': []}}, protected=False, followers_count=750, friends_count=674, listed_count=46, created_at=datetime.datetime(2017, 5, 11, 19, 12, 51), favourites_count=162, utc_offset=None, time_zone=None, geo_enabled=False, verified=True, statuses_count=187, lang=None, contributors_enabled=False, is_translator=False, is_translation_enabled=False, profile_background_color='000000', profile_background_image_url='http://abs.twimg.com/images/themes/theme1/bg.png', profile_background_image_url_https='https://abs.twimg.com/images/themes/theme1/bg.png', profile_background_tile=False, profile_image_url='http://pbs.twimg.com/profile_images/986200892566360065/KuYwECSZ_normal.jpg', profile_image_url_https='https://pbs.twimg.com/profile_images/986200892566360065/KuYwECSZ_normal.jpg', profile_banner_url='https://pbs.twimg.com/profile_banners/862747349277450240/1506789651', profile_link_color='485152', profile_sidebar_border_color='000000', profile_sidebar_fill_color='000000', profile_text_color='000000', profile_use_background_image=False, has_extended_profile=True, default_profile=False, default_profile_image=False, following=False, follow_request_sent=False, notifications=False, translator_type='none')"
      ]
     },
     "execution_count": 50,
     "metadata": {},
     "output_type": "execute_result"
    }
   ],
   "source": [
    "res_tweepy.iloc[3,19]"
   ]
  },
  {
   "cell_type": "code",
   "execution_count": 51,
   "metadata": {},
   "outputs": [
    {
     "data": {
      "text/plain": [
       "User(_api=<tweepy.api.API object at 0x113559150>, _json={'id': 862747349277450240, 'id_str': '862747349277450240', 'name': 'Dr. Michael von Abercron MdB', 'screen_name': 'mvabercron', 'location': 'Pinneberg, Deutschland', 'description': 'Direkt gewählter Bundestagsabgeordneter aus dem Wahlkreis Pinneberg | Es schreiben Michael von Abercron und sein Team', 'url': 'https://t.co/5Qqm51N9U8', 'entities': {'url': {'urls': [{'url': 'https://t.co/5Qqm51N9U8', 'expanded_url': 'http://www.von-abercron.de', 'display_url': 'von-abercron.de', 'indices': [0, 23]}]}, 'description': {'urls': []}}, 'protected': False, 'followers_count': 750, 'friends_count': 674, 'listed_count': 46, 'created_at': 'Thu May 11 19:12:51 +0000 2017', 'favourites_count': 162, 'utc_offset': None, 'time_zone': None, 'geo_enabled': False, 'verified': True, 'statuses_count': 187, 'lang': None, 'contributors_enabled': False, 'is_translator': False, 'is_translation_enabled': False, 'profile_background_color': '000000', 'profile_background_image_url': 'http://abs.twimg.com/images/themes/theme1/bg.png', 'profile_background_image_url_https': 'https://abs.twimg.com/images/themes/theme1/bg.png', 'profile_background_tile': False, 'profile_image_url': 'http://pbs.twimg.com/profile_images/986200892566360065/KuYwECSZ_normal.jpg', 'profile_image_url_https': 'https://pbs.twimg.com/profile_images/986200892566360065/KuYwECSZ_normal.jpg', 'profile_banner_url': 'https://pbs.twimg.com/profile_banners/862747349277450240/1506789651', 'profile_link_color': '485152', 'profile_sidebar_border_color': '000000', 'profile_sidebar_fill_color': '000000', 'profile_text_color': '000000', 'profile_use_background_image': False, 'has_extended_profile': True, 'default_profile': False, 'default_profile_image': False, 'following': False, 'follow_request_sent': False, 'notifications': False, 'translator_type': 'none'}, id=862747349277450240, id_str='862747349277450240', name='Dr. Michael von Abercron MdB', screen_name='mvabercron', location='Pinneberg, Deutschland', description='Direkt gewählter Bundestagsabgeordneter aus dem Wahlkreis Pinneberg | Es schreiben Michael von Abercron und sein Team', url='https://t.co/5Qqm51N9U8', entities={'url': {'urls': [{'url': 'https://t.co/5Qqm51N9U8', 'expanded_url': 'http://www.von-abercron.de', 'display_url': 'von-abercron.de', 'indices': [0, 23]}]}, 'description': {'urls': []}}, protected=False, followers_count=750, friends_count=674, listed_count=46, created_at=datetime.datetime(2017, 5, 11, 19, 12, 51), favourites_count=162, utc_offset=None, time_zone=None, geo_enabled=False, verified=True, statuses_count=187, lang=None, contributors_enabled=False, is_translator=False, is_translation_enabled=False, profile_background_color='000000', profile_background_image_url='http://abs.twimg.com/images/themes/theme1/bg.png', profile_background_image_url_https='https://abs.twimg.com/images/themes/theme1/bg.png', profile_background_tile=False, profile_image_url='http://pbs.twimg.com/profile_images/986200892566360065/KuYwECSZ_normal.jpg', profile_image_url_https='https://pbs.twimg.com/profile_images/986200892566360065/KuYwECSZ_normal.jpg', profile_banner_url='https://pbs.twimg.com/profile_banners/862747349277450240/1506789651', profile_link_color='485152', profile_sidebar_border_color='000000', profile_sidebar_fill_color='000000', profile_text_color='000000', profile_use_background_image=False, has_extended_profile=True, default_profile=False, default_profile_image=False, following=False, follow_request_sent=False, notifications=False, translator_type='none')"
      ]
     },
     "execution_count": 51,
     "metadata": {},
     "output_type": "execute_result"
    }
   ],
   "source": [
    "res_tweepy.iloc[3,20]"
   ]
  },
  {
   "cell_type": "markdown",
   "metadata": {},
   "source": [
    "We see that 'author' and 'user' are essentially the same. On Stackoverflow it's stated that 'user' is deprecated, thus we should use 'author' (if needed)."
   ]
  },
  {
   "cell_type": "markdown",
   "metadata": {},
   "source": [
    "The following fields of the 'author' object might be interesting for us:"
   ]
  },
  {
   "cell_type": "code",
   "execution_count": 52,
   "metadata": {},
   "outputs": [
    {
     "data": {
      "text/plain": [
       "'Direkt gewählter Bundestagsabgeordneter aus dem Wahlkreis Pinneberg | Es schreiben Michael von Abercron und sein Team'"
      ]
     },
     "execution_count": 52,
     "metadata": {},
     "output_type": "execute_result"
    }
   ],
   "source": [
    "res_tweepy.iloc[3,19].description"
   ]
  },
  {
   "cell_type": "code",
   "execution_count": 53,
   "metadata": {},
   "outputs": [
    {
     "data": {
      "text/plain": [
       "'Pinneberg, Deutschland'"
      ]
     },
     "execution_count": 53,
     "metadata": {},
     "output_type": "execute_result"
    }
   ],
   "source": [
    "res_tweepy.iloc[3,19].location"
   ]
  },
  {
   "cell_type": "markdown",
   "metadata": {},
   "source": [
    "The number of followers this account currently has:"
   ]
  },
  {
   "cell_type": "code",
   "execution_count": 54,
   "metadata": {},
   "outputs": [
    {
     "data": {
      "text/plain": [
       "750"
      ]
     },
     "execution_count": 54,
     "metadata": {},
     "output_type": "execute_result"
    }
   ],
   "source": [
    "res_tweepy.iloc[3,19].followers_count"
   ]
  },
  {
   "cell_type": "markdown",
   "metadata": {},
   "source": [
    "The number of users this account is following (AKA their “followings”):"
   ]
  },
  {
   "cell_type": "code",
   "execution_count": 55,
   "metadata": {},
   "outputs": [
    {
     "data": {
      "text/plain": [
       "674"
      ]
     },
     "execution_count": 55,
     "metadata": {},
     "output_type": "execute_result"
    }
   ],
   "source": [
    "res_tweepy.iloc[3,19].friends_count"
   ]
  },
  {
   "cell_type": "markdown",
   "metadata": {},
   "source": [
    "The number of public lists that this user is a member of:"
   ]
  },
  {
   "cell_type": "code",
   "execution_count": 56,
   "metadata": {},
   "outputs": [
    {
     "data": {
      "text/plain": [
       "46"
      ]
     },
     "execution_count": 56,
     "metadata": {},
     "output_type": "execute_result"
    }
   ],
   "source": [
    "res_tweepy.iloc[3,19].listed_count"
   ]
  },
  {
   "cell_type": "markdown",
   "metadata": {},
   "source": [
    "The number of Tweets this user has liked in the account’s lifetime:"
   ]
  },
  {
   "cell_type": "code",
   "execution_count": 57,
   "metadata": {},
   "outputs": [
    {
     "data": {
      "text/plain": [
       "162"
      ]
     },
     "execution_count": 57,
     "metadata": {},
     "output_type": "execute_result"
    }
   ],
   "source": [
    "res_tweepy.iloc[3,19].favourites_count"
   ]
  },
  {
   "cell_type": "markdown",
   "metadata": {},
   "source": [
    "### Retweets"
   ]
  },
  {
   "cell_type": "markdown",
   "metadata": {},
   "source": [
    "By column 'retweeted_status' it can be checked, whether tweet is a retweet or a new tweet. Retweets are truncated to 140 characters:"
   ]
  },
  {
   "cell_type": "code",
   "execution_count": 61,
   "metadata": {},
   "outputs": [
    {
     "data": {
      "text/plain": [
       "32"
      ]
     },
     "execution_count": 61,
     "metadata": {},
     "output_type": "execute_result"
    }
   ],
   "source": [
    "res_tweepy.columns.get_loc('retweeted_status')"
   ]
  },
  {
   "cell_type": "code",
   "execution_count": 58,
   "metadata": {},
   "outputs": [
    {
     "data": {
      "text/html": [
       "<div>\n",
       "<style scoped>\n",
       "    .dataframe tbody tr th:only-of-type {\n",
       "        vertical-align: middle;\n",
       "    }\n",
       "\n",
       "    .dataframe tbody tr th {\n",
       "        vertical-align: top;\n",
       "    }\n",
       "\n",
       "    .dataframe thead th {\n",
       "        text-align: right;\n",
       "    }\n",
       "</style>\n",
       "<table border=\"1\" class=\"dataframe\">\n",
       "  <thead>\n",
       "    <tr style=\"text-align: right;\">\n",
       "      <th></th>\n",
       "      <th>display_text_range</th>\n",
       "      <th>retweeted_status</th>\n",
       "    </tr>\n",
       "  </thead>\n",
       "  <tbody>\n",
       "    <tr>\n",
       "      <th>0</th>\n",
       "      <td>[0, 204]</td>\n",
       "      <td>NaN</td>\n",
       "    </tr>\n",
       "    <tr>\n",
       "      <th>1</th>\n",
       "      <td>[0, 275]</td>\n",
       "      <td>NaN</td>\n",
       "    </tr>\n",
       "    <tr>\n",
       "      <th>2</th>\n",
       "      <td>[0, 199]</td>\n",
       "      <td>NaN</td>\n",
       "    </tr>\n",
       "    <tr>\n",
       "      <th>3</th>\n",
       "      <td>[0, 140]</td>\n",
       "      <td>Status(_api=&lt;tweepy.api.API object at 0x113559...</td>\n",
       "    </tr>\n",
       "    <tr>\n",
       "      <th>4</th>\n",
       "      <td>[0, 280]</td>\n",
       "      <td>NaN</td>\n",
       "    </tr>\n",
       "    <tr>\n",
       "      <th>...</th>\n",
       "      <td>...</td>\n",
       "      <td>...</td>\n",
       "    </tr>\n",
       "    <tr>\n",
       "      <th>3880</th>\n",
       "      <td>[0, 265]</td>\n",
       "      <td>NaN</td>\n",
       "    </tr>\n",
       "    <tr>\n",
       "      <th>3881</th>\n",
       "      <td>[0, 212]</td>\n",
       "      <td>NaN</td>\n",
       "    </tr>\n",
       "    <tr>\n",
       "      <th>3882</th>\n",
       "      <td>[0, 277]</td>\n",
       "      <td>NaN</td>\n",
       "    </tr>\n",
       "    <tr>\n",
       "      <th>3883</th>\n",
       "      <td>[0, 185]</td>\n",
       "      <td>NaN</td>\n",
       "    </tr>\n",
       "    <tr>\n",
       "      <th>3884</th>\n",
       "      <td>[0, 184]</td>\n",
       "      <td>NaN</td>\n",
       "    </tr>\n",
       "  </tbody>\n",
       "</table>\n",
       "<p>3885 rows × 2 columns</p>\n",
       "</div>"
      ],
      "text/plain": [
       "     display_text_range                                   retweeted_status\n",
       "0              [0, 204]                                                NaN\n",
       "1              [0, 275]                                                NaN\n",
       "2              [0, 199]                                                NaN\n",
       "3              [0, 140]  Status(_api=<tweepy.api.API object at 0x113559...\n",
       "4              [0, 280]                                                NaN\n",
       "...                 ...                                                ...\n",
       "3880           [0, 265]                                                NaN\n",
       "3881           [0, 212]                                                NaN\n",
       "3882           [0, 277]                                                NaN\n",
       "3883           [0, 185]                                                NaN\n",
       "3884           [0, 184]                                                NaN\n",
       "\n",
       "[3885 rows x 2 columns]"
      ]
     },
     "execution_count": 58,
     "metadata": {},
     "output_type": "execute_result"
    }
   ],
   "source": [
    "res_tweepy[['display_text_range','retweeted_status']]"
   ]
  },
  {
   "cell_type": "markdown",
   "metadata": {},
   "source": [
    "We can retrieve the full text of a retweet by accessing the attribute 'full_text' of the tweepy object in column 'retweeted_status' (if the tweet is a retweet, in which case the value in this column is not NaN):"
   ]
  },
  {
   "cell_type": "code",
   "execution_count": 60,
   "metadata": {},
   "outputs": [
    {
     "data": {
      "text/plain": [
       "'.@gitta_connemann und @mvabercron erklären: #Corona-Soforthilfen auch für Höfe, Forstbetriebe und landwirtschaftlichen Gartenbau  https://t.co/CRADyyuX4D'"
      ]
     },
     "execution_count": 60,
     "metadata": {},
     "output_type": "execute_result"
    }
   ],
   "source": [
    "res_tweepy.iloc[3,32].full_text"
   ]
  },
  {
   "cell_type": "markdown",
   "metadata": {},
   "source": [
    "### Additional Information - 'entities'"
   ]
  },
  {
   "cell_type": "markdown",
   "metadata": {},
   "source": [
    "For each tweet, column 'entities' contains a dict with additional information, such as hashtags or users and urls that are mentioned in the tweet."
   ]
  },
  {
   "cell_type": "code",
   "execution_count": 62,
   "metadata": {},
   "outputs": [
    {
     "data": {
      "text/plain": [
       "10"
      ]
     },
     "execution_count": 62,
     "metadata": {},
     "output_type": "execute_result"
    }
   ],
   "source": [
    "res_tweepy.columns.get_loc('entities')"
   ]
  },
  {
   "cell_type": "code",
   "execution_count": 63,
   "metadata": {},
   "outputs": [
    {
     "data": {
      "text/plain": [
       "{'hashtags': [{'text': 'Corona', 'indices': [58, 65]}],\n",
       " 'symbols': [],\n",
       " 'user_mentions': [{'screen_name': 'cducsubt',\n",
       "   'name': 'CDU/CSU',\n",
       "   'id': 46085533,\n",
       "   'id_str': '46085533',\n",
       "   'indices': [3, 12]},\n",
       "  {'screen_name': 'gitta_connemann',\n",
       "   'name': 'Gitta Connemann',\n",
       "   'id': 1125751445205262336,\n",
       "   'id_str': '1125751445205262336',\n",
       "   'indices': [15, 31]},\n",
       "  {'screen_name': 'mvabercron',\n",
       "   'name': 'Dr. Michael von Abercron MdB',\n",
       "   'id': 862747349277450240,\n",
       "   'id_str': '862747349277450240',\n",
       "   'indices': [36, 47]}],\n",
       " 'urls': []}"
      ]
     },
     "execution_count": 63,
     "metadata": {},
     "output_type": "execute_result"
    }
   ],
   "source": [
    "# value of 'entities' for the 4th downloaded tweet\n",
    "res_tweepy.iloc[3,10]"
   ]
  },
  {
   "cell_type": "code",
   "execution_count": 65,
   "metadata": {},
   "outputs": [
    {
     "data": {
      "text/plain": [
       "'Corona'"
      ]
     },
     "execution_count": 65,
     "metadata": {},
     "output_type": "execute_result"
    }
   ],
   "source": [
    "# Access first hashtag of this tweet (in this case the only hashtag)\n",
    "res_tweepy.iloc[3,10]['hashtags'][0]['text']"
   ]
  },
  {
   "cell_type": "code",
   "execution_count": 67,
   "metadata": {},
   "outputs": [
    {
     "data": {
      "text/plain": [
       "'Gitta Connemann'"
      ]
     },
     "execution_count": 67,
     "metadata": {},
     "output_type": "execute_result"
    }
   ],
   "source": [
    "# obtain username of second user that is mentioned\n",
    "res_tweepy.iloc[3,10]['user_mentions'][1]['name']"
   ]
  }
 ],
 "metadata": {
  "kernelspec": {
   "display_name": "Python 3",
   "language": "python",
   "name": "python3"
  },
  "language_info": {
   "codemirror_mode": {
    "name": "ipython",
    "version": 3
   },
   "file_extension": ".py",
   "mimetype": "text/x-python",
   "name": "python",
   "nbconvert_exporter": "python",
   "pygments_lexer": "ipython3",
   "version": "3.7.6"
  }
 },
 "nbformat": 4,
 "nbformat_minor": 4
}
