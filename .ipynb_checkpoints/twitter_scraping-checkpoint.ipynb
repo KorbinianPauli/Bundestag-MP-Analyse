{
 "cells": [
  {
   "cell_type": "markdown",
   "metadata": {},
   "source": [
    "# Downloading data from Twitter"
   ]
  },
  {
   "cell_type": "markdown",
   "metadata": {},
   "source": [
    "Note that the functions used for preprocessing and downloading are imported from our script 'twitter_helpers'."
   ]
  },
  {
   "cell_type": "code",
   "execution_count": 1,
   "metadata": {},
   "outputs": [],
   "source": [
    "import pandas as pd\n",
    "import pickle\n",
    "import twitter_helpers as th\n",
    "\n",
    "# set local working directory\n",
    "# import os\n",
    "# os.chdir('/Users/patrickschulze/Desktop/Consulting/Bundestag-MP-Analyse/')"
   ]
  },
  {
   "cell_type": "markdown",
   "metadata": {},
   "source": [
    "## 1. Data Import and Preprocessing"
   ]
  },
  {
   "cell_type": "code",
   "execution_count": 2,
   "metadata": {},
   "outputs": [],
   "source": [
    "# import Bundestag data\n",
    "with open('abg_df.pickle', 'rb') as handle:\n",
    "    bt_data = pickle.load(handle)\n"
   ]
  },
  {
   "cell_type": "code",
   "execution_count": 3,
   "metadata": {},
   "outputs": [],
   "source": [
    "# extract name and url for each member\n",
    "url = bt_data['Soziale Medien'].apply(th.get_twitter_url)\n",
    "twitter_account = pd.concat([bt_data['Name'], url], axis = 1, \\\n",
    "                            keys = ['name','url'])"
   ]
  },
  {
   "cell_type": "code",
   "execution_count": 4,
   "metadata": {},
   "outputs": [],
   "source": [
    "# convert twitter url to username for each member\n",
    "twitter_usernames = twitter_account['url'].apply(th.get_twitter_username)\n",
    "twitter_usernames.rename(\"username\", inplace = True)\n",
    "twitter_account = pd.concat([twitter_account, twitter_usernames], axis = 1)"
   ]
  },
  {
   "cell_type": "markdown",
   "metadata": {},
   "source": [
    "## 2. Download with GetOldTweets3"
   ]
  },
  {
   "cell_type": "markdown",
   "metadata": {},
   "source": [
    "GetOldTweets3 is an \"inofficial\" Python module, which can be used to scrape tweets and other information from Twitter. While the official Twitter-API Tweepy has a limit of 3200 Tweets per user, with GetOldTweets3 it is possible to download an unlimited number of tweets for a given user. "
   ]
  },
  {
   "cell_type": "code",
   "execution_count": 5,
   "metadata": {},
   "outputs": [
    {
     "name": "stdout",
     "output_type": "stream",
     "text": [
      "Downloading for mvabercron\n",
      "Downloading for DorisAchelwilm\n",
      "Downloading for aggelidis_fdp\n"
     ]
    }
   ],
   "source": [
    "# download tweets using GetOldTweets3 for specified time period\n",
    "res_got3 = pd.DataFrame()\n",
    "for username in twitter_account.iloc[0:3, 2]:\n",
    "    res_got3 = pd.concat([res_got3, th.download_tweets_got3(username, since = \"2017-09-24\", \\\n",
    "                                          until = \"2020-04-08\")])"
   ]
  },
  {
   "cell_type": "code",
   "execution_count": 6,
   "metadata": {},
   "outputs": [
    {
     "data": {
      "text/html": [
       "<div>\n",
       "<style scoped>\n",
       "    .dataframe tbody tr th:only-of-type {\n",
       "        vertical-align: middle;\n",
       "    }\n",
       "\n",
       "    .dataframe tbody tr th {\n",
       "        vertical-align: top;\n",
       "    }\n",
       "\n",
       "    .dataframe thead th {\n",
       "        text-align: right;\n",
       "    }\n",
       "</style>\n",
       "<table border=\"1\" class=\"dataframe\">\n",
       "  <thead>\n",
       "    <tr style=\"text-align: right;\">\n",
       "      <th></th>\n",
       "      <th>username</th>\n",
       "      <th>to</th>\n",
       "      <th>text</th>\n",
       "      <th>retweets</th>\n",
       "      <th>favorites</th>\n",
       "      <th>replies</th>\n",
       "      <th>id</th>\n",
       "      <th>permalink</th>\n",
       "      <th>author_id</th>\n",
       "      <th>date</th>\n",
       "      <th>formatted_date</th>\n",
       "      <th>hashtags</th>\n",
       "      <th>mentions</th>\n",
       "      <th>geo</th>\n",
       "      <th>urls</th>\n",
       "    </tr>\n",
       "  </thead>\n",
       "  <tbody>\n",
       "    <tr>\n",
       "      <th>0</th>\n",
       "      <td>mvabercron</td>\n",
       "      <td>None</td>\n",
       "      <td>Uni fällt aus? Keine Angst, eine Pause im Lehr...</td>\n",
       "      <td>0</td>\n",
       "      <td>0</td>\n",
       "      <td>1</td>\n",
       "      <td>1245689849627258881</td>\n",
       "      <td>https://twitter.com/mvabercron/status/12456898...</td>\n",
       "      <td>862747349277450240</td>\n",
       "      <td>2020-04-02 12:29:38+00:00</td>\n",
       "      <td>Thu Apr 02 12:29:38 +0000 2020</td>\n",
       "      <td>#BAf #Corona</td>\n",
       "      <td></td>\n",
       "      <td></td>\n",
       "      <td>https://cducsu.cc/3alyQN7</td>\n",
       "    </tr>\n",
       "    <tr>\n",
       "      <th>1</th>\n",
       "      <td>mvabercron</td>\n",
       "      <td>None</td>\n",
       "      <td>Alle Unternehmen können vom #Corona-Sonderprog...</td>\n",
       "      <td>2</td>\n",
       "      <td>1</td>\n",
       "      <td>1</td>\n",
       "      <td>1245431118968631297</td>\n",
       "      <td>https://twitter.com/mvabercron/status/12454311...</td>\n",
       "      <td>862747349277450240</td>\n",
       "      <td>2020-04-01 19:21:32+00:00</td>\n",
       "      <td>Wed Apr 01 19:21:32 +0000 2020</td>\n",
       "      <td>#Corona #wirhandeln</td>\n",
       "      <td></td>\n",
       "      <td></td>\n",
       "      <td>https://cducsu.cc/3alyQN7</td>\n",
       "    </tr>\n",
       "    <tr>\n",
       "      <th>2</th>\n",
       "      <td>mvabercron</td>\n",
       "      <td>None</td>\n",
       "      <td>Wir kämpfen um jeden Job – durch Ausweitung d....</td>\n",
       "      <td>0</td>\n",
       "      <td>0</td>\n",
       "      <td>0</td>\n",
       "      <td>1244942420841725954</td>\n",
       "      <td>https://twitter.com/mvabercron/status/12449424...</td>\n",
       "      <td>862747349277450240</td>\n",
       "      <td>2020-03-31 10:59:37+00:00</td>\n",
       "      <td>Tue Mar 31 10:59:37 +0000 2020</td>\n",
       "      <td>#wirhandeln</td>\n",
       "      <td></td>\n",
       "      <td></td>\n",
       "      <td>https://cducsu.cc/3alyQN7</td>\n",
       "    </tr>\n",
       "    <tr>\n",
       "      <th>3</th>\n",
       "      <td>mvabercron</td>\n",
       "      <td>None</td>\n",
       "      <td>Schnelle #Corona-Hilfe für Familien: Für den K...</td>\n",
       "      <td>0</td>\n",
       "      <td>0</td>\n",
       "      <td>0</td>\n",
       "      <td>1244646897714855939</td>\n",
       "      <td>https://twitter.com/mvabercron/status/12446468...</td>\n",
       "      <td>862747349277450240</td>\n",
       "      <td>2020-03-30 15:25:19+00:00</td>\n",
       "      <td>Mon Mar 30 15:25:19 +0000 2020</td>\n",
       "      <td>#Corona #wirhandeln</td>\n",
       "      <td></td>\n",
       "      <td></td>\n",
       "      <td>https://bit.ly/2Utk4OL</td>\n",
       "    </tr>\n",
       "    <tr>\n",
       "      <th>4</th>\n",
       "      <td>mvabercron</td>\n",
       "      <td>None</td>\n",
       "      <td>Der #Bundestag passt das #Infektionsschutzgese...</td>\n",
       "      <td>0</td>\n",
       "      <td>2</td>\n",
       "      <td>0</td>\n",
       "      <td>1242874119139590147</td>\n",
       "      <td>https://twitter.com/mvabercron/status/12428741...</td>\n",
       "      <td>862747349277450240</td>\n",
       "      <td>2020-03-25 18:00:56+00:00</td>\n",
       "      <td>Wed Mar 25 18:00:56 +0000 2020</td>\n",
       "      <td>#Bundestag #Infektionsschutzgesetz #Corona</td>\n",
       "      <td></td>\n",
       "      <td></td>\n",
       "      <td></td>\n",
       "    </tr>\n",
       "    <tr>\n",
       "      <th>...</th>\n",
       "      <td>...</td>\n",
       "      <td>...</td>\n",
       "      <td>...</td>\n",
       "      <td>...</td>\n",
       "      <td>...</td>\n",
       "      <td>...</td>\n",
       "      <td>...</td>\n",
       "      <td>...</td>\n",
       "      <td>...</td>\n",
       "      <td>...</td>\n",
       "      <td>...</td>\n",
       "      <td>...</td>\n",
       "      <td>...</td>\n",
       "      <td>...</td>\n",
       "      <td>...</td>\n",
       "    </tr>\n",
       "    <tr>\n",
       "      <th>388</th>\n",
       "      <td>aggelidis_fdp</td>\n",
       "      <td>None</td>\n",
       "      <td>@BAEKaktuell möchte durch eine zentrale Liste ...</td>\n",
       "      <td>0</td>\n",
       "      <td>1</td>\n",
       "      <td>0</td>\n",
       "      <td>987282872863215616</td>\n",
       "      <td>https://twitter.com/aggelidis_fdp/status/98728...</td>\n",
       "      <td>976107205849206784</td>\n",
       "      <td>2018-04-20 10:52:34+00:00</td>\n",
       "      <td>Fri Apr 20 10:52:34 +0000 2018</td>\n",
       "      <td>#Schwangerschaftsabruch #219a</td>\n",
       "      <td>@BAEKaktuell</td>\n",
       "      <td></td>\n",
       "      <td></td>\n",
       "    </tr>\n",
       "    <tr>\n",
       "      <th>389</th>\n",
       "      <td>aggelidis_fdp</td>\n",
       "      <td>None</td>\n",
       "      <td>Erste Studie zeigt #baukindergeld entfalten ka...</td>\n",
       "      <td>3</td>\n",
       "      <td>9</td>\n",
       "      <td>1</td>\n",
       "      <td>986951112774307840</td>\n",
       "      <td>https://twitter.com/aggelidis_fdp/status/98695...</td>\n",
       "      <td>976107205849206784</td>\n",
       "      <td>2018-04-19 12:54:16+00:00</td>\n",
       "      <td>Thu Apr 19 12:54:16 +0000 2018</td>\n",
       "      <td>#baukindergeld</td>\n",
       "      <td></td>\n",
       "      <td></td>\n",
       "      <td></td>\n",
       "    </tr>\n",
       "    <tr>\n",
       "      <th>390</th>\n",
       "      <td>aggelidis_fdp</td>\n",
       "      <td>None</td>\n",
       "      <td>Der Vorschlag von @hubertus_heil läuft an Lebe...</td>\n",
       "      <td>0</td>\n",
       "      <td>2</td>\n",
       "      <td>0</td>\n",
       "      <td>986618695735750662</td>\n",
       "      <td>https://twitter.com/aggelidis_fdp/status/98661...</td>\n",
       "      <td>976107205849206784</td>\n",
       "      <td>2018-04-18 14:53:22+00:00</td>\n",
       "      <td>Wed Apr 18 14:53:22 +0000 2018</td>\n",
       "      <td>#Teilzeit #br</td>\n",
       "      <td>@hubertus_heil</td>\n",
       "      <td></td>\n",
       "      <td></td>\n",
       "    </tr>\n",
       "    <tr>\n",
       "      <th>391</th>\n",
       "      <td>aggelidis_fdp</td>\n",
       "      <td>None</td>\n",
       "      <td>Fast noch wichtiger als die Reden sind die mot...</td>\n",
       "      <td>1</td>\n",
       "      <td>2</td>\n",
       "      <td>0</td>\n",
       "      <td>985533985576144896</td>\n",
       "      <td>https://twitter.com/aggelidis_fdp/status/98553...</td>\n",
       "      <td>976107205849206784</td>\n",
       "      <td>2018-04-15 15:03:07+00:00</td>\n",
       "      <td>Sun Apr 15 15:03:07 +0000 2018</td>\n",
       "      <td>#fdplptnds #fdp_nds</td>\n",
       "      <td></td>\n",
       "      <td></td>\n",
       "      <td></td>\n",
       "    </tr>\n",
       "    <tr>\n",
       "      <th>392</th>\n",
       "      <td>aggelidis_fdp</td>\n",
       "      <td>None</td>\n",
       "      <td>Willkommen auf dem neuen Weg #fdplptnds Vor un...</td>\n",
       "      <td>0</td>\n",
       "      <td>0</td>\n",
       "      <td>0</td>\n",
       "      <td>985215921684967424</td>\n",
       "      <td>https://twitter.com/aggelidis_fdp/status/98521...</td>\n",
       "      <td>976107205849206784</td>\n",
       "      <td>2018-04-14 17:59:14+00:00</td>\n",
       "      <td>Sat Apr 14 17:59:14 +0000 2018</td>\n",
       "      <td>#fdplptnds</td>\n",
       "      <td></td>\n",
       "      <td></td>\n",
       "      <td></td>\n",
       "    </tr>\n",
       "  </tbody>\n",
       "</table>\n",
       "<p>1469 rows × 15 columns</p>\n",
       "</div>"
      ],
      "text/plain": [
       "          username    to                                               text  \\\n",
       "0       mvabercron  None  Uni fällt aus? Keine Angst, eine Pause im Lehr...   \n",
       "1       mvabercron  None  Alle Unternehmen können vom #Corona-Sonderprog...   \n",
       "2       mvabercron  None  Wir kämpfen um jeden Job – durch Ausweitung d....   \n",
       "3       mvabercron  None  Schnelle #Corona-Hilfe für Familien: Für den K...   \n",
       "4       mvabercron  None  Der #Bundestag passt das #Infektionsschutzgese...   \n",
       "..             ...   ...                                                ...   \n",
       "388  aggelidis_fdp  None  @BAEKaktuell möchte durch eine zentrale Liste ...   \n",
       "389  aggelidis_fdp  None  Erste Studie zeigt #baukindergeld entfalten ka...   \n",
       "390  aggelidis_fdp  None  Der Vorschlag von @hubertus_heil läuft an Lebe...   \n",
       "391  aggelidis_fdp  None  Fast noch wichtiger als die Reden sind die mot...   \n",
       "392  aggelidis_fdp  None  Willkommen auf dem neuen Weg #fdplptnds Vor un...   \n",
       "\n",
       "     retweets  favorites  replies                   id  \\\n",
       "0           0          0        1  1245689849627258881   \n",
       "1           2          1        1  1245431118968631297   \n",
       "2           0          0        0  1244942420841725954   \n",
       "3           0          0        0  1244646897714855939   \n",
       "4           0          2        0  1242874119139590147   \n",
       "..        ...        ...      ...                  ...   \n",
       "388         0          1        0   987282872863215616   \n",
       "389         3          9        1   986951112774307840   \n",
       "390         0          2        0   986618695735750662   \n",
       "391         1          2        0   985533985576144896   \n",
       "392         0          0        0   985215921684967424   \n",
       "\n",
       "                                             permalink           author_id  \\\n",
       "0    https://twitter.com/mvabercron/status/12456898...  862747349277450240   \n",
       "1    https://twitter.com/mvabercron/status/12454311...  862747349277450240   \n",
       "2    https://twitter.com/mvabercron/status/12449424...  862747349277450240   \n",
       "3    https://twitter.com/mvabercron/status/12446468...  862747349277450240   \n",
       "4    https://twitter.com/mvabercron/status/12428741...  862747349277450240   \n",
       "..                                                 ...                 ...   \n",
       "388  https://twitter.com/aggelidis_fdp/status/98728...  976107205849206784   \n",
       "389  https://twitter.com/aggelidis_fdp/status/98695...  976107205849206784   \n",
       "390  https://twitter.com/aggelidis_fdp/status/98661...  976107205849206784   \n",
       "391  https://twitter.com/aggelidis_fdp/status/98553...  976107205849206784   \n",
       "392  https://twitter.com/aggelidis_fdp/status/98521...  976107205849206784   \n",
       "\n",
       "                         date                  formatted_date  \\\n",
       "0   2020-04-02 12:29:38+00:00  Thu Apr 02 12:29:38 +0000 2020   \n",
       "1   2020-04-01 19:21:32+00:00  Wed Apr 01 19:21:32 +0000 2020   \n",
       "2   2020-03-31 10:59:37+00:00  Tue Mar 31 10:59:37 +0000 2020   \n",
       "3   2020-03-30 15:25:19+00:00  Mon Mar 30 15:25:19 +0000 2020   \n",
       "4   2020-03-25 18:00:56+00:00  Wed Mar 25 18:00:56 +0000 2020   \n",
       "..                        ...                             ...   \n",
       "388 2018-04-20 10:52:34+00:00  Fri Apr 20 10:52:34 +0000 2018   \n",
       "389 2018-04-19 12:54:16+00:00  Thu Apr 19 12:54:16 +0000 2018   \n",
       "390 2018-04-18 14:53:22+00:00  Wed Apr 18 14:53:22 +0000 2018   \n",
       "391 2018-04-15 15:03:07+00:00  Sun Apr 15 15:03:07 +0000 2018   \n",
       "392 2018-04-14 17:59:14+00:00  Sat Apr 14 17:59:14 +0000 2018   \n",
       "\n",
       "                                       hashtags        mentions geo  \\\n",
       "0                                  #BAf #Corona                       \n",
       "1                           #Corona #wirhandeln                       \n",
       "2                                   #wirhandeln                       \n",
       "3                           #Corona #wirhandeln                       \n",
       "4    #Bundestag #Infektionsschutzgesetz #Corona                       \n",
       "..                                          ...             ...  ..   \n",
       "388               #Schwangerschaftsabruch #219a    @BAEKaktuell       \n",
       "389                              #baukindergeld                       \n",
       "390                               #Teilzeit #br  @hubertus_heil       \n",
       "391                         #fdplptnds #fdp_nds                       \n",
       "392                                  #fdplptnds                       \n",
       "\n",
       "                          urls  \n",
       "0    https://cducsu.cc/3alyQN7  \n",
       "1    https://cducsu.cc/3alyQN7  \n",
       "2    https://cducsu.cc/3alyQN7  \n",
       "3       https://bit.ly/2Utk4OL  \n",
       "4                               \n",
       "..                         ...  \n",
       "388                             \n",
       "389                             \n",
       "390                             \n",
       "391                             \n",
       "392                             \n",
       "\n",
       "[1469 rows x 15 columns]"
      ]
     },
     "execution_count": 6,
     "metadata": {},
     "output_type": "execute_result"
    }
   ],
   "source": [
    "# add 'Name' column (download only uses 'username' as input)\n",
    "res_got3 = twitter_account.merge(res_got3, on = 'username')\n",
    "# display results\n",
    "res_got3"
   ]
  },
  {
   "cell_type": "markdown",
   "metadata": {},
   "source": [
    "We can check that it is indeed possible to download more than 3200 tweets per user:"
   ]
  },
  {
   "cell_type": "code",
   "execution_count": 7,
   "metadata": {},
   "outputs": [
    {
     "name": "stdout",
     "output_type": "stream",
     "text": [
      "Downloading for realDonaldTrump\n"
     ]
    }
   ],
   "source": [
    "res = th.download_tweets_got3('realDonaldTrump',since = \"2018-09-24\", until = \"2020-04-08\")"
   ]
  },
  {
   "cell_type": "code",
   "execution_count": 12,
   "metadata": {},
   "outputs": [
    {
     "data": {
      "text/plain": [
       "(6737, 15)"
      ]
     },
     "execution_count": 12,
     "metadata": {},
     "output_type": "execute_result"
    }
   ],
   "source": [
    "res.shape"
   ]
  },
  {
   "cell_type": "markdown",
   "metadata": {},
   "source": [
    "However, although occuring very rarely, some tweets appear to be missing (and some rows are empty). Furthermore, retweets cannot be downloaded using GetOldTweets3. "
   ]
  },
  {
   "cell_type": "markdown",
   "metadata": {},
   "source": [
    "## 3. Download with Tweepy"
   ]
  },
  {
   "cell_type": "markdown",
   "metadata": {},
   "source": [
    "With Tweepy we can circumvent these shortcomings, i.e. we can download retweets and there is no information missing, as Tweepy is the official Twitter-API. However, as mentioned, there is a limit of 3200 Tweets per user. "
   ]
  },
  {
   "cell_type": "code",
   "execution_count": 8,
   "metadata": {},
   "outputs": [
    {
     "name": "stdout",
     "output_type": "stream",
     "text": [
      "Downloading for mvabercron\n",
      "Downloading for DorisAchelwilm\n",
      "Downloading for aggelidis_fdp\n"
     ]
    }
   ],
   "source": [
    "# download most recent tweets using tweepy (at most 3200 tweets per user)\n",
    "res_tweepy = pd.DataFrame()\n",
    "for username in twitter_account.iloc[0:3, 2]:\n",
    "    res_tweepy = pd.concat([res_tweepy, th.download_tweets_tweepy(username)])\n",
    "# again, add column 'Name'\n",
    "res_got3 = twitter_account.merge(res_got3, on = 'username')"
   ]
  },
  {
   "cell_type": "code",
   "execution_count": 9,
   "metadata": {},
   "outputs": [
    {
     "data": {
      "text/plain": [
       "Index(['_api', '_json', 'created_at', 'id', 'id_str', 'full_text', 'truncated',\n",
       "       'display_text_range', 'entities', 'extended_entities', 'source',\n",
       "       'source_url', 'in_reply_to_status_id', 'in_reply_to_status_id_str',\n",
       "       'in_reply_to_user_id', 'in_reply_to_user_id_str',\n",
       "       'in_reply_to_screen_name', 'author', 'user', 'geo', 'coordinates',\n",
       "       'place', 'contributors', 'is_quote_status', 'retweet_count',\n",
       "       'favorite_count', 'favorited', 'retweeted', 'possibly_sensitive',\n",
       "       'lang', 'retweeted_status', 'quoted_status_id', 'quoted_status_id_str',\n",
       "       'quoted_status_permalink', 'quoted_status', 'withheld_in_countries'],\n",
       "      dtype='object')"
      ]
     },
     "execution_count": 9,
     "metadata": {},
     "output_type": "execute_result"
    }
   ],
   "source": [
    "res_tweepy.columns"
   ]
  },
  {
   "cell_type": "markdown",
   "metadata": {},
   "source": [
    "Columns that might be most important for us:"
   ]
  },
  {
   "cell_type": "code",
   "execution_count": 23,
   "metadata": {},
   "outputs": [
    {
     "data": {
      "text/plain": [
       "Index(['created_at', 'full_text', 'display_text_range', 'entities',\n",
       "       'in_reply_to_user_id_str', 'is_quote_status', 'retweet_count',\n",
       "       'favorite_count', 'favorited', 'retweeted', 'retweeted_status'],\n",
       "      dtype='object')"
      ]
     },
     "execution_count": 23,
     "metadata": {},
     "output_type": "execute_result"
    }
   ],
   "source": [
    "res_tweepy.iloc[:,[2,5,7,8,15,23,24,25,26,27,30]].columns"
   ]
  },
  {
   "cell_type": "code",
   "execution_count": 24,
   "metadata": {
    "scrolled": true
   },
   "outputs": [
    {
     "data": {
      "text/html": [
       "<div>\n",
       "<style scoped>\n",
       "    .dataframe tbody tr th:only-of-type {\n",
       "        vertical-align: middle;\n",
       "    }\n",
       "\n",
       "    .dataframe tbody tr th {\n",
       "        vertical-align: top;\n",
       "    }\n",
       "\n",
       "    .dataframe thead th {\n",
       "        text-align: right;\n",
       "    }\n",
       "</style>\n",
       "<table border=\"1\" class=\"dataframe\">\n",
       "  <thead>\n",
       "    <tr style=\"text-align: right;\">\n",
       "      <th></th>\n",
       "      <th>created_at</th>\n",
       "      <th>full_text</th>\n",
       "      <th>display_text_range</th>\n",
       "      <th>entities</th>\n",
       "      <th>in_reply_to_user_id_str</th>\n",
       "      <th>is_quote_status</th>\n",
       "      <th>retweet_count</th>\n",
       "      <th>favorite_count</th>\n",
       "      <th>favorited</th>\n",
       "      <th>retweeted</th>\n",
       "      <th>retweeted_status</th>\n",
       "    </tr>\n",
       "  </thead>\n",
       "  <tbody>\n",
       "    <tr>\n",
       "      <th>0</th>\n",
       "      <td>2020-04-10 14:10:03</td>\n",
       "      <td>Dieser Karfreitag wird anders sein als in den ...</td>\n",
       "      <td>[0, 204]</td>\n",
       "      <td>{'hashtags': [], 'symbols': [], 'user_mentions...</td>\n",
       "      <td>None</td>\n",
       "      <td>False</td>\n",
       "      <td>1</td>\n",
       "      <td>3</td>\n",
       "      <td>False</td>\n",
       "      <td>False</td>\n",
       "      <td>NaN</td>\n",
       "    </tr>\n",
       "    <tr>\n",
       "      <th>1</th>\n",
       "      <td>2020-04-02 12:29:38</td>\n",
       "      <td>Uni fällt aus? Keine Angst, eine Pause im Lehr...</td>\n",
       "      <td>[0, 275]</td>\n",
       "      <td>{'hashtags': [{'text': 'BAföG', 'indices': [82...</td>\n",
       "      <td>None</td>\n",
       "      <td>False</td>\n",
       "      <td>0</td>\n",
       "      <td>0</td>\n",
       "      <td>False</td>\n",
       "      <td>False</td>\n",
       "      <td>NaN</td>\n",
       "    </tr>\n",
       "    <tr>\n",
       "      <th>2</th>\n",
       "      <td>2020-04-01 19:21:32</td>\n",
       "      <td>Alle Unternehmen können vom #Corona-Sonderprog...</td>\n",
       "      <td>[0, 199]</td>\n",
       "      <td>{'hashtags': [{'text': 'Corona', 'indices': [2...</td>\n",
       "      <td>None</td>\n",
       "      <td>False</td>\n",
       "      <td>2</td>\n",
       "      <td>1</td>\n",
       "      <td>False</td>\n",
       "      <td>False</td>\n",
       "      <td>NaN</td>\n",
       "    </tr>\n",
       "    <tr>\n",
       "      <th>3</th>\n",
       "      <td>2020-03-31 10:59:46</td>\n",
       "      <td>RT @cducsubt: .@gitta_connemann und @mvabercro...</td>\n",
       "      <td>[0, 140]</td>\n",
       "      <td>{'hashtags': [{'text': 'Corona', 'indices': [5...</td>\n",
       "      <td>None</td>\n",
       "      <td>False</td>\n",
       "      <td>4</td>\n",
       "      <td>0</td>\n",
       "      <td>False</td>\n",
       "      <td>False</td>\n",
       "      <td>Status(_api=&lt;tweepy.api.API object at 0x122902...</td>\n",
       "    </tr>\n",
       "    <tr>\n",
       "      <th>4</th>\n",
       "      <td>2020-03-31 10:59:37</td>\n",
       "      <td>Wir kämpfen um jeden Job – durch Ausweitung d....</td>\n",
       "      <td>[0, 280]</td>\n",
       "      <td>{'hashtags': [{'text': 'wirhandeln', 'indices'...</td>\n",
       "      <td>None</td>\n",
       "      <td>False</td>\n",
       "      <td>0</td>\n",
       "      <td>0</td>\n",
       "      <td>False</td>\n",
       "      <td>False</td>\n",
       "      <td>NaN</td>\n",
       "    </tr>\n",
       "    <tr>\n",
       "      <th>...</th>\n",
       "      <td>...</td>\n",
       "      <td>...</td>\n",
       "      <td>...</td>\n",
       "      <td>...</td>\n",
       "      <td>...</td>\n",
       "      <td>...</td>\n",
       "      <td>...</td>\n",
       "      <td>...</td>\n",
       "      <td>...</td>\n",
       "      <td>...</td>\n",
       "      <td>...</td>\n",
       "    </tr>\n",
       "    <tr>\n",
       "      <th>511</th>\n",
       "      <td>2018-04-20 10:52:34</td>\n",
       "      <td>@BAEKaktuell möchte durch eine zentrale Liste ...</td>\n",
       "      <td>[0, 265]</td>\n",
       "      <td>{'hashtags': [{'text': 'Schwangerschaftsabruch...</td>\n",
       "      <td>243143022</td>\n",
       "      <td>False</td>\n",
       "      <td>0</td>\n",
       "      <td>1</td>\n",
       "      <td>False</td>\n",
       "      <td>False</td>\n",
       "      <td>NaN</td>\n",
       "    </tr>\n",
       "    <tr>\n",
       "      <th>512</th>\n",
       "      <td>2018-04-19 12:54:16</td>\n",
       "      <td>Erste Studie zeigt #baukindergeld entfalten ka...</td>\n",
       "      <td>[0, 212]</td>\n",
       "      <td>{'hashtags': [{'text': 'baukindergeld', 'indic...</td>\n",
       "      <td>None</td>\n",
       "      <td>False</td>\n",
       "      <td>3</td>\n",
       "      <td>9</td>\n",
       "      <td>False</td>\n",
       "      <td>False</td>\n",
       "      <td>NaN</td>\n",
       "    </tr>\n",
       "    <tr>\n",
       "      <th>513</th>\n",
       "      <td>2018-04-18 14:53:22</td>\n",
       "      <td>Der Vorschlag von @hubertus_heil läuft an Lebe...</td>\n",
       "      <td>[0, 277]</td>\n",
       "      <td>{'hashtags': [{'text': 'Teilzeit', 'indices': ...</td>\n",
       "      <td>None</td>\n",
       "      <td>False</td>\n",
       "      <td>0</td>\n",
       "      <td>2</td>\n",
       "      <td>False</td>\n",
       "      <td>False</td>\n",
       "      <td>NaN</td>\n",
       "    </tr>\n",
       "    <tr>\n",
       "      <th>514</th>\n",
       "      <td>2018-04-15 15:03:07</td>\n",
       "      <td>Fast noch wichtiger als die Reden sind die mot...</td>\n",
       "      <td>[0, 185]</td>\n",
       "      <td>{'hashtags': [{'text': 'fdplptnds', 'indices':...</td>\n",
       "      <td>None</td>\n",
       "      <td>False</td>\n",
       "      <td>1</td>\n",
       "      <td>2</td>\n",
       "      <td>False</td>\n",
       "      <td>False</td>\n",
       "      <td>NaN</td>\n",
       "    </tr>\n",
       "    <tr>\n",
       "      <th>515</th>\n",
       "      <td>2018-04-14 17:59:14</td>\n",
       "      <td>Willkommen auf dem neuen Weg #fdplptnds\\nVor u...</td>\n",
       "      <td>[0, 184]</td>\n",
       "      <td>{'hashtags': [{'text': 'fdplptnds', 'indices':...</td>\n",
       "      <td>None</td>\n",
       "      <td>False</td>\n",
       "      <td>0</td>\n",
       "      <td>0</td>\n",
       "      <td>False</td>\n",
       "      <td>False</td>\n",
       "      <td>NaN</td>\n",
       "    </tr>\n",
       "  </tbody>\n",
       "</table>\n",
       "<p>3859 rows × 11 columns</p>\n",
       "</div>"
      ],
      "text/plain": [
       "             created_at                                          full_text  \\\n",
       "0   2020-04-10 14:10:03  Dieser Karfreitag wird anders sein als in den ...   \n",
       "1   2020-04-02 12:29:38  Uni fällt aus? Keine Angst, eine Pause im Lehr...   \n",
       "2   2020-04-01 19:21:32  Alle Unternehmen können vom #Corona-Sonderprog...   \n",
       "3   2020-03-31 10:59:46  RT @cducsubt: .@gitta_connemann und @mvabercro...   \n",
       "4   2020-03-31 10:59:37  Wir kämpfen um jeden Job – durch Ausweitung d....   \n",
       "..                  ...                                                ...   \n",
       "511 2018-04-20 10:52:34  @BAEKaktuell möchte durch eine zentrale Liste ...   \n",
       "512 2018-04-19 12:54:16  Erste Studie zeigt #baukindergeld entfalten ka...   \n",
       "513 2018-04-18 14:53:22  Der Vorschlag von @hubertus_heil läuft an Lebe...   \n",
       "514 2018-04-15 15:03:07  Fast noch wichtiger als die Reden sind die mot...   \n",
       "515 2018-04-14 17:59:14  Willkommen auf dem neuen Weg #fdplptnds\\nVor u...   \n",
       "\n",
       "    display_text_range                                           entities  \\\n",
       "0             [0, 204]  {'hashtags': [], 'symbols': [], 'user_mentions...   \n",
       "1             [0, 275]  {'hashtags': [{'text': 'BAföG', 'indices': [82...   \n",
       "2             [0, 199]  {'hashtags': [{'text': 'Corona', 'indices': [2...   \n",
       "3             [0, 140]  {'hashtags': [{'text': 'Corona', 'indices': [5...   \n",
       "4             [0, 280]  {'hashtags': [{'text': 'wirhandeln', 'indices'...   \n",
       "..                 ...                                                ...   \n",
       "511           [0, 265]  {'hashtags': [{'text': 'Schwangerschaftsabruch...   \n",
       "512           [0, 212]  {'hashtags': [{'text': 'baukindergeld', 'indic...   \n",
       "513           [0, 277]  {'hashtags': [{'text': 'Teilzeit', 'indices': ...   \n",
       "514           [0, 185]  {'hashtags': [{'text': 'fdplptnds', 'indices':...   \n",
       "515           [0, 184]  {'hashtags': [{'text': 'fdplptnds', 'indices':...   \n",
       "\n",
       "    in_reply_to_user_id_str  is_quote_status  retweet_count  favorite_count  \\\n",
       "0                      None            False              1               3   \n",
       "1                      None            False              0               0   \n",
       "2                      None            False              2               1   \n",
       "3                      None            False              4               0   \n",
       "4                      None            False              0               0   \n",
       "..                      ...              ...            ...             ...   \n",
       "511               243143022            False              0               1   \n",
       "512                    None            False              3               9   \n",
       "513                    None            False              0               2   \n",
       "514                    None            False              1               2   \n",
       "515                    None            False              0               0   \n",
       "\n",
       "     favorited  retweeted                                   retweeted_status  \n",
       "0        False      False                                                NaN  \n",
       "1        False      False                                                NaN  \n",
       "2        False      False                                                NaN  \n",
       "3        False      False  Status(_api=<tweepy.api.API object at 0x122902...  \n",
       "4        False      False                                                NaN  \n",
       "..         ...        ...                                                ...  \n",
       "511      False      False                                                NaN  \n",
       "512      False      False                                                NaN  \n",
       "513      False      False                                                NaN  \n",
       "514      False      False                                                NaN  \n",
       "515      False      False                                                NaN  \n",
       "\n",
       "[3859 rows x 11 columns]"
      ]
     },
     "execution_count": 24,
     "metadata": {},
     "output_type": "execute_result"
    }
   ],
   "source": [
    "res_tweepy.iloc[:,[2,5,7,8,15,23,24,25,26,27,30]]"
   ]
  },
  {
   "cell_type": "markdown",
   "metadata": {},
   "source": [
    "If 'in_reply_to_user_id_str' is not 'None', the tweet is a reply to another tweet. If 'is_quote_status' is not 'False', the tweet is a quote (check definition of quotes in twitter if unknown)."
   ]
  },
  {
   "cell_type": "markdown",
   "metadata": {},
   "source": [
    "### Retweets"
   ]
  },
  {
   "cell_type": "markdown",
   "metadata": {},
   "source": [
    "By column 'retweeted_status' it can be checked, whether tweet is a retweet or a new tweet. Retweets are truncated to 140 characters:"
   ]
  },
  {
   "cell_type": "code",
   "execution_count": 14,
   "metadata": {},
   "outputs": [
    {
     "data": {
      "text/html": [
       "<div>\n",
       "<style scoped>\n",
       "    .dataframe tbody tr th:only-of-type {\n",
       "        vertical-align: middle;\n",
       "    }\n",
       "\n",
       "    .dataframe tbody tr th {\n",
       "        vertical-align: top;\n",
       "    }\n",
       "\n",
       "    .dataframe thead th {\n",
       "        text-align: right;\n",
       "    }\n",
       "</style>\n",
       "<table border=\"1\" class=\"dataframe\">\n",
       "  <thead>\n",
       "    <tr style=\"text-align: right;\">\n",
       "      <th></th>\n",
       "      <th>display_text_range</th>\n",
       "      <th>retweeted_status</th>\n",
       "    </tr>\n",
       "  </thead>\n",
       "  <tbody>\n",
       "    <tr>\n",
       "      <th>0</th>\n",
       "      <td>[0, 204]</td>\n",
       "      <td>NaN</td>\n",
       "    </tr>\n",
       "    <tr>\n",
       "      <th>1</th>\n",
       "      <td>[0, 275]</td>\n",
       "      <td>NaN</td>\n",
       "    </tr>\n",
       "    <tr>\n",
       "      <th>2</th>\n",
       "      <td>[0, 199]</td>\n",
       "      <td>NaN</td>\n",
       "    </tr>\n",
       "    <tr>\n",
       "      <th>3</th>\n",
       "      <td>[0, 140]</td>\n",
       "      <td>Status(_api=&lt;tweepy.api.API object at 0x122902...</td>\n",
       "    </tr>\n",
       "    <tr>\n",
       "      <th>4</th>\n",
       "      <td>[0, 280]</td>\n",
       "      <td>NaN</td>\n",
       "    </tr>\n",
       "    <tr>\n",
       "      <th>...</th>\n",
       "      <td>...</td>\n",
       "      <td>...</td>\n",
       "    </tr>\n",
       "    <tr>\n",
       "      <th>511</th>\n",
       "      <td>[0, 265]</td>\n",
       "      <td>NaN</td>\n",
       "    </tr>\n",
       "    <tr>\n",
       "      <th>512</th>\n",
       "      <td>[0, 212]</td>\n",
       "      <td>NaN</td>\n",
       "    </tr>\n",
       "    <tr>\n",
       "      <th>513</th>\n",
       "      <td>[0, 277]</td>\n",
       "      <td>NaN</td>\n",
       "    </tr>\n",
       "    <tr>\n",
       "      <th>514</th>\n",
       "      <td>[0, 185]</td>\n",
       "      <td>NaN</td>\n",
       "    </tr>\n",
       "    <tr>\n",
       "      <th>515</th>\n",
       "      <td>[0, 184]</td>\n",
       "      <td>NaN</td>\n",
       "    </tr>\n",
       "  </tbody>\n",
       "</table>\n",
       "<p>3859 rows × 2 columns</p>\n",
       "</div>"
      ],
      "text/plain": [
       "    display_text_range                                   retweeted_status\n",
       "0             [0, 204]                                                NaN\n",
       "1             [0, 275]                                                NaN\n",
       "2             [0, 199]                                                NaN\n",
       "3             [0, 140]  Status(_api=<tweepy.api.API object at 0x122902...\n",
       "4             [0, 280]                                                NaN\n",
       "..                 ...                                                ...\n",
       "511           [0, 265]                                                NaN\n",
       "512           [0, 212]                                                NaN\n",
       "513           [0, 277]                                                NaN\n",
       "514           [0, 185]                                                NaN\n",
       "515           [0, 184]                                                NaN\n",
       "\n",
       "[3859 rows x 2 columns]"
      ]
     },
     "execution_count": 14,
     "metadata": {},
     "output_type": "execute_result"
    }
   ],
   "source": [
    "res_tweepy[['display_text_range','retweeted_status']]"
   ]
  },
  {
   "cell_type": "markdown",
   "metadata": {},
   "source": [
    "We can retrieve the full text of a retweet by accessing the attribute 'full_text' of the tweepy object in column 'retweeted_status' (if the tweet is a retweet, in which case the value in this column is not NaN):"
   ]
  },
  {
   "cell_type": "code",
   "execution_count": 20,
   "metadata": {},
   "outputs": [
    {
     "data": {
      "text/plain": [
       "'.@gitta_connemann und @mvabercron erklären: #Corona-Soforthilfen auch für Höfe, Forstbetriebe und landwirtschaftlichen Gartenbau  https://t.co/CRADyyuX4D'"
      ]
     },
     "execution_count": 20,
     "metadata": {},
     "output_type": "execute_result"
    }
   ],
   "source": [
    "res_tweepy.iloc[3,30].full_text"
   ]
  },
  {
   "cell_type": "markdown",
   "metadata": {},
   "source": [
    "### Additional Information - 'entities'"
   ]
  },
  {
   "cell_type": "markdown",
   "metadata": {},
   "source": [
    "For each tweet, column 'entities' contains a dict with additional information, such as hashtags or users and urls that are mentioned in the tweet."
   ]
  },
  {
   "cell_type": "code",
   "execution_count": 22,
   "metadata": {},
   "outputs": [
    {
     "data": {
      "text/plain": [
       "{'hashtags': [{'text': 'Corona', 'indices': [58, 65]}],\n",
       " 'symbols': [],\n",
       " 'user_mentions': [{'screen_name': 'cducsubt',\n",
       "   'name': 'CDU/CSU',\n",
       "   'id': 46085533,\n",
       "   'id_str': '46085533',\n",
       "   'indices': [3, 12]},\n",
       "  {'screen_name': 'gitta_connemann',\n",
       "   'name': 'Gitta Connemann',\n",
       "   'id': 1125751445205262336,\n",
       "   'id_str': '1125751445205262336',\n",
       "   'indices': [15, 31]},\n",
       "  {'screen_name': 'mvabercron',\n",
       "   'name': 'Dr. Michael von Abercron MdB',\n",
       "   'id': 862747349277450240,\n",
       "   'id_str': '862747349277450240',\n",
       "   'indices': [36, 47]}],\n",
       " 'urls': []}"
      ]
     },
     "execution_count": 22,
     "metadata": {},
     "output_type": "execute_result"
    }
   ],
   "source": [
    "# value of 'entities' for the 4th downloaded tweet\n",
    "res_tweepy.iloc[3,8]"
   ]
  },
  {
   "cell_type": "code",
   "execution_count": 33,
   "metadata": {},
   "outputs": [
    {
     "data": {
      "text/plain": [
       "'Corona'"
      ]
     },
     "execution_count": 33,
     "metadata": {},
     "output_type": "execute_result"
    }
   ],
   "source": [
    "# Access first hashtag of this tweet (in this case the only hashtag)\n",
    "res_tweepy.iloc[3,8]['hashtags'][0]['text']"
   ]
  },
  {
   "cell_type": "code",
   "execution_count": 36,
   "metadata": {},
   "outputs": [
    {
     "data": {
      "text/plain": [
       "'Gitta Connemann'"
      ]
     },
     "execution_count": 36,
     "metadata": {},
     "output_type": "execute_result"
    }
   ],
   "source": [
    "# obtain username of second user that is mentioned\n",
    "res_tweepy.iloc[3,8]['user_mentions'][1]['name']"
   ]
  }
 ],
 "metadata": {
  "kernelspec": {
   "display_name": "Python 3",
   "language": "python",
   "name": "python3"
  },
  "language_info": {
   "codemirror_mode": {
    "name": "ipython",
    "version": 3
   },
   "file_extension": ".py",
   "mimetype": "text/x-python",
   "name": "python",
   "nbconvert_exporter": "python",
   "pygments_lexer": "ipython3",
   "version": "3.7.6"
  }
 },
 "nbformat": 4,
 "nbformat_minor": 4
}
