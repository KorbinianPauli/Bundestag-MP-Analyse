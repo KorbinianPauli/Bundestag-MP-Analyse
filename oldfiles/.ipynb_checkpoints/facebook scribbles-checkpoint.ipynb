{
 "cells": [
  {
   "cell_type": "code",
   "execution_count": null,
   "metadata": {},
   "outputs": [],
   "source": [
    "import urllib.request\n",
    "import requests\n",
    "import re\n",
    "import pickle\n",
    "from bs4 import BeautifulSoup\n",
    "# import selenium\n",
    "# from selenium import webdriver\n",
    "# import time\n",
    "# import random\n",
    "\n",
    "# see https://stackoverflow.com/questions/2134706/hitting-maximum-recursion-depth-using-pickle-cpickle/2135176#2135176\n",
    "import sys\n",
    "sys.setrecursionlimit(100000)"
   ]
  },
  {
   "cell_type": "code",
   "execution_count": 2,
   "metadata": {},
   "outputs": [
    {
     "name": "stdout",
     "output_type": "stream",
     "text": [
      "Collecting python-facebook-api\n",
      "  Downloading python_facebook_api-0.6.1-py2.py3-none-any.whl (42 kB)\n",
      "Requirement already satisfied: requests in c:\\users\\simon\\anaconda3\\lib\\site-packages (from python-facebook-api) (2.22.0)\n",
      "Requirement already satisfied: attrs in c:\\users\\simon\\anaconda3\\lib\\site-packages (from python-facebook-api) (19.3.0)\n",
      "Collecting cattrs\n",
      "  Downloading cattrs-1.0.0-py2.py3-none-any.whl (14 kB)\n",
      "Collecting requests-oauthlib\n",
      "  Downloading requests_oauthlib-1.3.0-py2.py3-none-any.whl (23 kB)\n",
      "Collecting typing\n",
      "  Downloading typing-3.7.4.1-py3-none-any.whl (25 kB)\n",
      "Requirement already satisfied: future in c:\\users\\simon\\anaconda3\\lib\\site-packages (from python-facebook-api) (0.18.2)\n",
      "Requirement already satisfied: six in c:\\users\\simon\\anaconda3\\lib\\site-packages (from python-facebook-api) (1.14.0)\n",
      "Requirement already satisfied: urllib3!=1.25.0,!=1.25.1,<1.26,>=1.21.1 in c:\\users\\simon\\anaconda3\\lib\\site-packages (from requests->python-facebook-api) (1.25.8)\n",
      "Requirement already satisfied: chardet<3.1.0,>=3.0.2 in c:\\users\\simon\\anaconda3\\lib\\site-packages (from requests->python-facebook-api) (3.0.4)\n",
      "Requirement already satisfied: idna<2.9,>=2.5 in c:\\users\\simon\\anaconda3\\lib\\site-packages (from requests->python-facebook-api) (2.8)\n",
      "Requirement already satisfied: certifi>=2017.4.17 in c:\\users\\simon\\anaconda3\\lib\\site-packages (from requests->python-facebook-api) (2019.11.28)\n",
      "Collecting oauthlib>=3.0.0\n",
      "  Downloading oauthlib-3.1.0-py2.py3-none-any.whl (147 kB)\n",
      "Installing collected packages: cattrs, oauthlib, requests-oauthlib, typing, python-facebook-api\n",
      "Successfully installed cattrs-1.0.0 oauthlib-3.1.0 python-facebook-api-0.6.1 requests-oauthlib-1.3.0 typing-3.7.4.1\n",
      "Note: you may need to restart the kernel to use updated packages.\n"
     ]
    }
   ],
   "source": [
    "token = 'EAAHrrsZAIx5ABAGg2ZB30gcAZAAabZCo6TmuSZBnsZAr2NQR6iJnMFkDJciPPFrzhbCX5rmMA4c47tCmN1XAQ5EtXKUsPkijuNTywmgsgoUA3GnSQJ5yhnIZAP725nMO1T99By4InR9qfSFozSrMCY103pUDyLiIO2L6EISbYeq26yHa7ZBpq8OcOKu4uhAOPI9fzkRsROPSwKZAMhkfN5PR0'"
   ]
  },
  {
   "cell_type": "code",
   "execution_count": 5,
   "metadata": {},
   "outputs": [
    {
     "ename": "NameError",
     "evalue": "name 'facebook' is not defined",
     "output_type": "error",
     "traceback": [
      "\u001b[1;31m---------------------------------------------------------------------------\u001b[0m",
      "\u001b[1;31mNameError\u001b[0m                                 Traceback (most recent call last)",
      "\u001b[1;32m<ipython-input-5-2cb12c13aec6>\u001b[0m in \u001b[0;36m<module>\u001b[1;34m\u001b[0m\n\u001b[1;32m----> 1\u001b[1;33m \u001b[0mgraph\u001b[0m \u001b[1;33m=\u001b[0m \u001b[0mfacebook\u001b[0m\u001b[1;33m.\u001b[0m\u001b[0mGraphAPI\u001b[0m\u001b[1;33m(\u001b[0m\u001b[0maccess_token\u001b[0m\u001b[1;33m=\u001b[0m\u001b[0mtoken\u001b[0m\u001b[1;33m,\u001b[0m \u001b[0mversion\u001b[0m \u001b[1;33m=\u001b[0m \u001b[1;36m2.7\u001b[0m\u001b[1;33m)\u001b[0m\u001b[1;33m\u001b[0m\u001b[1;33m\u001b[0m\u001b[0m\n\u001b[0m\u001b[0;32m      2\u001b[0m \u001b[0mevents\u001b[0m \u001b[1;33m=\u001b[0m \u001b[0mgraph\u001b[0m\u001b[1;33m.\u001b[0m\u001b[0mrequest\u001b[0m\u001b[1;33m(\u001b[0m\u001b[1;34m'/search?q=Poetry&type=event&limit=10000'\u001b[0m\u001b[1;33m)\u001b[0m\u001b[1;33m\u001b[0m\u001b[1;33m\u001b[0m\u001b[0m\n",
      "\u001b[1;31mNameError\u001b[0m: name 'facebook' is not defined"
     ]
    }
   ],
   "source": [
    "graph = facebook.GraphAPI(access_token=token, version = 2.7)\n",
    "events = graph.request('/search?q=Poetry&type=event&limit=10000')"
   ]
  }
 ],
 "metadata": {
  "kernelspec": {
   "display_name": "Python 3",
   "language": "python",
   "name": "python3"
  },
  "language_info": {
   "codemirror_mode": {
    "name": "ipython",
    "version": 3
   },
   "file_extension": ".py",
   "mimetype": "text/x-python",
   "name": "python",
   "nbconvert_exporter": "python",
   "pygments_lexer": "ipython3",
   "version": "3.7.6"
  }
 },
 "nbformat": 4,
 "nbformat_minor": 4
}
