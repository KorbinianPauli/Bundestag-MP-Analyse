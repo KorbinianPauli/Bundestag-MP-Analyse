{
 "cells": [
  {
   "cell_type": "code",
   "execution_count": 2,
   "metadata": {},
   "outputs": [],
   "source": [
    "import pandas as pd\n",
    "import pickle\n",
    "import os"
   ]
  },
  {
   "cell_type": "code",
   "execution_count": 3,
   "metadata": {},
   "outputs": [],
   "source": [
    "# set local working directory\n",
    "os.chdir('C:\\\\Users\\\\Simon\\\\OneDrive\\\\Uni\\\\LMU\\\\SS 2020\\\\Statistisches Consulting\\\\Bundestag-MP-Analyse')"
   ]
  },
  {
   "cell_type": "code",
   "execution_count": 9,
   "metadata": {},
   "outputs": [],
   "source": [
    "# load in abg_df\n",
    "with open('./data/abg_df.pickle', 'rb') as handle:\n",
    "    df = pickle.load(handle)"
   ]
  },
  {
   "cell_type": "code",
   "execution_count": 13,
   "metadata": {},
   "outputs": [
    {
     "data": {
      "text/html": [
       "<div>\n",
       "<style scoped>\n",
       "    .dataframe tbody tr th:only-of-type {\n",
       "        vertical-align: middle;\n",
       "    }\n",
       "\n",
       "    .dataframe tbody tr th {\n",
       "        vertical-align: top;\n",
       "    }\n",
       "\n",
       "    .dataframe thead th {\n",
       "        text-align: right;\n",
       "    }\n",
       "</style>\n",
       "<table border=\"1\" class=\"dataframe\">\n",
       "  <thead>\n",
       "    <tr style=\"text-align: right;\">\n",
       "      <th></th>\n",
       "      <th>Name</th>\n",
       "      <th>Partei</th>\n",
       "      <th>Wahlart</th>\n",
       "      <th>Bundesland</th>\n",
       "      <th>Wahlkreis</th>\n",
       "      <th>Wahlkreis-Nr.</th>\n",
       "      <th>Ausschuesse</th>\n",
       "      <th>Soziale Medien</th>\n",
       "      <th>Biografie</th>\n",
       "      <th>Twitter</th>\n",
       "    </tr>\n",
       "  </thead>\n",
       "  <tbody>\n",
       "    <tr>\n",
       "      <th>154</th>\n",
       "      <td>Gabriel, Sigmar</td>\n",
       "      <td>SPD  *</td>\n",
       "      <td>Direkt gewählt</td>\n",
       "      <td>Niedersachsen</td>\n",
       "      <td>Salzgitter – Wolfenbüttel</td>\n",
       "      <td>49</td>\n",
       "      <td>{'Entgeltliche Tätigkeiten neben dem Mandat': ...</td>\n",
       "      <td>{}</td>\n",
       "      <td>Geboren am 12. September 1959 in Goslar; verhe...</td>\n",
       "      <td></td>\n",
       "    </tr>\n",
       "  </tbody>\n",
       "</table>\n",
       "</div>"
      ],
      "text/plain": [
       "                Name  Partei         Wahlart     Bundesland  \\\n",
       "154  Gabriel, Sigmar  SPD  *  Direkt gewählt  Niedersachsen   \n",
       "\n",
       "                     Wahlkreis Wahlkreis-Nr.  \\\n",
       "154  Salzgitter – Wolfenbüttel            49   \n",
       "\n",
       "                                           Ausschuesse Soziale Medien  \\\n",
       "154  {'Entgeltliche Tätigkeiten neben dem Mandat': ...             {}   \n",
       "\n",
       "                                             Biografie Twitter  \n",
       "154  Geboren am 12. September 1959 in Goslar; verhe...          "
      ]
     },
     "execution_count": 13,
     "metadata": {},
     "output_type": "execute_result"
    }
   ],
   "source": [
    "df.loc[df['Name'] == \"Gabriel, Sigmar\"]"
   ]
  }
 ],
 "metadata": {
  "kernelspec": {
   "display_name": "Python 3",
   "language": "python",
   "name": "python3"
  },
  "language_info": {
   "codemirror_mode": {
    "name": "ipython",
    "version": 3
   },
   "file_extension": ".py",
   "mimetype": "text/x-python",
   "name": "python",
   "nbconvert_exporter": "python",
   "pygments_lexer": "ipython3",
   "version": "3.7.6"
  }
 },
 "nbformat": 4,
 "nbformat_minor": 4
}
