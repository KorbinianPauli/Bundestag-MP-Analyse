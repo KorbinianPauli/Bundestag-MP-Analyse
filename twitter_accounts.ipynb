{
 "cells": [
  {
   "cell_type": "code",
   "execution_count": 62,
   "metadata": {},
   "outputs": [],
   "source": [
    "from bs4 import BeautifulSoup\n",
    "import requests\n",
    "import pandas as pd\n",
    "import re"
   ]
  },
  {
   "cell_type": "code",
   "execution_count": 66,
   "metadata": {},
   "outputs": [],
   "source": [
    "fdp = \"https://www.fdpbt.de/fraktion/abgeordnete\"\n",
    "source_fdp = requests.get(fdp).text\n",
    "soup_fdp = BeautifulSoup(source_fdp, 'html.parser')\n",
    "\n",
    "cdu = \"https://www.cducsu.de/hier-stellt-die-cducsu-bundestagsfraktion-ihre-abgeordneten-vor\"\n",
    "source_cdu = requests.get(cdu).text\n",
    "soup_cdu = BeautifulSoup(source_cdu, 'html.parser')\n",
    "\n",
    "spd = \"https://www.spdfraktion.de/abgeordnete/alle?wp=19&view=list&old=19\"\n",
    "source_spd = requests.get(spd).text\n",
    "soup_spd = BeautifulSoup(source_spd, 'html.parser')\n",
    "\n",
    "# for Die Linke, one needs to extract the twitter info from each individual MdB website\n",
    "linke_base = \"https://www.linksfraktion.de/fraktion/abgeordnete/\"\n",
    "letters = [['a', 'e'], ['f', 'j'], ['k', 'o'], ['p', 't'], ['u', 'z']]\n",
    "linke_name_bins = []\n",
    "\n",
    "for letter in letters:\n",
    "    extension = f'{letter[0]}-bis-{letter[1]}/' \n",
    "    linke_name_bins.append(linke_base + extension)"
   ]
  },
  {
   "cell_type": "code",
   "execution_count": 67,
   "metadata": {},
   "outputs": [],
   "source": [
    "all_abg_fdp = soup_fdp.find(class_ = 'person-list').find_all(class_ = 'person-item-wrapper')\n",
    "all_abg_cdu = soup_cdu.find_all(class_ = 'teaser delegates')\n",
    "all_abg_spd = soup_spd.find_all(class_ = 'views-row')\n",
    " \n",
    "all_abg_linke = []\n",
    "for name_bin in linke_name_bins:\n",
    "    source = requests.get(name_bin).text\n",
    "    soup = BeautifulSoup(source, 'html.parser')\n",
    "    for abg in soup.find_all('div', attrs = {'class': 'col-xs-12 col-sm-12 col-md-6 col-lg-6'}):\n",
    "        extension = abg.find('h2').find('a')['href'].lstrip('/fraktion/abgeordnete/')\n",
    "        all_abg_linke.append(linke_base + extension)"
   ]
  },
  {
   "cell_type": "code",
   "execution_count": 69,
   "metadata": {},
   "outputs": [],
   "source": [
    "twitter_list = []\n",
    "for abg in all_abg_fdp:\n",
    "    name_field = abg.find(class_ = 'person-name')\n",
    "    funktion = name_field.find('span').text.strip()\n",
    "    name = name_field.text.strip('\\n').strip().strip(funktion).strip('\\n').strip()\n",
    "    twitter = abg.find('a', attrs = {'class': 'tw'}, href = True)\n",
    "    twitter_list.append(\n",
    "        {\n",
    "        'partei': \"FDP\",\n",
    "        'name': name,\n",
    "        'twitter': twitter['href'] if twitter is not None else \"\"\n",
    "            }\n",
    "        )\n",
    "    \n",
    "for abg in all_abg_cdu:\n",
    "    twitter = abg.find(class_ = 'twitter')\n",
    "    twitter_list.append(\n",
    "        {\n",
    "        'partei': \"CDU/CSU\",\n",
    "        'name': abg.find('h2').find('span').text,\n",
    "        'twitter': twitter.find('a', href = True)['href'] if twitter is not None else \"\"\n",
    "            }\n",
    "        )\n",
    "    \n",
    "for abg in all_abg_spd:\n",
    "    twitter = abg.find(class_ = 'ico_twitter')\n",
    "    twitter_list.append(\n",
    "        {\n",
    "        'partei': \"SPD\",\n",
    "        'name': abg.find('h3').find('a').get_text(),\n",
    "        'twitter': twitter['href'] if twitter is not None else \"\"\n",
    "            }\n",
    "        )\n",
    "    \n",
    "for abg in linke_abg:\n",
    "    abg_source = requests.get(abg).text\n",
    "    abg_soup = BeautifulSoup(abg_source, 'html.parser')\n",
    "    twitter = abg_soup.find('a', text = re.compile('Twitter-Profil'))\n",
    "    twitter_list.append(\n",
    "        {\n",
    "        'partei': \"Die Linke\",\n",
    "        'name': abg_soup.find('h1').text,\n",
    "        'twitter': twitter['href'] if twitter is not None else \"\"\n",
    "            }\n",
    "        )"
   ]
  },
  {
   "cell_type": "code",
   "execution_count": 79,
   "metadata": {},
   "outputs": [],
   "source": [
    "twitter_df = pd.DataFrame(twitter_list)\n",
    "twitter_df['twitter'] = twitter_df['twitter'].apply(lambda x: x.lstrip('http://twitter.com/'))\n",
    "twitter_df['twitter'] = twitter_df['twitter'].apply(lambda x: x.lstrip('https://twitter.com/'))\n",
    "twitter_df['twitter'] = twitter_df['twitter'].apply(lambda x: x.strip(''))"
   ]
  }
 ],
 "metadata": {
  "kernelspec": {
   "display_name": "Python 3",
   "language": "python",
   "name": "python3"
  },
  "language_info": {
   "codemirror_mode": {
    "name": "ipython",
    "version": 3
   },
   "file_extension": ".py",
   "mimetype": "text/x-python",
   "name": "python",
   "nbconvert_exporter": "python",
   "pygments_lexer": "ipython3",
   "version": "3.7.6"
  }
 },
 "nbformat": 4,
 "nbformat_minor": 4
}
