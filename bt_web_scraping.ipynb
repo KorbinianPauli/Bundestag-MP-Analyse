{
 "cells": [
  {
   "cell_type": "code",
   "execution_count": 44,
   "metadata": {},
   "outputs": [],
   "source": [
    "import urllib.request\n",
    "import requests\n",
    "import re\n",
    "import pickle\n",
    "from bs4 import BeautifulSoup\n",
    "import selenium\n",
    "from selenium import webdriver\n",
    "import time\n",
    "import random\n",
    "\n",
    "# see https://stackoverflow.com/questions/2134706/hitting-maximum-recursion-depth-using-pickle-cpickle/2135176#2135176\n",
    "import sys\n",
    "sys.setrecursionlimit(100000)"
   ]
  },
  {
   "cell_type": "code",
   "execution_count": 2,
   "metadata": {},
   "outputs": [],
   "source": [
    "chdriver_path = r'C:\\Users\\Simon\\chromedriver.exe' \n",
    "options = webdriver.ChromeOptions()\n",
    "options.add_argument('--ignore-certificate-errors')\n",
    "options.add_argument('--incognito')\n",
    "options.add_argument('--headless')\n",
    "driver = webdriver.Chrome(chdriver_path)"
   ]
  },
  {
   "cell_type": "code",
   "execution_count": 3,
   "metadata": {},
   "outputs": [],
   "source": [
    "website = \"https://www.bundestag.de/abgeordnete\"\n",
    "driver.get(website)\n",
    "\n",
    "# switching to list view\n",
    "element = driver.find_element_by_class_name('icon-list-bullet')\n",
    "webdriver.ActionChains(driver).move_to_element(element).click(element).perform()\n",
    "time.sleep(random.randint(5,10))"
   ]
  },
  {
   "cell_type": "code",
   "execution_count": 4,
   "metadata": {},
   "outputs": [
    {
     "data": {
      "text/plain": [
       "730"
      ]
     },
     "execution_count": 4,
     "metadata": {},
     "output_type": "execute_result"
    }
   ],
   "source": [
    "len(driver.find_element_by_class_name('bt-list-holder').find_elements_by_tag_name('li'))"
   ]
  },
  {
   "cell_type": "code",
   "execution_count": 5,
   "metadata": {},
   "outputs": [],
   "source": [
    "# link_list = driver.find_element_by_class_name('bt-list-holder').find_elements_by_tag_name('li')\n",
    "# name_list = driver.find_element_by_class_name('bt-list-holder').find_elements_by_tag_name('h3')\n",
    "# partei_list = driver.find_element_by_class_name('bt-list-holder').find_elements_by_tag_name('p')\n",
    "\n",
    "abg_dict = {}\n",
    "# len(driver.find_element_by_class_name('bt-list-holder').find_elements_by_tag_name('li'))\n",
    "abg_count = 0\n",
    "for link in driver.find_element_by_class_name('bt-list-holder').find_elements_by_tag_name('li'):\n",
    "    name = link.find_element_by_class_name('bt-teaser-person-text').find_element_by_tag_name('h3').text\n",
    "    partei = link.find_element_by_class_name('bt-teaser-person-text').find_element_by_tag_name('p').text\n",
    "    value = [name, partei] # value: name & partei\n",
    "    abg_dict[abg_count] = value\n",
    "    abg_count += 1"
   ]
  },
  {
   "cell_type": "code",
   "execution_count": 35,
   "metadata": {},
   "outputs": [],
   "source": [
    "abg_dict_test = {0: ['Abercron, Dr. Michael von', 'CDU/CSU'],\n",
    " 1: ['Achelwilm, Doris', 'Die Linke'],\n",
    " 2: ['Aggelidis, Grigorios', 'FDP'],\n",
    " 3: ['Akbulut, Gökay', 'Die Linke'],\n",
    " 4: ['Albani, Stephan', 'CDU/CSU'],\n",
    " 5: ['Alt, Renata', 'FDP'],\n",
    " 6: ['Altenkamp, Norbert', 'CDU/CSU'],\n",
    " 7: ['Altmaier, Peter', 'CDU/CSU']}\n",
    "test_dict = {}\n",
    "n = 8\n",
    "for i in range(0,n):\n",
    "    test_key = list(abg_dict_test.keys())[i]\n",
    "    test_dict[test_key] = abg_dict_test[test_key]"
   ]
  },
  {
   "cell_type": "code",
   "execution_count": 75,
   "metadata": {},
   "outputs": [
    {
     "data": {
      "text/plain": [
       "{707: ['Whittaker, Kai', 'CDU/CSU'],\n",
       " 708: ['Widmann-Mauz, Annette', 'CDU/CSU'],\n",
       " 709: ['Wiehle, Wolfgang', 'AfD'],\n",
       " 710: ['Wiese, Dirk', 'SPD'],\n",
       " 711: ['Wiesmann, Bettina Margarethe', 'CDU/CSU'],\n",
       " 712: ['Wildberg, Dr. Heiko', 'AfD'],\n",
       " 713: ['Willkomm, Katharina', 'FDP'],\n",
       " 714: ['Willsch, Klaus-Peter', 'CDU/CSU'],\n",
       " 715: ['Winkelmeier-Becker, Elisabeth', 'CDU/CSU'],\n",
       " 716: ['Wirth, Dr. Christian', 'AfD'],\n",
       " 717: ['Witt, Uwe', 'AfD'],\n",
       " 718: ['Wittke, Oliver', 'CDU/CSU'],\n",
       " 719: ['Yüksel, Gülistan', 'SPD'],\n",
       " 720: ['Zdebel, Hubertus', 'Die Linke'],\n",
       " 721: ['Zeulner, Emmi', 'CDU/CSU'],\n",
       " 722: ['Zickenheiner, Gerhard', 'Bündnis 90/Die Grünen'],\n",
       " 723: ['Ziegler, Dagmar', 'SPD'],\n",
       " 724: ['Ziemiak, Paul', 'CDU/CSU'],\n",
       " 725: ['Zierke, Stefan', 'SPD'],\n",
       " 726: ['Zimmer, Prof. Dr. Matthias', 'CDU/CSU'],\n",
       " 727: ['Zimmermann, Dr. Jens', 'SPD'],\n",
       " 728: ['Zimmermann, Pia', 'Die Linke'],\n",
       " 729: ['Zimmermann (Zwickau), Sabine', 'Die Linke']}"
      ]
     },
     "execution_count": 75,
     "metadata": {},
     "output_type": "execute_result"
    }
   ],
   "source": [
    "rest_dict = {\n",
    " 707: ['Whittaker, Kai', 'CDU/CSU'],\n",
    " 708: ['Widmann-Mauz, Annette', 'CDU/CSU'],\n",
    " 709: ['Wiehle, Wolfgang', 'AfD'],\n",
    " 710: ['Wiese, Dirk', 'SPD'],\n",
    " 711: ['Wiesmann, Bettina Margarethe', 'CDU/CSU'],\n",
    " 712: ['Wildberg, Dr. Heiko', 'AfD'],\n",
    " 713: ['Willkomm, Katharina', 'FDP'],\n",
    " 714: ['Willsch, Klaus-Peter', 'CDU/CSU'],\n",
    " 715: ['Winkelmeier-Becker, Elisabeth', 'CDU/CSU'],\n",
    " 716: ['Wirth, Dr. Christian', 'AfD'],\n",
    " 717: ['Witt, Uwe', 'AfD'],\n",
    " 718: ['Wittke, Oliver', 'CDU/CSU'],\n",
    " 719: ['Yüksel, Gülistan', 'SPD'],\n",
    " 720: ['Zdebel, Hubertus', 'Die Linke'],\n",
    " 721: ['Zeulner, Emmi', 'CDU/CSU'],\n",
    " 722: ['Zickenheiner, Gerhard', 'Bündnis 90/Die Grünen'],\n",
    " 723: ['Ziegler, Dagmar', 'SPD'],\n",
    " 724: ['Ziemiak, Paul', 'CDU/CSU'],\n",
    " 725: ['Zierke, Stefan', 'SPD'],\n",
    " 726: ['Zimmer, Prof. Dr. Matthias', 'CDU/CSU'],\n",
    " 727: ['Zimmermann, Dr. Jens', 'SPD'],\n",
    " 728: ['Zimmermann, Pia', 'Die Linke'],\n",
    " 729: ['Zimmermann (Zwickau), Sabine', 'Die Linke']}\n",
    "rest_dict"
   ]
  },
  {
   "cell_type": "code",
   "execution_count": 79,
   "metadata": {
    "scrolled": false
   },
   "outputs": [],
   "source": [
    "for abg in rest_dict:\n",
    "    \n",
    "    driver.get(website)\n",
    "\n",
    "    element = driver.find_element_by_class_name('icon-list-bullet')\n",
    "    webdriver.ActionChains(driver).move_to_element(element).click(element).perform()\n",
    "    time.sleep(random.randint(8,10))\n",
    "    \n",
    "    driver.find_element_by_class_name('bt-list-holder').find_elements_by_tag_name('li')[abg].click()\n",
    "    time.sleep(random.randint(8,10))\n",
    "\n",
    "    soup = BeautifulSoup(driver.page_source, 'lxml')\n",
    "\n",
    "    wahlart = soup.find_all('h4')[4].text\n",
    "    bundesland = soup.find('div', attrs = {'class': 'col-xs-12 col-sm-6 bt-standard-content'}).h5.text\n",
    "    wahlkreis = soup.find('div', attrs = {'class': 'col-xs-12 col-sm-6 bt-standard-content'}).a.text \\\n",
    "        if soup.find('div', attrs = {'class': 'col-xs-12 col-sm-6 bt-standard-content'}).a is not None else \"n.a.\"   \n",
    "\n",
    "    ### ausschuesse\n",
    "    ausschuesse = {}\n",
    "\n",
    "    # keys: position within ausschuesse (ordentliches mitglied, stellvertretendes mitglied)\n",
    "    keys = []\n",
    "    for heading in soup.find_all(class_ = 'bt-collapse-padding-bottom')[4].find_all('h5'):\n",
    "        key = heading.text.strip('\\n').strip() \n",
    "        keys.append(key)\n",
    "\n",
    "    # values: the actual ausschuesse\n",
    "    values = []\n",
    "    for ul in soup.find_all(class_ = 'bt-collapse-padding-bottom')[4].find_all('ul'):\n",
    "        entries = []\n",
    "        for x in ul.find_all('a'):\n",
    "            entries.append(x['title'])\n",
    "        values.append(entries)\n",
    "\n",
    "    # in case of mitgliedschaften in sonstigen gremien\n",
    "    if len(soup.find_all('h4', string = 'Mitgliedschaften in sonstigen Gremien')) == 1:\n",
    "        for heading in soup.find_all(class_ = 'bt-collapse-padding-bottom')[5].find_all('h5'):\n",
    "            interim_key = heading.text.strip('\\n').strip()\n",
    "            key = f'{interim_key} (sonstige Gremien)'\n",
    "            keys.append(key)\n",
    "\n",
    "        for ul in soup.find_all(class_ = 'bt-collapse-padding-bottom')[5].find_all('ul'):\n",
    "            entries = []\n",
    "            for x in ul.find_all('a'):\n",
    "                entries.append(x['title'])\n",
    "            values.append(entries)\n",
    "    \n",
    "    if len(soup.find_all('h4', string = 'Funktion')) == 0:\n",
    "        for i in range(len(keys)):\n",
    "            ausschuesse[keys[i]] = values[i]\n",
    "    else:\n",
    "        for i in range(len(keys)):\n",
    "            ausschuesse[keys[i]] = []  \n",
    "    ###\n",
    "\n",
    "    ### social media\n",
    "    social_media = {}\n",
    "\n",
    "    if len(soup.find_all('h5', string = 'Profile im Internet')) == 1:\n",
    "        for link in soup.find_all(class_ = 'bt-linkliste')[0].find_all('a'):\n",
    "            social_media[link['title']] = link.get('href')\n",
    "    ###\n",
    "    \n",
    "    biografie = str()\n",
    "    for p in soup.find(class_ = 'bt-collapse-padding-bottom').find_all('p'):\n",
    "        biografie += p.text.strip('\\n').replace(u'\\xa0', u' ')\n",
    "\n",
    "    abg_dict[abg].append(wahlkreis)\n",
    "    abg_dict[abg].append(bundesland)\n",
    "    abg_dict[abg].append(wahlart)\n",
    "    abg_dict[abg].append(ausschuesse)\n",
    "    abg_dict[abg].append(social_media)\n",
    "    abg_dict[abg].append(biografie)\n",
    "    \n",
    "    # close page, return to list of all MdBs\n",
    "    # driver.find_element_by_class_name('bt-overlay-close').find_element_by_tag_name('a').click()"
   ]
  },
  {
   "cell_type": "code",
   "execution_count": 81,
   "metadata": {},
   "outputs": [],
   "source": [
    "with open('abg_dict.pickle', 'wb') as handle:\n",
    "    pickle.dump(abg_dict, handle, protocol=pickle.HIGHEST_PROTOCOL)\n",
    "\n",
    "# with open(r'C:\\Users\\Simon\\OneDrive\\Uni\\LMU\\SS 2020\\Statistisches Consulting\\python_scribbles\\abg_dict.pickle', 'rb') as handle:\n",
    "#     abg_dict = pickle.load(handle)"
   ]
  }
 ],
 "metadata": {
  "kernelspec": {
   "display_name": "Python 3",
   "language": "python",
   "name": "python3"
  },
  "language_info": {
   "codemirror_mode": {
    "name": "ipython",
    "version": 3
   },
   "file_extension": ".py",
   "mimetype": "text/x-python",
   "name": "python",
   "nbconvert_exporter": "python",
   "pygments_lexer": "ipython3",
   "version": "3.7.6"
  }
 },
 "nbformat": 4,
 "nbformat_minor": 4
}
