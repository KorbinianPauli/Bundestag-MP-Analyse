{
 "cells": [
  {
   "cell_type": "code",
   "execution_count": 2,
   "metadata": {},
   "outputs": [],
   "source": [
    "# %load tweepy_download.py\n",
    "#!/usr/bin/env python3\n",
    "\"\"\"\n",
    "Created on Sun Apr 19 11:37:06 2020\n",
    "\n",
    "@author: patrickschulze\n",
    "\"\"\"\n",
    "\n",
    "import pandas as pd\n",
    "import pickle\n",
    "import tweepy_helpers as th\n",
    "\n",
    "# import Bundestag data\n",
    "with open('abg_df.pickle', 'rb') as handle:\n",
    "    bt_data = pickle.load(handle)\n",
    "    \n",
    "# select name and username for each member and store in table called twitter_account\n",
    "names = bt_data['Name']\n",
    "twitter_usernames = bt_data['Twitter']\n",
    "names.rename(\"name\", inplace = True)\n",
    "twitter_usernames.rename(\"username\", inplace = True)\n",
    "twitter_account = pd.concat([names, twitter_usernames], axis = 1)\n",
    "\n",
    "# drop usernames that are nan or empty (i.e. parliamentarians with no account)\n",
    "usr_nan = twitter_account.username.isna()\n",
    "usr_empty = twitter_account.username == ''\n",
    "twitter_account = twitter_account[~(usr_nan | usr_empty)]\n",
    "twitter_account.reset_index(drop = True, inplace = True)"
   ]
  },
  {
   "cell_type": "code",
   "execution_count": 3,
   "metadata": {},
   "outputs": [],
   "source": [
    "# load in tweepy_df \n",
    "with open('tweepy_df.pickle', 'rb') as handle:\n",
    "    tweepy_df = pickle.load(handle)"
   ]
  },
  {
   "cell_type": "code",
   "execution_count": 10,
   "metadata": {},
   "outputs": [],
   "source": [
    "missing_usernames = tweepy_df.loc[tweepy_df.available == False][['name', 'username']]"
   ]
  },
  {
   "cell_type": "code",
   "execution_count": 21,
   "metadata": {},
   "outputs": [
    {
     "name": "stdout",
     "output_type": "stream",
     "text": [
      "data for user Manfredbehrens cannot be downloaded\n",
      "data for user EspendillerM cannot be downloaded\n",
      "data for user FechnerJohannes cannot be downloaded\n",
      "data for user UweFe cannot be downloaded\n",
      "data for user friedhoff_afd cannot be downloaded\n",
      "data for user manfred_grund cannot be downloaded\n",
      "data for user FGuentzler cannot be downloaded\n",
      "data for user ChristianHaase6 cannot be downloaded\n",
      "data for user frankheinrich cannot be downloaded\n",
      "data for user gabihillerohm cannot be downloaded\n",
      "data for user Karsten_Hilse cannot be downloaded\n",
      "data for user fjunge cannot be downloaded\n",
      "data for user lier_e cannot be downloaded\n",
      "data for user AchimKessler cannot be downloaded\n",
      "data for user koobmar cannot be downloaded\n",
      "data for user UlrichLange cannot be downloaded\n",
      "data for user buerger2016 cannot be downloaded\n",
      "data for user thlutze cannot be downloaded\n",
      "data for user AMattfeldt cannot be downloaded\n",
      "data for user MdBMonstadt cannot be downloaded\n",
      "data for user WilfriedOellers cannot be downloaded\n",
      "data for user oezdemir_spd cannot be downloaded\n",
      "data for user ProtschkaStepha cannot be downloaded\n",
      "data for user martinrabanus cannot be downloaded\n",
      "data for user ManuelaRottmann cannot be downloaded\n",
      "data for user SchaeferCDU cannot be downloaded\n",
      "data for user UdoSchiefner cannot be downloaded\n",
      "data for user jojoschraps cannot be downloaded\n",
      "data for user SpringerRen cannot be downloaded\n",
      "data for user MdBMarkusUhl cannot be downloaded\n",
      "data for user PeterWeissMdB cannot be downloaded\n",
      "data for user JensZimmermann1 cannot be downloaded\n"
     ]
    }
   ],
   "source": [
    "# download most recent tweets using tweepy (at most 3200 tweets per user) for initially missing accounts\n",
    "for username in missing_usernames['username']:\n",
    "    tweepy_df = pd.concat([tweepy_df, th.download_tweets_tweepy(username)])"
   ]
  },
  {
   "cell_type": "code",
   "execution_count": 23,
   "metadata": {},
   "outputs": [],
   "source": [
    "# add column 'name'\n",
    "tweepy_df = twitter_account.merge(tweepy_df, on = 'username')\n",
    "tweepy_df = tweepy_df.drop(columns = ['name_y'])\n",
    "tweepy_df.rename(columns={'name_x':'name'}, inplace=True)"
   ]
  },
  {
   "cell_type": "code",
   "execution_count": 33,
   "metadata": {},
   "outputs": [],
   "source": [
    "# save data\n",
    "with open('tweepy_df.pickle', 'wb') as handle:\n",
    "    pickle.dump(tweepy_df, handle, protocol=pickle.HIGHEST_PROTOCOL)"
   ]
  }
 ],
 "metadata": {
  "kernelspec": {
   "display_name": "Python 3",
   "language": "python",
   "name": "python3"
  },
  "language_info": {
   "codemirror_mode": {
    "name": "ipython",
    "version": 3
   },
   "file_extension": ".py",
   "mimetype": "text/x-python",
   "name": "python",
   "nbconvert_exporter": "python",
   "pygments_lexer": "ipython3",
   "version": "3.7.6"
  }
 },
 "nbformat": 4,
 "nbformat_minor": 4
}
