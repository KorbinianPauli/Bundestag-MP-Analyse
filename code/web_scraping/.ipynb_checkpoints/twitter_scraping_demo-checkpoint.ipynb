{
 "cells": [
  {
   "cell_type": "markdown",
   "metadata": {},
   "source": [
    "# Downloading data from Twitter"
   ]
  },
  {
   "cell_type": "markdown",
   "metadata": {},
   "source": [
    "Note that the functions used for downloading are imported from our scripts 'tweepy_helpers' and 'got3_helpers'."
   ]
  },
  {
   "cell_type": "code",
   "execution_count": 4,
   "metadata": {},
   "outputs": [],
   "source": [
    "import os\n",
    "import pandas as pd\n",
    "import pickle\n",
    "import tweepy_helpers as th\n",
    "import got3_helpers as got3"
   ]
  },
  {
   "cell_type": "code",
   "execution_count": 5,
   "metadata": {},
   "outputs": [
    {
     "data": {
      "text/plain": [
       "'/Users/patrickschulze/Desktop/Consulting/Bundestag-MP-Analyse/data/web_scraping'"
      ]
     },
     "execution_count": 5,
     "metadata": {},
     "output_type": "execute_result"
    }
   ],
   "source": [
    "# set up working directory\n",
    "os.path.abspath(os.getcwd()) # initial working directory (should be equal to source file directory if using Jupyter Notebook)\n",
    "os.chdir('../../data/web_scraping') # change to directory where all data files are stored\n",
    "# check working directory\n",
    "os.path.abspath(os.getcwd())"
   ]
  },
  {
   "cell_type": "markdown",
   "metadata": {},
   "source": [
    "## 1. Data Import"
   ]
  },
  {
   "cell_type": "code",
   "execution_count": 6,
   "metadata": {},
   "outputs": [],
   "source": [
    "# import Bundestag data\n",
    "with open('abg_df.pickle', 'rb') as handle:\n",
    "    bt_data = pickle.load(handle)\n"
   ]
  },
  {
   "cell_type": "code",
   "execution_count": 7,
   "metadata": {},
   "outputs": [
    {
     "data": {
      "text/html": [
       "<div>\n",
       "<style scoped>\n",
       "    .dataframe tbody tr th:only-of-type {\n",
       "        vertical-align: middle;\n",
       "    }\n",
       "\n",
       "    .dataframe tbody tr th {\n",
       "        vertical-align: top;\n",
       "    }\n",
       "\n",
       "    .dataframe thead th {\n",
       "        text-align: right;\n",
       "    }\n",
       "</style>\n",
       "<table border=\"1\" class=\"dataframe\">\n",
       "  <thead>\n",
       "    <tr style=\"text-align: right;\">\n",
       "      <th></th>\n",
       "      <th>Name</th>\n",
       "      <th>Partei</th>\n",
       "      <th>Wahlart</th>\n",
       "      <th>Bundesland</th>\n",
       "      <th>Wahlkreis</th>\n",
       "      <th>Wahlkreis-Nr.</th>\n",
       "      <th>Ausschuesse</th>\n",
       "      <th>Soziale Medien</th>\n",
       "      <th>Biografie</th>\n",
       "      <th>Twitter</th>\n",
       "    </tr>\n",
       "  </thead>\n",
       "  <tbody>\n",
       "    <tr>\n",
       "      <th>0</th>\n",
       "      <td>Abercron, Dr. Michael von</td>\n",
       "      <td>CDU/CSU</td>\n",
       "      <td>Direkt gewählt</td>\n",
       "      <td>Schleswig-Holstein</td>\n",
       "      <td>Pinneberg</td>\n",
       "      <td>7</td>\n",
       "      <td>{'Ordentliches Mitglied': ['Ausschuss für Ernä...</td>\n",
       "      <td>{'von-abercron.de/': 'http://www.von-abercron....</td>\n",
       "      <td>Geboren am 17. November 1952 in Ehlers...</td>\n",
       "      <td>mvabercron</td>\n",
       "    </tr>\n",
       "    <tr>\n",
       "      <th>1</th>\n",
       "      <td>Achelwilm, Doris</td>\n",
       "      <td>Die Linke</td>\n",
       "      <td>Gewählt über Landesliste</td>\n",
       "      <td>Bremen</td>\n",
       "      <td></td>\n",
       "      <td></td>\n",
       "      <td>{'Ordentliches Mitglied': ['Ausschuss für Fami...</td>\n",
       "      <td>{'doris-achelwilm.de': 'http://www.doris-achel...</td>\n",
       "      <td>Geboren am 30. November 1976 in Thuine...</td>\n",
       "      <td>DorisAchelwilm</td>\n",
       "    </tr>\n",
       "    <tr>\n",
       "      <th>2</th>\n",
       "      <td>Aggelidis, Grigorios</td>\n",
       "      <td>FDP</td>\n",
       "      <td>Gewählt über Landesliste</td>\n",
       "      <td>Niedersachsen</td>\n",
       "      <td>Hannover-Land I</td>\n",
       "      <td>43</td>\n",
       "      <td>{'Ordentliches Mitglied': ['Kuratorium der Bun...</td>\n",
       "      <td>{'grigorios-aggelidis.de': 'http://www.grigori...</td>\n",
       "      <td>Geboren am 19. August 1965 in Hannover...</td>\n",
       "      <td>aggelidis_fdp</td>\n",
       "    </tr>\n",
       "    <tr>\n",
       "      <th>3</th>\n",
       "      <td>Akbulut, Gökay</td>\n",
       "      <td>Die Linke</td>\n",
       "      <td>Gewählt über Landesliste</td>\n",
       "      <td>Baden-Württemberg</td>\n",
       "      <td>Mannheim</td>\n",
       "      <td>275</td>\n",
       "      <td>{'Ordentliches Mitglied': ['Schriftführer/in',...</td>\n",
       "      <td>{'goekay-akbulut.de': 'https://goekay-akbulut....</td>\n",
       "      <td>Geboren 1982 in Pinarbasi/ Türkei; ledig.Juni ...</td>\n",
       "      <td>akbulutgokay</td>\n",
       "    </tr>\n",
       "    <tr>\n",
       "      <th>4</th>\n",
       "      <td>Albani, Stephan</td>\n",
       "      <td>CDU/CSU</td>\n",
       "      <td>Gewählt über Landesliste</td>\n",
       "      <td>Niedersachsen</td>\n",
       "      <td>Oldenburg – Ammerland</td>\n",
       "      <td>27</td>\n",
       "      <td>{'Ordentliches Mitglied': ['Ausschuss für Bild...</td>\n",
       "      <td>{'stephan-albani.de': 'http://www.stephan-alba...</td>\n",
       "      <td>Geboren am 3. Juni 1968 in Göttingen; verheira...</td>\n",
       "      <td></td>\n",
       "    </tr>\n",
       "    <tr>\n",
       "      <th>...</th>\n",
       "      <td>...</td>\n",
       "      <td>...</td>\n",
       "      <td>...</td>\n",
       "      <td>...</td>\n",
       "      <td>...</td>\n",
       "      <td>...</td>\n",
       "      <td>...</td>\n",
       "      <td>...</td>\n",
       "      <td>...</td>\n",
       "      <td>...</td>\n",
       "    </tr>\n",
       "    <tr>\n",
       "      <th>725</th>\n",
       "      <td>Zierke, Stefan</td>\n",
       "      <td>SPD</td>\n",
       "      <td>Gewählt über Landesliste</td>\n",
       "      <td>Brandenburg</td>\n",
       "      <td>Uckermark – Barnim I</td>\n",
       "      <td>57</td>\n",
       "      <td>{'Parlamentarischer Staatssekretär bei der Bun...</td>\n",
       "      <td>{'stefan-zierke.de': 'http://www.stefan-zierke...</td>\n",
       "      <td>Geboren am 5. Dezember 1970 in Prenzlau (Brand...</td>\n",
       "      <td>zierke</td>\n",
       "    </tr>\n",
       "    <tr>\n",
       "      <th>726</th>\n",
       "      <td>Zimmer, Prof. Dr. Matthias</td>\n",
       "      <td>CDU/CSU</td>\n",
       "      <td>Direkt gewählt</td>\n",
       "      <td>Hessen</td>\n",
       "      <td>Frankfurt am Main I</td>\n",
       "      <td>182</td>\n",
       "      <td>{'Obmann': ['Ausschuss für Arbeit und Soziales...</td>\n",
       "      <td>{'matthias-zimmer.de': 'http://www.matthias-zi...</td>\n",
       "      <td>Geboren am 3. Mai 1961 in Marburg/Lahn; verhei...</td>\n",
       "      <td>matthiaszimmer</td>\n",
       "    </tr>\n",
       "    <tr>\n",
       "      <th>727</th>\n",
       "      <td>Zimmermann, Dr. Jens</td>\n",
       "      <td>SPD</td>\n",
       "      <td>Gewählt über Landesliste</td>\n",
       "      <td>Hessen</td>\n",
       "      <td>Odenwald</td>\n",
       "      <td>187</td>\n",
       "      <td>{'Obmann': ['Ausschuss Digitale Agenda'], 'Ord...</td>\n",
       "      <td>{'jens-zimmermann.org': 'http://www.jens-zimme...</td>\n",
       "      <td>Geboren am 9. September 1981 in Groß-U...</td>\n",
       "      <td>JensZimmermann1</td>\n",
       "    </tr>\n",
       "    <tr>\n",
       "      <th>728</th>\n",
       "      <td>Zimmermann, Pia</td>\n",
       "      <td>Die Linke</td>\n",
       "      <td>Gewählt über Landesliste</td>\n",
       "      <td>Niedersachsen</td>\n",
       "      <td>Helmstedt – Wolfsburg</td>\n",
       "      <td>51</td>\n",
       "      <td>{'Ordentliches Mitglied': ['Ausschuss für Gesu...</td>\n",
       "      <td>{'pia-zimmermann.de': 'http://www.pia-zimmerma...</td>\n",
       "      <td>Geboren am 17. September 1956 in Braunschweig;...</td>\n",
       "      <td></td>\n",
       "    </tr>\n",
       "    <tr>\n",
       "      <th>729</th>\n",
       "      <td>Zimmermann (Zwickau), Sabine</td>\n",
       "      <td>Die Linke</td>\n",
       "      <td>Gewählt über Landesliste</td>\n",
       "      <td>Sachsen</td>\n",
       "      <td>Zwickau</td>\n",
       "      <td>165</td>\n",
       "      <td>{'Vorsitzende': ['Ausschuss für Familie, Senio...</td>\n",
       "      <td>{'sabine-zimmermann.info': 'http://sabine-zimm...</td>\n",
       "      <td>Geboren am 30. Dezember 1960 in Pasewa...</td>\n",
       "      <td></td>\n",
       "    </tr>\n",
       "  </tbody>\n",
       "</table>\n",
       "<p>730 rows × 10 columns</p>\n",
       "</div>"
      ],
      "text/plain": [
       "                             Name     Partei                   Wahlart  \\\n",
       "0       Abercron, Dr. Michael von    CDU/CSU            Direkt gewählt   \n",
       "1                Achelwilm, Doris  Die Linke  Gewählt über Landesliste   \n",
       "2            Aggelidis, Grigorios        FDP  Gewählt über Landesliste   \n",
       "3                  Akbulut, Gökay  Die Linke  Gewählt über Landesliste   \n",
       "4                 Albani, Stephan    CDU/CSU  Gewählt über Landesliste   \n",
       "..                            ...        ...                       ...   \n",
       "725                Zierke, Stefan        SPD  Gewählt über Landesliste   \n",
       "726    Zimmer, Prof. Dr. Matthias    CDU/CSU            Direkt gewählt   \n",
       "727          Zimmermann, Dr. Jens        SPD  Gewählt über Landesliste   \n",
       "728               Zimmermann, Pia  Die Linke  Gewählt über Landesliste   \n",
       "729  Zimmermann (Zwickau), Sabine  Die Linke  Gewählt über Landesliste   \n",
       "\n",
       "             Bundesland              Wahlkreis Wahlkreis-Nr.  \\\n",
       "0    Schleswig-Holstein              Pinneberg             7   \n",
       "1                Bremen                                        \n",
       "2         Niedersachsen        Hannover-Land I            43   \n",
       "3     Baden-Württemberg               Mannheim           275   \n",
       "4         Niedersachsen  Oldenburg – Ammerland            27   \n",
       "..                  ...                    ...           ...   \n",
       "725         Brandenburg   Uckermark – Barnim I            57   \n",
       "726              Hessen    Frankfurt am Main I           182   \n",
       "727              Hessen               Odenwald           187   \n",
       "728       Niedersachsen  Helmstedt – Wolfsburg            51   \n",
       "729             Sachsen                Zwickau           165   \n",
       "\n",
       "                                           Ausschuesse  \\\n",
       "0    {'Ordentliches Mitglied': ['Ausschuss für Ernä...   \n",
       "1    {'Ordentliches Mitglied': ['Ausschuss für Fami...   \n",
       "2    {'Ordentliches Mitglied': ['Kuratorium der Bun...   \n",
       "3    {'Ordentliches Mitglied': ['Schriftführer/in',...   \n",
       "4    {'Ordentliches Mitglied': ['Ausschuss für Bild...   \n",
       "..                                                 ...   \n",
       "725  {'Parlamentarischer Staatssekretär bei der Bun...   \n",
       "726  {'Obmann': ['Ausschuss für Arbeit und Soziales...   \n",
       "727  {'Obmann': ['Ausschuss Digitale Agenda'], 'Ord...   \n",
       "728  {'Ordentliches Mitglied': ['Ausschuss für Gesu...   \n",
       "729  {'Vorsitzende': ['Ausschuss für Familie, Senio...   \n",
       "\n",
       "                                        Soziale Medien  \\\n",
       "0    {'von-abercron.de/': 'http://www.von-abercron....   \n",
       "1    {'doris-achelwilm.de': 'http://www.doris-achel...   \n",
       "2    {'grigorios-aggelidis.de': 'http://www.grigori...   \n",
       "3    {'goekay-akbulut.de': 'https://goekay-akbulut....   \n",
       "4    {'stephan-albani.de': 'http://www.stephan-alba...   \n",
       "..                                                 ...   \n",
       "725  {'stefan-zierke.de': 'http://www.stefan-zierke...   \n",
       "726  {'matthias-zimmer.de': 'http://www.matthias-zi...   \n",
       "727  {'jens-zimmermann.org': 'http://www.jens-zimme...   \n",
       "728  {'pia-zimmermann.de': 'http://www.pia-zimmerma...   \n",
       "729  {'sabine-zimmermann.info': 'http://sabine-zimm...   \n",
       "\n",
       "                                             Biografie          Twitter  \n",
       "0            Geboren am 17. November 1952 in Ehlers...       mvabercron  \n",
       "1            Geboren am 30. November 1976 in Thuine...   DorisAchelwilm  \n",
       "2            Geboren am 19. August 1965 in Hannover...    aggelidis_fdp  \n",
       "3    Geboren 1982 in Pinarbasi/ Türkei; ledig.Juni ...     akbulutgokay  \n",
       "4    Geboren am 3. Juni 1968 in Göttingen; verheira...                   \n",
       "..                                                 ...              ...  \n",
       "725  Geboren am 5. Dezember 1970 in Prenzlau (Brand...           zierke  \n",
       "726  Geboren am 3. Mai 1961 in Marburg/Lahn; verhei...   matthiaszimmer  \n",
       "727          Geboren am 9. September 1981 in Groß-U...  JensZimmermann1  \n",
       "728  Geboren am 17. September 1956 in Braunschweig;...                   \n",
       "729          Geboren am 30. Dezember 1960 in Pasewa...                   \n",
       "\n",
       "[730 rows x 10 columns]"
      ]
     },
     "execution_count": 7,
     "metadata": {},
     "output_type": "execute_result"
    }
   ],
   "source": [
    "bt_data"
   ]
  },
  {
   "cell_type": "code",
   "execution_count": 8,
   "metadata": {},
   "outputs": [],
   "source": [
    "# select name and username for each member and store in table called twitter_account\n",
    "names = bt_data['Name']\n",
    "twitter_usernames = bt_data['Twitter']\n",
    "names.rename(\"name\", inplace = True)\n",
    "twitter_usernames.rename(\"username\", inplace = True)\n",
    "twitter_account = pd.concat([names, twitter_usernames], axis = 1)"
   ]
  },
  {
   "cell_type": "code",
   "execution_count": 9,
   "metadata": {},
   "outputs": [
    {
     "data": {
      "text/html": [
       "<div>\n",
       "<style scoped>\n",
       "    .dataframe tbody tr th:only-of-type {\n",
       "        vertical-align: middle;\n",
       "    }\n",
       "\n",
       "    .dataframe tbody tr th {\n",
       "        vertical-align: top;\n",
       "    }\n",
       "\n",
       "    .dataframe thead th {\n",
       "        text-align: right;\n",
       "    }\n",
       "</style>\n",
       "<table border=\"1\" class=\"dataframe\">\n",
       "  <thead>\n",
       "    <tr style=\"text-align: right;\">\n",
       "      <th></th>\n",
       "      <th>name</th>\n",
       "      <th>username</th>\n",
       "    </tr>\n",
       "  </thead>\n",
       "  <tbody>\n",
       "    <tr>\n",
       "      <th>0</th>\n",
       "      <td>Abercron, Dr. Michael von</td>\n",
       "      <td>mvabercron</td>\n",
       "    </tr>\n",
       "    <tr>\n",
       "      <th>1</th>\n",
       "      <td>Achelwilm, Doris</td>\n",
       "      <td>DorisAchelwilm</td>\n",
       "    </tr>\n",
       "    <tr>\n",
       "      <th>2</th>\n",
       "      <td>Aggelidis, Grigorios</td>\n",
       "      <td>aggelidis_fdp</td>\n",
       "    </tr>\n",
       "    <tr>\n",
       "      <th>3</th>\n",
       "      <td>Akbulut, Gökay</td>\n",
       "      <td>akbulutgokay</td>\n",
       "    </tr>\n",
       "    <tr>\n",
       "      <th>4</th>\n",
       "      <td>Albani, Stephan</td>\n",
       "      <td></td>\n",
       "    </tr>\n",
       "    <tr>\n",
       "      <th>...</th>\n",
       "      <td>...</td>\n",
       "      <td>...</td>\n",
       "    </tr>\n",
       "    <tr>\n",
       "      <th>725</th>\n",
       "      <td>Zierke, Stefan</td>\n",
       "      <td>zierke</td>\n",
       "    </tr>\n",
       "    <tr>\n",
       "      <th>726</th>\n",
       "      <td>Zimmer, Prof. Dr. Matthias</td>\n",
       "      <td>matthiaszimmer</td>\n",
       "    </tr>\n",
       "    <tr>\n",
       "      <th>727</th>\n",
       "      <td>Zimmermann, Dr. Jens</td>\n",
       "      <td>JensZimmermann1</td>\n",
       "    </tr>\n",
       "    <tr>\n",
       "      <th>728</th>\n",
       "      <td>Zimmermann, Pia</td>\n",
       "      <td></td>\n",
       "    </tr>\n",
       "    <tr>\n",
       "      <th>729</th>\n",
       "      <td>Zimmermann (Zwickau), Sabine</td>\n",
       "      <td></td>\n",
       "    </tr>\n",
       "  </tbody>\n",
       "</table>\n",
       "<p>730 rows × 2 columns</p>\n",
       "</div>"
      ],
      "text/plain": [
       "                             name         username\n",
       "0       Abercron, Dr. Michael von       mvabercron\n",
       "1                Achelwilm, Doris   DorisAchelwilm\n",
       "2            Aggelidis, Grigorios    aggelidis_fdp\n",
       "3                  Akbulut, Gökay     akbulutgokay\n",
       "4                 Albani, Stephan                 \n",
       "..                            ...              ...\n",
       "725                Zierke, Stefan           zierke\n",
       "726    Zimmer, Prof. Dr. Matthias   matthiaszimmer\n",
       "727          Zimmermann, Dr. Jens  JensZimmermann1\n",
       "728               Zimmermann, Pia                 \n",
       "729  Zimmermann (Zwickau), Sabine                 \n",
       "\n",
       "[730 rows x 2 columns]"
      ]
     },
     "execution_count": 9,
     "metadata": {},
     "output_type": "execute_result"
    }
   ],
   "source": [
    "twitter_account"
   ]
  },
  {
   "cell_type": "markdown",
   "metadata": {},
   "source": [
    "In total we have 730 parliamentarians. However, not all of them have a twitter account."
   ]
  },
  {
   "cell_type": "code",
   "execution_count": 10,
   "metadata": {},
   "outputs": [],
   "source": [
    "# drop usernames that are nan or empty (i.e. parliamentarians with no account)\n",
    "usr_nan = twitter_account.username.isna()\n",
    "usr_empty = twitter_account.username == ''\n",
    "twitter_account = twitter_account[~(usr_nan | usr_empty)]\n",
    "twitter_account.reset_index(drop = True, inplace = True)"
   ]
  },
  {
   "cell_type": "code",
   "execution_count": 11,
   "metadata": {},
   "outputs": [
    {
     "data": {
      "text/html": [
       "<div>\n",
       "<style scoped>\n",
       "    .dataframe tbody tr th:only-of-type {\n",
       "        vertical-align: middle;\n",
       "    }\n",
       "\n",
       "    .dataframe tbody tr th {\n",
       "        vertical-align: top;\n",
       "    }\n",
       "\n",
       "    .dataframe thead th {\n",
       "        text-align: right;\n",
       "    }\n",
       "</style>\n",
       "<table border=\"1\" class=\"dataframe\">\n",
       "  <thead>\n",
       "    <tr style=\"text-align: right;\">\n",
       "      <th></th>\n",
       "      <th>name</th>\n",
       "      <th>username</th>\n",
       "    </tr>\n",
       "  </thead>\n",
       "  <tbody>\n",
       "    <tr>\n",
       "      <th>0</th>\n",
       "      <td>Abercron, Dr. Michael von</td>\n",
       "      <td>mvabercron</td>\n",
       "    </tr>\n",
       "    <tr>\n",
       "      <th>1</th>\n",
       "      <td>Achelwilm, Doris</td>\n",
       "      <td>DorisAchelwilm</td>\n",
       "    </tr>\n",
       "    <tr>\n",
       "      <th>2</th>\n",
       "      <td>Aggelidis, Grigorios</td>\n",
       "      <td>aggelidis_fdp</td>\n",
       "    </tr>\n",
       "    <tr>\n",
       "      <th>3</th>\n",
       "      <td>Akbulut, Gökay</td>\n",
       "      <td>akbulutgokay</td>\n",
       "    </tr>\n",
       "    <tr>\n",
       "      <th>4</th>\n",
       "      <td>Alt, Renata</td>\n",
       "      <td>RenataAlt_MdB</td>\n",
       "    </tr>\n",
       "    <tr>\n",
       "      <th>...</th>\n",
       "      <td>...</td>\n",
       "      <td>...</td>\n",
       "    </tr>\n",
       "    <tr>\n",
       "      <th>508</th>\n",
       "      <td>Zdebel, Hubertus</td>\n",
       "      <td>ZdebelHubertus</td>\n",
       "    </tr>\n",
       "    <tr>\n",
       "      <th>509</th>\n",
       "      <td>Ziemiak, Paul</td>\n",
       "      <td>PaulZiemiak</td>\n",
       "    </tr>\n",
       "    <tr>\n",
       "      <th>510</th>\n",
       "      <td>Zierke, Stefan</td>\n",
       "      <td>zierke</td>\n",
       "    </tr>\n",
       "    <tr>\n",
       "      <th>511</th>\n",
       "      <td>Zimmer, Prof. Dr. Matthias</td>\n",
       "      <td>matthiaszimmer</td>\n",
       "    </tr>\n",
       "    <tr>\n",
       "      <th>512</th>\n",
       "      <td>Zimmermann, Dr. Jens</td>\n",
       "      <td>JensZimmermann1</td>\n",
       "    </tr>\n",
       "  </tbody>\n",
       "</table>\n",
       "<p>513 rows × 2 columns</p>\n",
       "</div>"
      ],
      "text/plain": [
       "                           name         username\n",
       "0     Abercron, Dr. Michael von       mvabercron\n",
       "1              Achelwilm, Doris   DorisAchelwilm\n",
       "2          Aggelidis, Grigorios    aggelidis_fdp\n",
       "3                Akbulut, Gökay     akbulutgokay\n",
       "4                   Alt, Renata    RenataAlt_MdB\n",
       "..                          ...              ...\n",
       "508            Zdebel, Hubertus   ZdebelHubertus\n",
       "509               Ziemiak, Paul      PaulZiemiak\n",
       "510              Zierke, Stefan           zierke\n",
       "511  Zimmer, Prof. Dr. Matthias   matthiaszimmer\n",
       "512        Zimmermann, Dr. Jens  JensZimmermann1\n",
       "\n",
       "[513 rows x 2 columns]"
      ]
     },
     "execution_count": 11,
     "metadata": {},
     "output_type": "execute_result"
    }
   ],
   "source": [
    "twitter_account"
   ]
  },
  {
   "cell_type": "markdown",
   "metadata": {},
   "source": [
    "So out of 730 parliamentarians, for 513 we were able to obtain a twitter account."
   ]
  },
  {
   "cell_type": "markdown",
   "metadata": {},
   "source": [
    "## 2. Download with GetOldTweets3"
   ]
  },
  {
   "cell_type": "markdown",
   "metadata": {},
   "source": [
    "GetOldTweets3 is an \"inofficial\" Python module, which can be used to scrape tweets and other information from Twitter. While the official Twitter-API Tweepy has a limit of 3200 Tweets per user, with GetOldTweets3 it is possible to download an unlimited number of tweets for a given user. "
   ]
  },
  {
   "cell_type": "code",
   "execution_count": 12,
   "metadata": {},
   "outputs": [
    {
     "name": "stdout",
     "output_type": "stream",
     "text": [
      "Downloading for mvabercron\n",
      "Downloading for DorisAchelwilm\n"
     ]
    }
   ],
   "source": [
    "# download tweets using GetOldTweets3 for specified time period\n",
    "res_got3 = pd.DataFrame()\n",
    "# in this demo only for first 40 MPs...\n",
    "for username in twitter_account.iloc[0:40, 1]:\n",
    "    res_got3 = pd.concat([res_got3, got3.download_tweets_got3(username, since = \"2020-04-05\", \\\n",
    "                                          until = \"2020-04-08\")])"
   ]
  },
  {
   "cell_type": "code",
   "execution_count": 13,
   "metadata": {},
   "outputs": [
    {
     "data": {
      "text/html": [
       "<div>\n",
       "<style scoped>\n",
       "    .dataframe tbody tr th:only-of-type {\n",
       "        vertical-align: middle;\n",
       "    }\n",
       "\n",
       "    .dataframe tbody tr th {\n",
       "        vertical-align: top;\n",
       "    }\n",
       "\n",
       "    .dataframe thead th {\n",
       "        text-align: right;\n",
       "    }\n",
       "</style>\n",
       "<table border=\"1\" class=\"dataframe\">\n",
       "  <thead>\n",
       "    <tr style=\"text-align: right;\">\n",
       "      <th></th>\n",
       "      <th>name</th>\n",
       "      <th>username</th>\n",
       "      <th>to</th>\n",
       "      <th>text</th>\n",
       "      <th>retweets</th>\n",
       "      <th>favorites</th>\n",
       "      <th>replies</th>\n",
       "      <th>id</th>\n",
       "      <th>permalink</th>\n",
       "      <th>author_id</th>\n",
       "      <th>date</th>\n",
       "      <th>formatted_date</th>\n",
       "      <th>hashtags</th>\n",
       "      <th>mentions</th>\n",
       "      <th>geo</th>\n",
       "      <th>urls</th>\n",
       "    </tr>\n",
       "  </thead>\n",
       "  <tbody>\n",
       "    <tr>\n",
       "      <th>0</th>\n",
       "      <td>Achelwilm, Doris</td>\n",
       "      <td>DorisAchelwilm</td>\n",
       "      <td>None</td>\n",
       "      <td>#Weltgesundheitstag 2020: Gesundheit ist kein ...</td>\n",
       "      <td>8</td>\n",
       "      <td>41</td>\n",
       "      <td>4</td>\n",
       "      <td>1247472932466688000</td>\n",
       "      <td>https://twitter.com/DorisAchelwilm/status/1247...</td>\n",
       "      <td>4819478705</td>\n",
       "      <td>2020-04-07 10:34:58+00:00</td>\n",
       "      <td>Tue Apr 07 10:34:58 +0000 2020</td>\n",
       "      <td>#Weltgesundheitstag</td>\n",
       "      <td></td>\n",
       "      <td></td>\n",
       "      <td></td>\n",
       "    </tr>\n",
       "    <tr>\n",
       "      <th>1</th>\n",
       "      <td>Achelwilm, Doris</td>\n",
       "      <td>DorisAchelwilm</td>\n",
       "      <td>ndaktuell</td>\n",
       "      <td>Queerpolitik hat unter #Corona keinen leichten...</td>\n",
       "      <td>15</td>\n",
       "      <td>30</td>\n",
       "      <td>4</td>\n",
       "      <td>1247448540533710848</td>\n",
       "      <td>https://twitter.com/DorisAchelwilm/status/1247...</td>\n",
       "      <td>4819478705</td>\n",
       "      <td>2020-04-07 08:58:03+00:00</td>\n",
       "      <td>Tue Apr 07 08:58:03 +0000 2020</td>\n",
       "      <td>#Corona #Hatespeech #LGBT #Trump #Orban</td>\n",
       "      <td></td>\n",
       "      <td></td>\n",
       "      <td>https://twitter.com/ndaktuell/status/124723009...</td>\n",
       "    </tr>\n",
       "    <tr>\n",
       "      <th>2</th>\n",
       "      <td>Achelwilm, Doris</td>\n",
       "      <td>DorisAchelwilm</td>\n",
       "      <td>_hexiklexi</td>\n",
       "      <td>Dieser Tarifabschluss wird aus Pflegeversicher...</td>\n",
       "      <td>0</td>\n",
       "      <td>0</td>\n",
       "      <td>1</td>\n",
       "      <td>1247210632635703298</td>\n",
       "      <td>https://twitter.com/DorisAchelwilm/status/1247...</td>\n",
       "      <td>4819478705</td>\n",
       "      <td>2020-04-06 17:12:41+00:00</td>\n",
       "      <td>Mon Apr 06 17:12:41 +0000 2020</td>\n",
       "      <td></td>\n",
       "      <td></td>\n",
       "      <td></td>\n",
       "      <td></td>\n",
       "    </tr>\n",
       "    <tr>\n",
       "      <th>3</th>\n",
       "      <td>Achelwilm, Doris</td>\n",
       "      <td>DorisAchelwilm</td>\n",
       "      <td>redheadhb2</td>\n",
       "      <td>Gut, dass Du es sagst. Nach der langen Ausbild...</td>\n",
       "      <td>0</td>\n",
       "      <td>2</td>\n",
       "      <td>0</td>\n",
       "      <td>1247207997664878592</td>\n",
       "      <td>https://twitter.com/DorisAchelwilm/status/1247...</td>\n",
       "      <td>4819478705</td>\n",
       "      <td>2020-04-06 17:02:13+00:00</td>\n",
       "      <td>Mon Apr 06 17:02:13 +0000 2020</td>\n",
       "      <td></td>\n",
       "      <td></td>\n",
       "      <td></td>\n",
       "      <td></td>\n",
       "    </tr>\n",
       "    <tr>\n",
       "      <th>4</th>\n",
       "      <td>Achelwilm, Doris</td>\n",
       "      <td>DorisAchelwilm</td>\n",
       "      <td>None</td>\n",
       "      <td>Geht doch: #Altenpflegekräfte bekommen im Juli...</td>\n",
       "      <td>4</td>\n",
       "      <td>21</td>\n",
       "      <td>4</td>\n",
       "      <td>1247203823438958594</td>\n",
       "      <td>https://twitter.com/DorisAchelwilm/status/1247...</td>\n",
       "      <td>4819478705</td>\n",
       "      <td>2020-04-06 16:45:38+00:00</td>\n",
       "      <td>Mon Apr 06 16:45:38 +0000 2020</td>\n",
       "      <td>#Altenpflegekr #Krankenhauspersonal #Systemrel...</td>\n",
       "      <td></td>\n",
       "      <td></td>\n",
       "      <td>https://www.verdi.de/presse/pressemitteilungen...</td>\n",
       "    </tr>\n",
       "    <tr>\n",
       "      <th>5</th>\n",
       "      <td>Achelwilm, Doris</td>\n",
       "      <td>DorisAchelwilm</td>\n",
       "      <td>None</td>\n",
       "      <td>Damit mediale Infrastruktur, die auf (massiv w...</td>\n",
       "      <td>2</td>\n",
       "      <td>6</td>\n",
       "      <td>1</td>\n",
       "      <td>1246759944877150210</td>\n",
       "      <td>https://twitter.com/DorisAchelwilm/status/1246...</td>\n",
       "      <td>4819478705</td>\n",
       "      <td>2020-04-05 11:21:49+00:00</td>\n",
       "      <td>Sun Apr 05 11:21:49 +0000 2020</td>\n",
       "      <td>#Journalist</td>\n",
       "      <td>@rbbinforadio</td>\n",
       "      <td></td>\n",
       "      <td>https://www.inforadio.de/programm/schema/sendu...</td>\n",
       "    </tr>\n",
       "  </tbody>\n",
       "</table>\n",
       "</div>"
      ],
      "text/plain": [
       "               name        username          to  \\\n",
       "0  Achelwilm, Doris  DorisAchelwilm        None   \n",
       "1  Achelwilm, Doris  DorisAchelwilm   ndaktuell   \n",
       "2  Achelwilm, Doris  DorisAchelwilm  _hexiklexi   \n",
       "3  Achelwilm, Doris  DorisAchelwilm  redheadhb2   \n",
       "4  Achelwilm, Doris  DorisAchelwilm        None   \n",
       "5  Achelwilm, Doris  DorisAchelwilm        None   \n",
       "\n",
       "                                                text  retweets  favorites  \\\n",
       "0  #Weltgesundheitstag 2020: Gesundheit ist kein ...         8         41   \n",
       "1  Queerpolitik hat unter #Corona keinen leichten...        15         30   \n",
       "2  Dieser Tarifabschluss wird aus Pflegeversicher...         0          0   \n",
       "3  Gut, dass Du es sagst. Nach der langen Ausbild...         0          2   \n",
       "4  Geht doch: #Altenpflegekräfte bekommen im Juli...         4         21   \n",
       "5  Damit mediale Infrastruktur, die auf (massiv w...         2          6   \n",
       "\n",
       "   replies                   id  \\\n",
       "0        4  1247472932466688000   \n",
       "1        4  1247448540533710848   \n",
       "2        1  1247210632635703298   \n",
       "3        0  1247207997664878592   \n",
       "4        4  1247203823438958594   \n",
       "5        1  1246759944877150210   \n",
       "\n",
       "                                           permalink   author_id  \\\n",
       "0  https://twitter.com/DorisAchelwilm/status/1247...  4819478705   \n",
       "1  https://twitter.com/DorisAchelwilm/status/1247...  4819478705   \n",
       "2  https://twitter.com/DorisAchelwilm/status/1247...  4819478705   \n",
       "3  https://twitter.com/DorisAchelwilm/status/1247...  4819478705   \n",
       "4  https://twitter.com/DorisAchelwilm/status/1247...  4819478705   \n",
       "5  https://twitter.com/DorisAchelwilm/status/1246...  4819478705   \n",
       "\n",
       "                       date                  formatted_date  \\\n",
       "0 2020-04-07 10:34:58+00:00  Tue Apr 07 10:34:58 +0000 2020   \n",
       "1 2020-04-07 08:58:03+00:00  Tue Apr 07 08:58:03 +0000 2020   \n",
       "2 2020-04-06 17:12:41+00:00  Mon Apr 06 17:12:41 +0000 2020   \n",
       "3 2020-04-06 17:02:13+00:00  Mon Apr 06 17:02:13 +0000 2020   \n",
       "4 2020-04-06 16:45:38+00:00  Mon Apr 06 16:45:38 +0000 2020   \n",
       "5 2020-04-05 11:21:49+00:00  Sun Apr 05 11:21:49 +0000 2020   \n",
       "\n",
       "                                            hashtags       mentions geo  \\\n",
       "0                                #Weltgesundheitstag                      \n",
       "1            #Corona #Hatespeech #LGBT #Trump #Orban                      \n",
       "2                                                                         \n",
       "3                                                                         \n",
       "4  #Altenpflegekr #Krankenhauspersonal #Systemrel...                      \n",
       "5                                        #Journalist  @rbbinforadio       \n",
       "\n",
       "                                                urls  \n",
       "0                                                     \n",
       "1  https://twitter.com/ndaktuell/status/124723009...  \n",
       "2                                                     \n",
       "3                                                     \n",
       "4  https://www.verdi.de/presse/pressemitteilungen...  \n",
       "5  https://www.inforadio.de/programm/schema/sendu...  "
      ]
     },
     "execution_count": 13,
     "metadata": {},
     "output_type": "execute_result"
    }
   ],
   "source": [
    "# add 'name' column (download only uses 'username' as input)\n",
    "res_got3 = twitter_account.merge(res_got3, on = 'username')\n",
    "# display results\n",
    "res_got3"
   ]
  },
  {
   "cell_type": "markdown",
   "metadata": {},
   "source": [
    "We can check that it is indeed possible to download more than 3200 tweets per user:"
   ]
  },
  {
   "cell_type": "code",
   "execution_count": 10,
   "metadata": {},
   "outputs": [
    {
     "name": "stdout",
     "output_type": "stream",
     "text": [
      "Downloading for realDonaldTrump\n"
     ]
    }
   ],
   "source": [
    "res_trump = got3.download_tweets_got3('realDonaldTrump',since = \"2018-09-24\", until = \"2020-04-08\")"
   ]
  },
  {
   "cell_type": "code",
   "execution_count": 11,
   "metadata": {},
   "outputs": [
    {
     "data": {
      "text/plain": [
       "(6731, 15)"
      ]
     },
     "execution_count": 11,
     "metadata": {},
     "output_type": "execute_result"
    }
   ],
   "source": [
    "res_trump.shape"
   ]
  },
  {
   "cell_type": "markdown",
   "metadata": {},
   "source": [
    "However, although occuring very rarely, some tweets appear to be missing (and some rows are empty). Furthermore, retweets cannot be downloaded using GetOldTweets3. "
   ]
  },
  {
   "cell_type": "markdown",
   "metadata": {},
   "source": [
    "## 3. Download with Tweepy"
   ]
  },
  {
   "cell_type": "markdown",
   "metadata": {},
   "source": [
    "With Tweepy we can circumvent these shortcomings, i.e. we can download retweets and there is no information missing, as Tweepy is the official Twitter-API. However, as mentioned, there is a limit of 3200 Tweets per user. "
   ]
  },
  {
   "cell_type": "code",
   "execution_count": 15,
   "metadata": {},
   "outputs": [],
   "source": [
    "# download most recent tweets using tweepy (at most 3200 tweets per user)\n",
    "res_tweepy = pd.DataFrame()\n",
    "# again, for demonstration purposes we only download for the first 40 PMs\n",
    "for username in twitter_account.iloc[:40,1]:\n",
    "    res_tweepy = pd.concat([res_tweepy, th.download_tweets_tweepy(username)])\n",
    "# add column 'name'\n",
    "res_tweepy = twitter_account.merge(res_tweepy, on = 'username')"
   ]
  },
  {
   "cell_type": "markdown",
   "metadata": {},
   "source": [
    "Note that we wrote the function 'download_tweets_tweepy' in the script 'tweepy_helpers.py' in order to generate and select columns that are most important for our purposes:"
   ]
  },
  {
   "cell_type": "code",
   "execution_count": 22,
   "metadata": {},
   "outputs": [
    {
     "data": {
      "text/plain": [
       "Index(['name', 'username', 'available', 'created_at', 'full_text',\n",
       "       'in_reply_to_user_id_str', 'is_quote_status', 'retweet_count',\n",
       "       'favorite_count', 'favorited', 'retweeted_status', 'is_retweet',\n",
       "       'retweet_full_text', 'followers_count', 'location', 'hashtags'],\n",
       "      dtype='object')"
      ]
     },
     "execution_count": 22,
     "metadata": {},
     "output_type": "execute_result"
    }
   ],
   "source": [
    "res_tweepy.columns"
   ]
  },
  {
   "cell_type": "markdown",
   "metadata": {},
   "source": [
    "For instance, we generated a column 'available'; if this field is False, then tweets for the respective person cannot be downloaded using tweepy (e.g., because the person has not tweeted anything yet):"
   ]
  },
  {
   "cell_type": "code",
   "execution_count": 23,
   "metadata": {},
   "outputs": [
    {
     "data": {
      "text/plain": [
       "0       True\n",
       "1       True\n",
       "2       True\n",
       "3       True\n",
       "4       True\n",
       "        ... \n",
       "3980    True\n",
       "3981    True\n",
       "3982    True\n",
       "3983    True\n",
       "3984    True\n",
       "Name: available, Length: 3985, dtype: bool"
      ]
     },
     "execution_count": 23,
     "metadata": {},
     "output_type": "execute_result"
    }
   ],
   "source": [
    "res_tweepy['available']"
   ]
  },
  {
   "cell_type": "markdown",
   "metadata": {},
   "source": [
    "Other columns we have created: 'is_retweet', 'retweet_full_text' and 'hashtags'."
   ]
  },
  {
   "cell_type": "markdown",
   "metadata": {},
   "source": [
    "With 'is_retweet' we can easily check whether tweet is a retweet (note that we have used this field to exlcude all retweets from our further analysis):"
   ]
  },
  {
   "cell_type": "code",
   "execution_count": 26,
   "metadata": {},
   "outputs": [
    {
     "data": {
      "text/plain": [
       "0       False\n",
       "1       False\n",
       "2       False\n",
       "3       False\n",
       "4       False\n",
       "        ...  \n",
       "3980    False\n",
       "3981    False\n",
       "3982    False\n",
       "3983    False\n",
       "3984    False\n",
       "Name: is_retweet, Length: 3985, dtype: bool"
      ]
     },
     "execution_count": 26,
     "metadata": {},
     "output_type": "execute_result"
    }
   ],
   "source": [
    "res_tweepy['is_retweet']"
   ]
  },
  {
   "cell_type": "markdown",
   "metadata": {},
   "source": [
    "Using 'retweet_full_text' it is possible to extract the text of a retweet. Furthermore, 'hashtags' returns all hashtags included in a tweet as a list."
   ]
  },
  {
   "cell_type": "markdown",
   "metadata": {},
   "source": [
    "The other columns are 'standard' columns of the tweepy module and thus were not manually created; if needed, for more information on these columns just use a search engine of your choice."
   ]
  }
 ],
 "metadata": {
  "kernelspec": {
   "display_name": "Python 3",
   "language": "python",
   "name": "python3"
  },
  "language_info": {
   "codemirror_mode": {
    "name": "ipython",
    "version": 3
   },
   "file_extension": ".py",
   "mimetype": "text/x-python",
   "name": "python",
   "nbconvert_exporter": "python",
   "pygments_lexer": "ipython3",
   "version": "3.7.6"
  }
 },
 "nbformat": 4,
 "nbformat_minor": 4
}
