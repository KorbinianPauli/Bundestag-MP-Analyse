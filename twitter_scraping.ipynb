{
 "cells": [
  {
   "cell_type": "code",
   "execution_count": 5,
   "metadata": {},
   "outputs": [],
   "source": [
    "import GetOldTweets3 as got\n",
    "import pandas as pd\n",
    "import pickle as pickle\n",
    "import getoldtweets3_defs\n",
    "\n",
    "# set local working directory\n",
    "# import os\n",
    "# os.chdir('/Users/patrickschulze/Desktop/Consulting/Bundestag-MP-Analyse/')"
   ]
  },
  {
   "cell_type": "code",
   "execution_count": 6,
   "metadata": {},
   "outputs": [],
   "source": [
    "## import Bundestag data\n",
    "with open('abg_df.pickle', 'rb') as handle:\n",
    "    bt_data = pickle.load(handle)\n"
   ]
  },
  {
   "cell_type": "code",
   "execution_count": 8,
   "metadata": {},
   "outputs": [],
   "source": [
    "url = bt_data['Soziale Medien'].apply(getoldtweets3_defs.get_twitter_url)\n",
    "twitter_account = pd.concat([bt_data['Name'], url], axis = 1, \\\n",
    "                            keys = ['name','url'])"
   ]
  },
  {
   "cell_type": "code",
   "execution_count": 9,
   "metadata": {},
   "outputs": [
    {
     "name": "stdout",
     "output_type": "stream",
     "text": [
      "Downloading for mvabercron\n",
      "Downloading for DorisAchelwilm\n",
      "Downloading for aggelidis_fdp\n"
     ]
    }
   ],
   "source": [
    "twitter_usernames = twitter_account['url'].apply(getoldtweets3_defs.get_twitter_username)\n",
    "twitter_usernames.rename(\"username\", inplace = True)\n",
    "twitter_account = pd.concat([twitter_account, twitter_usernames], axis = 1)\n",
    "    \n",
    "res = pd.DataFrame()\n",
    "for username in twitter_account.iloc[0:3, 2]:\n",
    "    res = pd.concat([res, getoldtweets3_defs.download_tweets(username, since = \"2017-09-24\", \\\n",
    "                                          until = \"2020-04-08\")])\n",
    "#-----------------------------------------------------------------------------\n",
    "\n",
    "# possible to download more than 3200 tweets:\n",
    "# res = download_tweets('realDonaldTrump',since = \"2018-09-24\", until = \"2020-04-08\")\n",
    "        \n",
    "# however, some tweets appear to be missing (and some rows are empty)\n",
    "# res = download_tweets('realDonaldTrump',since = \"2020-04-10\", until = \"2020-04-14\")\n",
    "\n",
    "# furthermore, retweets are not downloaded, in contrast to tweepy"
   ]
  },
  {
   "cell_type": "code",
   "execution_count": null,
   "metadata": {},
   "outputs": [],
   "source": []
  }
 ],
 "metadata": {
  "kernelspec": {
   "display_name": "Python 3",
   "language": "python",
   "name": "python3"
  },
  "language_info": {
   "codemirror_mode": {
    "name": "ipython",
    "version": 3
   },
   "file_extension": ".py",
   "mimetype": "text/x-python",
   "name": "python",
   "nbconvert_exporter": "python",
   "pygments_lexer": "ipython3",
   "version": "3.7.6"
  }
 },
 "nbformat": 4,
 "nbformat_minor": 4
}
