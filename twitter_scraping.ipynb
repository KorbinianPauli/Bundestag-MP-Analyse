{
 "cells": [
  {
   "cell_type": "markdown",
   "metadata": {},
   "source": [
    "# Downloading data from Twitter"
   ]
  },
  {
   "cell_type": "markdown",
   "metadata": {},
   "source": [
    "Note that the functions used for preprocessing and downloading are imported from our script 'twitter_helpers'."
   ]
  },
  {
   "cell_type": "code",
   "execution_count": 1,
   "metadata": {},
   "outputs": [],
   "source": [
    "import pandas as pd\n",
    "import pickle\n",
    "import twitter_helpers as th\n",
    "\n",
    "# set local working directory\n",
    "# import os\n",
    "# os.chdir('/Users/patrickschulze/Desktop/Consulting/Bundestag-MP-Analyse/')"
   ]
  },
  {
   "cell_type": "markdown",
   "metadata": {},
   "source": [
    "## 1. Data Import and Preprocessing"
   ]
  },
  {
   "cell_type": "code",
   "execution_count": 2,
   "metadata": {},
   "outputs": [],
   "source": [
    "# import Bundestag data\n",
    "with open('abg_df.pickle', 'rb') as handle:\n",
    "    bt_data = pickle.load(handle)\n"
   ]
  },
  {
   "cell_type": "code",
   "execution_count": 3,
   "metadata": {},
   "outputs": [
    {
     "data": {
      "text/html": [
       "<div>\n",
       "<style scoped>\n",
       "    .dataframe tbody tr th:only-of-type {\n",
       "        vertical-align: middle;\n",
       "    }\n",
       "\n",
       "    .dataframe tbody tr th {\n",
       "        vertical-align: top;\n",
       "    }\n",
       "\n",
       "    .dataframe thead th {\n",
       "        text-align: right;\n",
       "    }\n",
       "</style>\n",
       "<table border=\"1\" class=\"dataframe\">\n",
       "  <thead>\n",
       "    <tr style=\"text-align: right;\">\n",
       "      <th></th>\n",
       "      <th>Name</th>\n",
       "      <th>Partei</th>\n",
       "      <th>Wahlart</th>\n",
       "      <th>Bundesland</th>\n",
       "      <th>Wahlkreis</th>\n",
       "      <th>Ausschuesse</th>\n",
       "      <th>Soziale Medien</th>\n",
       "      <th>Biografie</th>\n",
       "      <th>Twitter</th>\n",
       "      <th>Twitter_right</th>\n",
       "    </tr>\n",
       "  </thead>\n",
       "  <tbody>\n",
       "    <tr>\n",
       "      <th>0</th>\n",
       "      <td>Abercron, Dr. Michael von</td>\n",
       "      <td>CDU/CSU</td>\n",
       "      <td>Direkt gewählt</td>\n",
       "      <td>Schleswig-Holstein</td>\n",
       "      <td>Wahlkreis 007: Pinneberg</td>\n",
       "      <td>{'Ordentliches Mitglied': ['Ausschuss für Ernä...</td>\n",
       "      <td>{'von-abercron.de/': 'http://www.von-abercron....</td>\n",
       "      <td>Geboren am 17. November 1952 in Ehlers...</td>\n",
       "      <td>mvabercron</td>\n",
       "      <td>https://twitter.com/mvabercron</td>\n",
       "    </tr>\n",
       "    <tr>\n",
       "      <th>1</th>\n",
       "      <td>Achelwilm, Doris</td>\n",
       "      <td>Die Linke</td>\n",
       "      <td>Gewählt über Landesliste</td>\n",
       "      <td>Bremen</td>\n",
       "      <td>n.a.</td>\n",
       "      <td>{'Ordentliches Mitglied': ['Ausschuss für Fami...</td>\n",
       "      <td>{'doris-achelwilm.de': 'http://www.doris-achel...</td>\n",
       "      <td>Geboren am 30. November 1976 in Thuine...</td>\n",
       "      <td>doris_achelwilm</td>\n",
       "      <td>https://twitter.com/doris_achelwilm</td>\n",
       "    </tr>\n",
       "    <tr>\n",
       "      <th>2</th>\n",
       "      <td>Aggelidis, Grigorios</td>\n",
       "      <td>FDP</td>\n",
       "      <td>Gewählt über Landesliste</td>\n",
       "      <td>Niedersachsen</td>\n",
       "      <td>Wahlkreis 043: Hannover-Land I</td>\n",
       "      <td>{'Ordentliches Mitglied': ['Kuratorium der Bun...</td>\n",
       "      <td>{'grigorios-aggelidis.de': 'http://www.grigori...</td>\n",
       "      <td>Geboren am 19. August 1965 in Hannover...</td>\n",
       "      <td>Aggelidis_FDP</td>\n",
       "      <td>http://www.twitter.com/Aggelidis_FDP</td>\n",
       "    </tr>\n",
       "    <tr>\n",
       "      <th>3</th>\n",
       "      <td>Akbulut, Gökay</td>\n",
       "      <td>Die Linke</td>\n",
       "      <td>Gewählt über Landesliste</td>\n",
       "      <td>Baden-Württemberg</td>\n",
       "      <td>Wahlkreis 275: Mannheim</td>\n",
       "      <td>{'Ordentliches Mitglied': ['Schriftführer/in',...</td>\n",
       "      <td>{'goekay-akbulut.de': 'https://goekay-akbulut....</td>\n",
       "      <td>Geboren 1982 in Pinarbasi/ Türkei; ledig.Juni ...</td>\n",
       "      <td>akbulutgokay</td>\n",
       "      <td>https://twitter.com/akbulutgokay</td>\n",
       "    </tr>\n",
       "    <tr>\n",
       "      <th>4</th>\n",
       "      <td>Albani, Stephan</td>\n",
       "      <td>CDU/CSU</td>\n",
       "      <td>Gewählt über Landesliste</td>\n",
       "      <td>Niedersachsen</td>\n",
       "      <td>Wahlkreis 027: Oldenburg – Ammerland</td>\n",
       "      <td>{'Ordentliches Mitglied': ['Ausschuss für Bild...</td>\n",
       "      <td>{'stephan-albani.de': 'http://www.stephan-alba...</td>\n",
       "      <td>Geboren am 3. Juni 1968 in Göttingen; verheira...</td>\n",
       "      <td></td>\n",
       "      <td></td>\n",
       "    </tr>\n",
       "    <tr>\n",
       "      <th>...</th>\n",
       "      <td>...</td>\n",
       "      <td>...</td>\n",
       "      <td>...</td>\n",
       "      <td>...</td>\n",
       "      <td>...</td>\n",
       "      <td>...</td>\n",
       "      <td>...</td>\n",
       "      <td>...</td>\n",
       "      <td>...</td>\n",
       "      <td>...</td>\n",
       "    </tr>\n",
       "    <tr>\n",
       "      <th>725</th>\n",
       "      <td>Zierke, Stefan</td>\n",
       "      <td>SPD</td>\n",
       "      <td>Gewählt über Landesliste</td>\n",
       "      <td>Brandenburg</td>\n",
       "      <td>Wahlkreis 057: Uckermark – Barnim I</td>\n",
       "      <td>{'Parlamentarischer Staatssekretär bei der Bun...</td>\n",
       "      <td>{'stefan-zierke.de': 'http://www.stefan-zierke...</td>\n",
       "      <td>Geboren am 5. Dezember 1970 in Prenzlau (Brand...</td>\n",
       "      <td>zierke</td>\n",
       "      <td>http://twitter.com/zierke</td>\n",
       "    </tr>\n",
       "    <tr>\n",
       "      <th>726</th>\n",
       "      <td>Zimmer, Prof. Dr. Matthias</td>\n",
       "      <td>CDU/CSU</td>\n",
       "      <td>Direkt gewählt</td>\n",
       "      <td>Hessen</td>\n",
       "      <td>Wahlkreis 182: Frankfurt am Main I</td>\n",
       "      <td>{'Obmann': ['Ausschuss für Arbeit und Soziales...</td>\n",
       "      <td>{'matthias-zimmer.de': 'http://www.matthias-zi...</td>\n",
       "      <td>Geboren am 3. Mai 1961 in Marburg/Lahn; verhei...</td>\n",
       "      <td>matthiaszimmer</td>\n",
       "      <td>https://twitter.com/matthiaszimmer</td>\n",
       "    </tr>\n",
       "    <tr>\n",
       "      <th>727</th>\n",
       "      <td>Zimmermann, Dr. Jens</td>\n",
       "      <td>SPD</td>\n",
       "      <td>Gewählt über Landesliste</td>\n",
       "      <td>Hessen</td>\n",
       "      <td>Wahlkreis 187: Odenwald</td>\n",
       "      <td>{'Obmann': ['Ausschuss Digitale Agenda'], 'Ord...</td>\n",
       "      <td>{'jens-zimmermann.org': 'http://www.jens-zimme...</td>\n",
       "      <td>Geboren am 9. September 1981 in Groß-U...</td>\n",
       "      <td>JensZimmermann1</td>\n",
       "      <td>https://twitter.com/JensZimmermann1</td>\n",
       "    </tr>\n",
       "    <tr>\n",
       "      <th>728</th>\n",
       "      <td>Zimmermann, Pia</td>\n",
       "      <td>Die Linke</td>\n",
       "      <td>Gewählt über Landesliste</td>\n",
       "      <td>Niedersachsen</td>\n",
       "      <td>Wahlkreis 051: Helmstedt – Wolfsburg</td>\n",
       "      <td>{'Ordentliches Mitglied': ['Ausschuss für Gesu...</td>\n",
       "      <td>{'pia-zimmermann.de': 'http://www.pia-zimmerma...</td>\n",
       "      <td>Geboren am 17. September 1956 in Braunschweig;...</td>\n",
       "      <td></td>\n",
       "      <td></td>\n",
       "    </tr>\n",
       "    <tr>\n",
       "      <th>729</th>\n",
       "      <td>Zimmermann (Zwickau), Sabine</td>\n",
       "      <td>Die Linke</td>\n",
       "      <td>Gewählt über Landesliste</td>\n",
       "      <td>Sachsen</td>\n",
       "      <td>Wahlkreis 165: Zwickau</td>\n",
       "      <td>{'Vorsitzende': ['Ausschuss für Familie, Senio...</td>\n",
       "      <td>{'sabine-zimmermann.info': 'http://sabine-zimm...</td>\n",
       "      <td>Geboren am 30. Dezember 1960 in Pasewa...</td>\n",
       "      <td></td>\n",
       "      <td></td>\n",
       "    </tr>\n",
       "  </tbody>\n",
       "</table>\n",
       "<p>730 rows × 10 columns</p>\n",
       "</div>"
      ],
      "text/plain": [
       "                             Name     Partei                   Wahlart  \\\n",
       "0       Abercron, Dr. Michael von    CDU/CSU            Direkt gewählt   \n",
       "1                Achelwilm, Doris  Die Linke  Gewählt über Landesliste   \n",
       "2            Aggelidis, Grigorios        FDP  Gewählt über Landesliste   \n",
       "3                  Akbulut, Gökay  Die Linke  Gewählt über Landesliste   \n",
       "4                 Albani, Stephan    CDU/CSU  Gewählt über Landesliste   \n",
       "..                            ...        ...                       ...   \n",
       "725                Zierke, Stefan        SPD  Gewählt über Landesliste   \n",
       "726    Zimmer, Prof. Dr. Matthias    CDU/CSU            Direkt gewählt   \n",
       "727          Zimmermann, Dr. Jens        SPD  Gewählt über Landesliste   \n",
       "728               Zimmermann, Pia  Die Linke  Gewählt über Landesliste   \n",
       "729  Zimmermann (Zwickau), Sabine  Die Linke  Gewählt über Landesliste   \n",
       "\n",
       "             Bundesland                             Wahlkreis  \\\n",
       "0    Schleswig-Holstein              Wahlkreis 007: Pinneberg   \n",
       "1                Bremen                                  n.a.   \n",
       "2         Niedersachsen        Wahlkreis 043: Hannover-Land I   \n",
       "3     Baden-Württemberg               Wahlkreis 275: Mannheim   \n",
       "4         Niedersachsen  Wahlkreis 027: Oldenburg – Ammerland   \n",
       "..                  ...                                   ...   \n",
       "725         Brandenburg   Wahlkreis 057: Uckermark – Barnim I   \n",
       "726              Hessen    Wahlkreis 182: Frankfurt am Main I   \n",
       "727              Hessen               Wahlkreis 187: Odenwald   \n",
       "728       Niedersachsen  Wahlkreis 051: Helmstedt – Wolfsburg   \n",
       "729             Sachsen                Wahlkreis 165: Zwickau   \n",
       "\n",
       "                                           Ausschuesse  \\\n",
       "0    {'Ordentliches Mitglied': ['Ausschuss für Ernä...   \n",
       "1    {'Ordentliches Mitglied': ['Ausschuss für Fami...   \n",
       "2    {'Ordentliches Mitglied': ['Kuratorium der Bun...   \n",
       "3    {'Ordentliches Mitglied': ['Schriftführer/in',...   \n",
       "4    {'Ordentliches Mitglied': ['Ausschuss für Bild...   \n",
       "..                                                 ...   \n",
       "725  {'Parlamentarischer Staatssekretär bei der Bun...   \n",
       "726  {'Obmann': ['Ausschuss für Arbeit und Soziales...   \n",
       "727  {'Obmann': ['Ausschuss Digitale Agenda'], 'Ord...   \n",
       "728  {'Ordentliches Mitglied': ['Ausschuss für Gesu...   \n",
       "729  {'Vorsitzende': ['Ausschuss für Familie, Senio...   \n",
       "\n",
       "                                        Soziale Medien  \\\n",
       "0    {'von-abercron.de/': 'http://www.von-abercron....   \n",
       "1    {'doris-achelwilm.de': 'http://www.doris-achel...   \n",
       "2    {'grigorios-aggelidis.de': 'http://www.grigori...   \n",
       "3    {'goekay-akbulut.de': 'https://goekay-akbulut....   \n",
       "4    {'stephan-albani.de': 'http://www.stephan-alba...   \n",
       "..                                                 ...   \n",
       "725  {'stefan-zierke.de': 'http://www.stefan-zierke...   \n",
       "726  {'matthias-zimmer.de': 'http://www.matthias-zi...   \n",
       "727  {'jens-zimmermann.org': 'http://www.jens-zimme...   \n",
       "728  {'pia-zimmermann.de': 'http://www.pia-zimmerma...   \n",
       "729  {'sabine-zimmermann.info': 'http://sabine-zimm...   \n",
       "\n",
       "                                             Biografie          Twitter  \\\n",
       "0            Geboren am 17. November 1952 in Ehlers...       mvabercron   \n",
       "1            Geboren am 30. November 1976 in Thuine...  doris_achelwilm   \n",
       "2            Geboren am 19. August 1965 in Hannover...    Aggelidis_FDP   \n",
       "3    Geboren 1982 in Pinarbasi/ Türkei; ledig.Juni ...     akbulutgokay   \n",
       "4    Geboren am 3. Juni 1968 in Göttingen; verheira...                    \n",
       "..                                                 ...              ...   \n",
       "725  Geboren am 5. Dezember 1970 in Prenzlau (Brand...           zierke   \n",
       "726  Geboren am 3. Mai 1961 in Marburg/Lahn; verhei...   matthiaszimmer   \n",
       "727          Geboren am 9. September 1981 in Groß-U...  JensZimmermann1   \n",
       "728  Geboren am 17. September 1956 in Braunschweig;...                    \n",
       "729          Geboren am 30. Dezember 1960 in Pasewa...                    \n",
       "\n",
       "                            Twitter_right  \n",
       "0          https://twitter.com/mvabercron  \n",
       "1     https://twitter.com/doris_achelwilm  \n",
       "2    http://www.twitter.com/Aggelidis_FDP  \n",
       "3        https://twitter.com/akbulutgokay  \n",
       "4                                          \n",
       "..                                    ...  \n",
       "725             http://twitter.com/zierke  \n",
       "726    https://twitter.com/matthiaszimmer  \n",
       "727   https://twitter.com/JensZimmermann1  \n",
       "728                                        \n",
       "729                                        \n",
       "\n",
       "[730 rows x 10 columns]"
      ]
     },
     "execution_count": 3,
     "metadata": {},
     "output_type": "execute_result"
    }
   ],
   "source": [
    "bt_data"
   ]
  },
  {
   "cell_type": "code",
   "execution_count": 5,
   "metadata": {},
   "outputs": [],
   "source": [
    "# select name and username for each member and store in table twitter_account\n",
    "names = bt_data['Name']\n",
    "twitter_usernames = bt_data['Twitter']\n",
    "names.rename(\"name\", inplace = True)\n",
    "twitter_usernames.rename(\"username\", inplace = True)\n",
    "twitter_account = pd.concat([names, twitter_usernames], axis = 1)"
   ]
  },
  {
   "cell_type": "code",
   "execution_count": 6,
   "metadata": {},
   "outputs": [
    {
     "data": {
      "text/html": [
       "<div>\n",
       "<style scoped>\n",
       "    .dataframe tbody tr th:only-of-type {\n",
       "        vertical-align: middle;\n",
       "    }\n",
       "\n",
       "    .dataframe tbody tr th {\n",
       "        vertical-align: top;\n",
       "    }\n",
       "\n",
       "    .dataframe thead th {\n",
       "        text-align: right;\n",
       "    }\n",
       "</style>\n",
       "<table border=\"1\" class=\"dataframe\">\n",
       "  <thead>\n",
       "    <tr style=\"text-align: right;\">\n",
       "      <th></th>\n",
       "      <th>name</th>\n",
       "      <th>username</th>\n",
       "    </tr>\n",
       "  </thead>\n",
       "  <tbody>\n",
       "    <tr>\n",
       "      <th>0</th>\n",
       "      <td>Abercron, Dr. Michael von</td>\n",
       "      <td>mvabercron</td>\n",
       "    </tr>\n",
       "    <tr>\n",
       "      <th>1</th>\n",
       "      <td>Achelwilm, Doris</td>\n",
       "      <td>doris_achelwilm</td>\n",
       "    </tr>\n",
       "    <tr>\n",
       "      <th>2</th>\n",
       "      <td>Aggelidis, Grigorios</td>\n",
       "      <td>Aggelidis_FDP</td>\n",
       "    </tr>\n",
       "    <tr>\n",
       "      <th>3</th>\n",
       "      <td>Akbulut, Gökay</td>\n",
       "      <td>akbulutgokay</td>\n",
       "    </tr>\n",
       "    <tr>\n",
       "      <th>4</th>\n",
       "      <td>Albani, Stephan</td>\n",
       "      <td></td>\n",
       "    </tr>\n",
       "    <tr>\n",
       "      <th>...</th>\n",
       "      <td>...</td>\n",
       "      <td>...</td>\n",
       "    </tr>\n",
       "    <tr>\n",
       "      <th>725</th>\n",
       "      <td>Zierke, Stefan</td>\n",
       "      <td>zierke</td>\n",
       "    </tr>\n",
       "    <tr>\n",
       "      <th>726</th>\n",
       "      <td>Zimmer, Prof. Dr. Matthias</td>\n",
       "      <td>matthiaszimmer</td>\n",
       "    </tr>\n",
       "    <tr>\n",
       "      <th>727</th>\n",
       "      <td>Zimmermann, Dr. Jens</td>\n",
       "      <td>JensZimmermann1</td>\n",
       "    </tr>\n",
       "    <tr>\n",
       "      <th>728</th>\n",
       "      <td>Zimmermann, Pia</td>\n",
       "      <td></td>\n",
       "    </tr>\n",
       "    <tr>\n",
       "      <th>729</th>\n",
       "      <td>Zimmermann (Zwickau), Sabine</td>\n",
       "      <td></td>\n",
       "    </tr>\n",
       "  </tbody>\n",
       "</table>\n",
       "<p>730 rows × 2 columns</p>\n",
       "</div>"
      ],
      "text/plain": [
       "                             name         username\n",
       "0       Abercron, Dr. Michael von       mvabercron\n",
       "1                Achelwilm, Doris  doris_achelwilm\n",
       "2            Aggelidis, Grigorios    Aggelidis_FDP\n",
       "3                  Akbulut, Gökay     akbulutgokay\n",
       "4                 Albani, Stephan                 \n",
       "..                            ...              ...\n",
       "725                Zierke, Stefan           zierke\n",
       "726    Zimmer, Prof. Dr. Matthias   matthiaszimmer\n",
       "727          Zimmermann, Dr. Jens  JensZimmermann1\n",
       "728               Zimmermann, Pia                 \n",
       "729  Zimmermann (Zwickau), Sabine                 \n",
       "\n",
       "[730 rows x 2 columns]"
      ]
     },
     "execution_count": 6,
     "metadata": {},
     "output_type": "execute_result"
    }
   ],
   "source": [
    "twitter_account"
   ]
  },
  {
   "cell_type": "markdown",
   "metadata": {},
   "source": [
    "## 2. Download with GetOldTweets3"
   ]
  },
  {
   "cell_type": "markdown",
   "metadata": {},
   "source": [
    "GetOldTweets3 is an \"inofficial\" Python module, which can be used to scrape tweets and other information from Twitter. While the official Twitter-API Tweepy has a limit of 3200 Tweets per user, with GetOldTweets3 it is possible to download an unlimited number of tweets for a given user. "
   ]
  },
  {
   "cell_type": "code",
   "execution_count": 9,
   "metadata": {},
   "outputs": [
    {
     "name": "stdout",
     "output_type": "stream",
     "text": [
      "Downloading for mvabercron\n",
      "Downloading for doris_achelwilm\n",
      "Downloading for Aggelidis_FDP\n"
     ]
    }
   ],
   "source": [
    "# download tweets using GetOldTweets3 for specified time period\n",
    "res_got3 = pd.DataFrame()\n",
    "for username in twitter_account.iloc[0:3, 1]:\n",
    "    res_got3 = pd.concat([res_got3, th.download_tweets_got3(username, since = \"2017-09-24\", \\\n",
    "                                          until = \"2020-04-08\")])"
   ]
  },
  {
   "cell_type": "code",
   "execution_count": 10,
   "metadata": {},
   "outputs": [
    {
     "data": {
      "text/html": [
       "<div>\n",
       "<style scoped>\n",
       "    .dataframe tbody tr th:only-of-type {\n",
       "        vertical-align: middle;\n",
       "    }\n",
       "\n",
       "    .dataframe tbody tr th {\n",
       "        vertical-align: top;\n",
       "    }\n",
       "\n",
       "    .dataframe thead th {\n",
       "        text-align: right;\n",
       "    }\n",
       "</style>\n",
       "<table border=\"1\" class=\"dataframe\">\n",
       "  <thead>\n",
       "    <tr style=\"text-align: right;\">\n",
       "      <th></th>\n",
       "      <th>name</th>\n",
       "      <th>username</th>\n",
       "      <th>to</th>\n",
       "      <th>text</th>\n",
       "      <th>retweets</th>\n",
       "      <th>favorites</th>\n",
       "      <th>replies</th>\n",
       "      <th>id</th>\n",
       "      <th>permalink</th>\n",
       "      <th>author_id</th>\n",
       "      <th>date</th>\n",
       "      <th>formatted_date</th>\n",
       "      <th>hashtags</th>\n",
       "      <th>mentions</th>\n",
       "      <th>geo</th>\n",
       "      <th>urls</th>\n",
       "    </tr>\n",
       "  </thead>\n",
       "  <tbody>\n",
       "    <tr>\n",
       "      <th>0</th>\n",
       "      <td>Abercron, Dr. Michael von</td>\n",
       "      <td>mvabercron</td>\n",
       "      <td>None</td>\n",
       "      <td>Uni fällt aus? Keine Angst, eine Pause im Lehr...</td>\n",
       "      <td>0</td>\n",
       "      <td>0</td>\n",
       "      <td>1</td>\n",
       "      <td>1245689849627258881</td>\n",
       "      <td>https://twitter.com/mvabercron/status/12456898...</td>\n",
       "      <td>862747349277450240</td>\n",
       "      <td>2020-04-02 12:29:38+00:00</td>\n",
       "      <td>Thu Apr 02 12:29:38 +0000 2020</td>\n",
       "      <td>#BAf #Corona</td>\n",
       "      <td></td>\n",
       "      <td></td>\n",
       "      <td>https://cducsu.cc/3alyQN7</td>\n",
       "    </tr>\n",
       "    <tr>\n",
       "      <th>1</th>\n",
       "      <td>Abercron, Dr. Michael von</td>\n",
       "      <td>mvabercron</td>\n",
       "      <td>None</td>\n",
       "      <td>Alle Unternehmen können vom #Corona-Sonderprog...</td>\n",
       "      <td>2</td>\n",
       "      <td>1</td>\n",
       "      <td>1</td>\n",
       "      <td>1245431118968631297</td>\n",
       "      <td>https://twitter.com/mvabercron/status/12454311...</td>\n",
       "      <td>862747349277450240</td>\n",
       "      <td>2020-04-01 19:21:32+00:00</td>\n",
       "      <td>Wed Apr 01 19:21:32 +0000 2020</td>\n",
       "      <td>#Corona #wirhandeln</td>\n",
       "      <td></td>\n",
       "      <td></td>\n",
       "      <td>https://cducsu.cc/3alyQN7</td>\n",
       "    </tr>\n",
       "    <tr>\n",
       "      <th>2</th>\n",
       "      <td>Abercron, Dr. Michael von</td>\n",
       "      <td>mvabercron</td>\n",
       "      <td>None</td>\n",
       "      <td>Wir kämpfen um jeden Job – durch Ausweitung d....</td>\n",
       "      <td>0</td>\n",
       "      <td>0</td>\n",
       "      <td>0</td>\n",
       "      <td>1244942420841725954</td>\n",
       "      <td>https://twitter.com/mvabercron/status/12449424...</td>\n",
       "      <td>862747349277450240</td>\n",
       "      <td>2020-03-31 10:59:37+00:00</td>\n",
       "      <td>Tue Mar 31 10:59:37 +0000 2020</td>\n",
       "      <td>#wirhandeln</td>\n",
       "      <td></td>\n",
       "      <td></td>\n",
       "      <td>https://cducsu.cc/3alyQN7</td>\n",
       "    </tr>\n",
       "    <tr>\n",
       "      <th>3</th>\n",
       "      <td>Abercron, Dr. Michael von</td>\n",
       "      <td>mvabercron</td>\n",
       "      <td>None</td>\n",
       "      <td>Schnelle #Corona-Hilfe für Familien: Für den K...</td>\n",
       "      <td>0</td>\n",
       "      <td>0</td>\n",
       "      <td>0</td>\n",
       "      <td>1244646897714855939</td>\n",
       "      <td>https://twitter.com/mvabercron/status/12446468...</td>\n",
       "      <td>862747349277450240</td>\n",
       "      <td>2020-03-30 15:25:19+00:00</td>\n",
       "      <td>Mon Mar 30 15:25:19 +0000 2020</td>\n",
       "      <td>#Corona #wirhandeln</td>\n",
       "      <td></td>\n",
       "      <td></td>\n",
       "      <td>https://bit.ly/2Utk4OL</td>\n",
       "    </tr>\n",
       "    <tr>\n",
       "      <th>4</th>\n",
       "      <td>Abercron, Dr. Michael von</td>\n",
       "      <td>mvabercron</td>\n",
       "      <td>None</td>\n",
       "      <td>Der #Bundestag passt das #Infektionsschutzgese...</td>\n",
       "      <td>0</td>\n",
       "      <td>2</td>\n",
       "      <td>0</td>\n",
       "      <td>1242874119139590147</td>\n",
       "      <td>https://twitter.com/mvabercron/status/12428741...</td>\n",
       "      <td>862747349277450240</td>\n",
       "      <td>2020-03-25 18:00:56+00:00</td>\n",
       "      <td>Wed Mar 25 18:00:56 +0000 2020</td>\n",
       "      <td>#Bundestag #Infektionsschutzgesetz #Corona</td>\n",
       "      <td></td>\n",
       "      <td></td>\n",
       "      <td></td>\n",
       "    </tr>\n",
       "    <tr>\n",
       "      <th>...</th>\n",
       "      <td>...</td>\n",
       "      <td>...</td>\n",
       "      <td>...</td>\n",
       "      <td>...</td>\n",
       "      <td>...</td>\n",
       "      <td>...</td>\n",
       "      <td>...</td>\n",
       "      <td>...</td>\n",
       "      <td>...</td>\n",
       "      <td>...</td>\n",
       "      <td>...</td>\n",
       "      <td>...</td>\n",
       "      <td>...</td>\n",
       "      <td>...</td>\n",
       "      <td>...</td>\n",
       "      <td>...</td>\n",
       "    </tr>\n",
       "    <tr>\n",
       "      <th>126</th>\n",
       "      <td>Abercron, Dr. Michael von</td>\n",
       "      <td>mvabercron</td>\n",
       "      <td>MdB_Geburtstag</td>\n",
       "      <td>Das wäre uns fast durchgegangen! Herzlichen Gl...</td>\n",
       "      <td>0</td>\n",
       "      <td>1</td>\n",
       "      <td>0</td>\n",
       "      <td>931228736292302848</td>\n",
       "      <td>https://twitter.com/mvabercron/status/93122873...</td>\n",
       "      <td>862747349277450240</td>\n",
       "      <td>2017-11-16 18:33:26+00:00</td>\n",
       "      <td>Thu Nov 16 18:33:26 +0000 2017</td>\n",
       "      <td></td>\n",
       "      <td></td>\n",
       "      <td></td>\n",
       "      <td></td>\n",
       "    </tr>\n",
       "    <tr>\n",
       "      <th>127</th>\n",
       "      <td>Abercron, Dr. Michael von</td>\n",
       "      <td>mvabercron</td>\n",
       "      <td>None</td>\n",
       "      <td>Vorerst keinen starren Zeitplan bei der Sicher...</td>\n",
       "      <td>0</td>\n",
       "      <td>2</td>\n",
       "      <td>0</td>\n",
       "      <td>931223604259442688</td>\n",
       "      <td>https://twitter.com/mvabercron/status/93122360...</td>\n",
       "      <td>862747349277450240</td>\n",
       "      <td>2017-11-16 18:13:03+00:00</td>\n",
       "      <td>Thu Nov 16 18:13:03 +0000 2017</td>\n",
       "      <td></td>\n",
       "      <td></td>\n",
       "      <td></td>\n",
       "      <td></td>\n",
       "    </tr>\n",
       "    <tr>\n",
       "      <th>128</th>\n",
       "      <td>Abercron, Dr. Michael von</td>\n",
       "      <td>mvabercron</td>\n",
       "      <td>Quadrateule</td>\n",
       "      <td>Dass MvA direkt ist, hat nichts mit der aktuel...</td>\n",
       "      <td>0</td>\n",
       "      <td>0</td>\n",
       "      <td>0</td>\n",
       "      <td>912831519785472001</td>\n",
       "      <td>https://twitter.com/mvabercron/status/91283151...</td>\n",
       "      <td>862747349277450240</td>\n",
       "      <td>2017-09-27 00:09:28+00:00</td>\n",
       "      <td>Wed Sep 27 00:09:28 +0000 2017</td>\n",
       "      <td></td>\n",
       "      <td></td>\n",
       "      <td></td>\n",
       "      <td></td>\n",
       "    </tr>\n",
       "    <tr>\n",
       "      <th>129</th>\n",
       "      <td>Abercron, Dr. Michael von</td>\n",
       "      <td>mvabercron</td>\n",
       "      <td>None</td>\n",
       "      <td>Trotz aller Verdienste, Volker Kauder hatte me...</td>\n",
       "      <td>0</td>\n",
       "      <td>5</td>\n",
       "      <td>1</td>\n",
       "      <td>912721248769146882</td>\n",
       "      <td>https://twitter.com/mvabercron/status/91272124...</td>\n",
       "      <td>862747349277450240</td>\n",
       "      <td>2017-09-26 16:51:17+00:00</td>\n",
       "      <td>Tue Sep 26 16:51:17 +0000 2017</td>\n",
       "      <td></td>\n",
       "      <td>@cducsubt</td>\n",
       "      <td></td>\n",
       "      <td></td>\n",
       "    </tr>\n",
       "    <tr>\n",
       "      <th>130</th>\n",
       "      <td>Abercron, Dr. Michael von</td>\n",
       "      <td>mvabercron</td>\n",
       "      <td>None</td>\n",
       "      <td>Ab jetzt twittert hier Dr. Michael von Abercro...</td>\n",
       "      <td>2</td>\n",
       "      <td>3</td>\n",
       "      <td>1</td>\n",
       "      <td>912282680674398209</td>\n",
       "      <td>https://twitter.com/mvabercron/status/91228268...</td>\n",
       "      <td>862747349277450240</td>\n",
       "      <td>2017-09-25 11:48:35+00:00</td>\n",
       "      <td>Mon Sep 25 11:48:35 +0000 2017</td>\n",
       "      <td>#firsttweet</td>\n",
       "      <td></td>\n",
       "      <td></td>\n",
       "      <td></td>\n",
       "    </tr>\n",
       "  </tbody>\n",
       "</table>\n",
       "<p>131 rows × 16 columns</p>\n",
       "</div>"
      ],
      "text/plain": [
       "                          name    username              to  \\\n",
       "0    Abercron, Dr. Michael von  mvabercron            None   \n",
       "1    Abercron, Dr. Michael von  mvabercron            None   \n",
       "2    Abercron, Dr. Michael von  mvabercron            None   \n",
       "3    Abercron, Dr. Michael von  mvabercron            None   \n",
       "4    Abercron, Dr. Michael von  mvabercron            None   \n",
       "..                         ...         ...             ...   \n",
       "126  Abercron, Dr. Michael von  mvabercron  MdB_Geburtstag   \n",
       "127  Abercron, Dr. Michael von  mvabercron            None   \n",
       "128  Abercron, Dr. Michael von  mvabercron     Quadrateule   \n",
       "129  Abercron, Dr. Michael von  mvabercron            None   \n",
       "130  Abercron, Dr. Michael von  mvabercron            None   \n",
       "\n",
       "                                                  text  retweets  favorites  \\\n",
       "0    Uni fällt aus? Keine Angst, eine Pause im Lehr...         0          0   \n",
       "1    Alle Unternehmen können vom #Corona-Sonderprog...         2          1   \n",
       "2    Wir kämpfen um jeden Job – durch Ausweitung d....         0          0   \n",
       "3    Schnelle #Corona-Hilfe für Familien: Für den K...         0          0   \n",
       "4    Der #Bundestag passt das #Infektionsschutzgese...         0          2   \n",
       "..                                                 ...       ...        ...   \n",
       "126  Das wäre uns fast durchgegangen! Herzlichen Gl...         0          1   \n",
       "127  Vorerst keinen starren Zeitplan bei der Sicher...         0          2   \n",
       "128  Dass MvA direkt ist, hat nichts mit der aktuel...         0          0   \n",
       "129  Trotz aller Verdienste, Volker Kauder hatte me...         0          5   \n",
       "130  Ab jetzt twittert hier Dr. Michael von Abercro...         2          3   \n",
       "\n",
       "     replies                   id  \\\n",
       "0          1  1245689849627258881   \n",
       "1          1  1245431118968631297   \n",
       "2          0  1244942420841725954   \n",
       "3          0  1244646897714855939   \n",
       "4          0  1242874119139590147   \n",
       "..       ...                  ...   \n",
       "126        0   931228736292302848   \n",
       "127        0   931223604259442688   \n",
       "128        0   912831519785472001   \n",
       "129        1   912721248769146882   \n",
       "130        1   912282680674398209   \n",
       "\n",
       "                                             permalink           author_id  \\\n",
       "0    https://twitter.com/mvabercron/status/12456898...  862747349277450240   \n",
       "1    https://twitter.com/mvabercron/status/12454311...  862747349277450240   \n",
       "2    https://twitter.com/mvabercron/status/12449424...  862747349277450240   \n",
       "3    https://twitter.com/mvabercron/status/12446468...  862747349277450240   \n",
       "4    https://twitter.com/mvabercron/status/12428741...  862747349277450240   \n",
       "..                                                 ...                 ...   \n",
       "126  https://twitter.com/mvabercron/status/93122873...  862747349277450240   \n",
       "127  https://twitter.com/mvabercron/status/93122360...  862747349277450240   \n",
       "128  https://twitter.com/mvabercron/status/91283151...  862747349277450240   \n",
       "129  https://twitter.com/mvabercron/status/91272124...  862747349277450240   \n",
       "130  https://twitter.com/mvabercron/status/91228268...  862747349277450240   \n",
       "\n",
       "                         date                  formatted_date  \\\n",
       "0   2020-04-02 12:29:38+00:00  Thu Apr 02 12:29:38 +0000 2020   \n",
       "1   2020-04-01 19:21:32+00:00  Wed Apr 01 19:21:32 +0000 2020   \n",
       "2   2020-03-31 10:59:37+00:00  Tue Mar 31 10:59:37 +0000 2020   \n",
       "3   2020-03-30 15:25:19+00:00  Mon Mar 30 15:25:19 +0000 2020   \n",
       "4   2020-03-25 18:00:56+00:00  Wed Mar 25 18:00:56 +0000 2020   \n",
       "..                        ...                             ...   \n",
       "126 2017-11-16 18:33:26+00:00  Thu Nov 16 18:33:26 +0000 2017   \n",
       "127 2017-11-16 18:13:03+00:00  Thu Nov 16 18:13:03 +0000 2017   \n",
       "128 2017-09-27 00:09:28+00:00  Wed Sep 27 00:09:28 +0000 2017   \n",
       "129 2017-09-26 16:51:17+00:00  Tue Sep 26 16:51:17 +0000 2017   \n",
       "130 2017-09-25 11:48:35+00:00  Mon Sep 25 11:48:35 +0000 2017   \n",
       "\n",
       "                                       hashtags   mentions geo  \\\n",
       "0                                  #BAf #Corona                  \n",
       "1                           #Corona #wirhandeln                  \n",
       "2                                   #wirhandeln                  \n",
       "3                           #Corona #wirhandeln                  \n",
       "4    #Bundestag #Infektionsschutzgesetz #Corona                  \n",
       "..                                          ...        ...  ..   \n",
       "126                                                              \n",
       "127                                                              \n",
       "128                                                              \n",
       "129                                              @cducsubt       \n",
       "130                                 #firsttweet                  \n",
       "\n",
       "                          urls  \n",
       "0    https://cducsu.cc/3alyQN7  \n",
       "1    https://cducsu.cc/3alyQN7  \n",
       "2    https://cducsu.cc/3alyQN7  \n",
       "3       https://bit.ly/2Utk4OL  \n",
       "4                               \n",
       "..                         ...  \n",
       "126                             \n",
       "127                             \n",
       "128                             \n",
       "129                             \n",
       "130                             \n",
       "\n",
       "[131 rows x 16 columns]"
      ]
     },
     "execution_count": 10,
     "metadata": {},
     "output_type": "execute_result"
    }
   ],
   "source": [
    "# add 'name' column (download only uses 'username' as input)\n",
    "res_got3 = twitter_account.merge(res_got3, on = 'username')\n",
    "# display results\n",
    "res_got3"
   ]
  },
  {
   "cell_type": "markdown",
   "metadata": {},
   "source": [
    "We can check that it is indeed possible to download more than 3200 tweets per user:"
   ]
  },
  {
   "cell_type": "code",
   "execution_count": 7,
   "metadata": {},
   "outputs": [
    {
     "name": "stdout",
     "output_type": "stream",
     "text": [
      "Downloading for realDonaldTrump\n"
     ]
    }
   ],
   "source": [
    "res = th.download_tweets_got3('realDonaldTrump',since = \"2018-09-24\", until = \"2020-04-08\")"
   ]
  },
  {
   "cell_type": "code",
   "execution_count": 8,
   "metadata": {},
   "outputs": [
    {
     "data": {
      "text/plain": [
       "(2100, 15)"
      ]
     },
     "execution_count": 8,
     "metadata": {},
     "output_type": "execute_result"
    }
   ],
   "source": [
    "res.shape"
   ]
  },
  {
   "cell_type": "markdown",
   "metadata": {},
   "source": [
    "However, although occuring very rarely, some tweets appear to be missing (and some rows are empty). Furthermore, retweets cannot be downloaded using GetOldTweets3. "
   ]
  },
  {
   "cell_type": "markdown",
   "metadata": {},
   "source": [
    "## 3. Download with Tweepy"
   ]
  },
  {
   "cell_type": "markdown",
   "metadata": {},
   "source": [
    "With Tweepy we can circumvent these shortcomings, i.e. we can download retweets and there is no information missing, as Tweepy is the official Twitter-API. However, as mentioned, there is a limit of 3200 Tweets per user. "
   ]
  },
  {
   "cell_type": "code",
   "execution_count": 13,
   "metadata": {},
   "outputs": [
    {
     "name": "stdout",
     "output_type": "stream",
     "text": [
      "Downloading for mvabercron\n",
      "Downloading for doris_achelwilm\n"
     ]
    },
    {
     "ename": "TweepError",
     "evalue": "[{'code': 34, 'message': 'Sorry, that page does not exist.'}]",
     "output_type": "error",
     "traceback": [
      "\u001b[0;31m---------------------------------------------------------------------------\u001b[0m",
      "\u001b[0;31mTweepError\u001b[0m                                Traceback (most recent call last)",
      "\u001b[0;32m<ipython-input-13-9e95e121a7ee>\u001b[0m in \u001b[0;36m<module>\u001b[0;34m\u001b[0m\n\u001b[1;32m      2\u001b[0m \u001b[0mres_tweepy\u001b[0m \u001b[0;34m=\u001b[0m \u001b[0mpd\u001b[0m\u001b[0;34m.\u001b[0m\u001b[0mDataFrame\u001b[0m\u001b[0;34m(\u001b[0m\u001b[0;34m)\u001b[0m\u001b[0;34m\u001b[0m\u001b[0;34m\u001b[0m\u001b[0m\n\u001b[1;32m      3\u001b[0m \u001b[0;32mfor\u001b[0m \u001b[0musername\u001b[0m \u001b[0;32min\u001b[0m \u001b[0mtwitter_account\u001b[0m\u001b[0;34m.\u001b[0m\u001b[0miloc\u001b[0m\u001b[0;34m[\u001b[0m\u001b[0;36m0\u001b[0m\u001b[0;34m:\u001b[0m\u001b[0;36m2\u001b[0m\u001b[0;34m,\u001b[0m \u001b[0;36m1\u001b[0m\u001b[0;34m]\u001b[0m\u001b[0;34m:\u001b[0m\u001b[0;34m\u001b[0m\u001b[0;34m\u001b[0m\u001b[0m\n\u001b[0;32m----> 4\u001b[0;31m     \u001b[0mres_tweepy\u001b[0m \u001b[0;34m=\u001b[0m \u001b[0mpd\u001b[0m\u001b[0;34m.\u001b[0m\u001b[0mconcat\u001b[0m\u001b[0;34m(\u001b[0m\u001b[0;34m[\u001b[0m\u001b[0mres_tweepy\u001b[0m\u001b[0;34m,\u001b[0m \u001b[0mth\u001b[0m\u001b[0;34m.\u001b[0m\u001b[0mdownload_tweets_tweepy\u001b[0m\u001b[0;34m(\u001b[0m\u001b[0musername\u001b[0m\u001b[0;34m)\u001b[0m\u001b[0;34m]\u001b[0m\u001b[0;34m)\u001b[0m\u001b[0;34m\u001b[0m\u001b[0;34m\u001b[0m\u001b[0m\n\u001b[0m\u001b[1;32m      5\u001b[0m \u001b[0;31m# again, add column 'Name'\u001b[0m\u001b[0;34m\u001b[0m\u001b[0;34m\u001b[0m\u001b[0;34m\u001b[0m\u001b[0m\n\u001b[1;32m      6\u001b[0m \u001b[0mres_tweepy\u001b[0m \u001b[0;34m=\u001b[0m \u001b[0mtwitter_account\u001b[0m\u001b[0;34m.\u001b[0m\u001b[0mmerge\u001b[0m\u001b[0;34m(\u001b[0m\u001b[0mres_tweepy\u001b[0m\u001b[0;34m,\u001b[0m \u001b[0mon\u001b[0m \u001b[0;34m=\u001b[0m \u001b[0;34m'username'\u001b[0m\u001b[0;34m)\u001b[0m\u001b[0;34m\u001b[0m\u001b[0;34m\u001b[0m\u001b[0m\n",
      "\u001b[0;32m~/Desktop/Consulting/Bundestag-MP-Analyse/twitter_helpers.py\u001b[0m in \u001b[0;36mdownload_tweets_tweepy\u001b[0;34m(username)\u001b[0m\n\u001b[1;32m     56\u001b[0m \u001b[0;34m\u001b[0m\u001b[0m\n\u001b[1;32m     57\u001b[0m     \u001b[0;31m#make initial request for most recent tweets (200 is the maximum allowed count)\u001b[0m\u001b[0;34m\u001b[0m\u001b[0;34m\u001b[0m\u001b[0;34m\u001b[0m\u001b[0m\n\u001b[0;32m---> 58\u001b[0;31m     \u001b[0mnew_tweets\u001b[0m \u001b[0;34m=\u001b[0m \u001b[0mapi\u001b[0m\u001b[0;34m.\u001b[0m\u001b[0muser_timeline\u001b[0m\u001b[0;34m(\u001b[0m\u001b[0mscreen_name\u001b[0m \u001b[0;34m=\u001b[0m \u001b[0musername\u001b[0m\u001b[0;34m,\u001b[0m\u001b[0mcount\u001b[0m\u001b[0;34m=\u001b[0m\u001b[0;36m200\u001b[0m\u001b[0;34m,\u001b[0m\u001b[0mtweet_mode\u001b[0m\u001b[0;34m=\u001b[0m\u001b[0;34m\"extended\"\u001b[0m\u001b[0;34m)\u001b[0m\u001b[0;34m\u001b[0m\u001b[0;34m\u001b[0m\u001b[0m\n\u001b[0m\u001b[1;32m     59\u001b[0m \u001b[0;34m\u001b[0m\u001b[0m\n\u001b[1;32m     60\u001b[0m     \u001b[0;31m#save most recent tweets\u001b[0m\u001b[0;34m\u001b[0m\u001b[0;34m\u001b[0m\u001b[0;34m\u001b[0m\u001b[0m\n",
      "\u001b[0;32m/opt/anaconda3/lib/python3.7/site-packages/tweepy/binder.py\u001b[0m in \u001b[0;36m_call\u001b[0;34m(*args, **kwargs)\u001b[0m\n\u001b[1;32m    248\u001b[0m                 \u001b[0;32mreturn\u001b[0m \u001b[0mmethod\u001b[0m\u001b[0;34m\u001b[0m\u001b[0;34m\u001b[0m\u001b[0m\n\u001b[1;32m    249\u001b[0m             \u001b[0;32melse\u001b[0m\u001b[0;34m:\u001b[0m\u001b[0;34m\u001b[0m\u001b[0;34m\u001b[0m\u001b[0m\n\u001b[0;32m--> 250\u001b[0;31m                 \u001b[0;32mreturn\u001b[0m \u001b[0mmethod\u001b[0m\u001b[0;34m.\u001b[0m\u001b[0mexecute\u001b[0m\u001b[0;34m(\u001b[0m\u001b[0;34m)\u001b[0m\u001b[0;34m\u001b[0m\u001b[0;34m\u001b[0m\u001b[0m\n\u001b[0m\u001b[1;32m    251\u001b[0m         \u001b[0;32mfinally\u001b[0m\u001b[0;34m:\u001b[0m\u001b[0;34m\u001b[0m\u001b[0;34m\u001b[0m\u001b[0m\n\u001b[1;32m    252\u001b[0m             \u001b[0mmethod\u001b[0m\u001b[0;34m.\u001b[0m\u001b[0msession\u001b[0m\u001b[0;34m.\u001b[0m\u001b[0mclose\u001b[0m\u001b[0;34m(\u001b[0m\u001b[0;34m)\u001b[0m\u001b[0;34m\u001b[0m\u001b[0;34m\u001b[0m\u001b[0m\n",
      "\u001b[0;32m/opt/anaconda3/lib/python3.7/site-packages/tweepy/binder.py\u001b[0m in \u001b[0;36mexecute\u001b[0;34m(self)\u001b[0m\n\u001b[1;32m    231\u001b[0m                     \u001b[0;32mraise\u001b[0m \u001b[0mRateLimitError\u001b[0m\u001b[0;34m(\u001b[0m\u001b[0merror_msg\u001b[0m\u001b[0;34m,\u001b[0m \u001b[0mresp\u001b[0m\u001b[0;34m)\u001b[0m\u001b[0;34m\u001b[0m\u001b[0;34m\u001b[0m\u001b[0m\n\u001b[1;32m    232\u001b[0m                 \u001b[0;32melse\u001b[0m\u001b[0;34m:\u001b[0m\u001b[0;34m\u001b[0m\u001b[0;34m\u001b[0m\u001b[0m\n\u001b[0;32m--> 233\u001b[0;31m                     \u001b[0;32mraise\u001b[0m \u001b[0mTweepError\u001b[0m\u001b[0;34m(\u001b[0m\u001b[0merror_msg\u001b[0m\u001b[0;34m,\u001b[0m \u001b[0mresp\u001b[0m\u001b[0;34m,\u001b[0m \u001b[0mapi_code\u001b[0m\u001b[0;34m=\u001b[0m\u001b[0mapi_error_code\u001b[0m\u001b[0;34m)\u001b[0m\u001b[0;34m\u001b[0m\u001b[0;34m\u001b[0m\u001b[0m\n\u001b[0m\u001b[1;32m    234\u001b[0m \u001b[0;34m\u001b[0m\u001b[0m\n\u001b[1;32m    235\u001b[0m             \u001b[0;31m# Parse the response payload\u001b[0m\u001b[0;34m\u001b[0m\u001b[0;34m\u001b[0m\u001b[0;34m\u001b[0m\u001b[0m\n",
      "\u001b[0;31mTweepError\u001b[0m: [{'code': 34, 'message': 'Sorry, that page does not exist.'}]"
     ]
    }
   ],
   "source": [
    "# download most recent tweets using tweepy (at most 3200 tweets per user)\n",
    "res_tweepy = pd.DataFrame()\n",
    "for username in twitter_account.iloc[0:3, 1]:\n",
    "    res_tweepy = pd.concat([res_tweepy, th.download_tweets_tweepy(username)])\n",
    "# again, add column 'name'\n",
    "res_tweepy = twitter_account.merge(res_tweepy, on = 'username')"
   ]
  },
  {
   "cell_type": "code",
   "execution_count": 21,
   "metadata": {},
   "outputs": [
    {
     "name": "stdout",
     "output_type": "stream",
     "text": [
      "Downloading for mvabercron\n"
     ]
    }
   ],
   "source": [
    "res_tweepy = th.download_tweets_tweepy('mvabercron')\n",
    "# again, add column 'name'\n",
    "res_tweepy = twitter_account.merge(res_tweepy, on = 'username')"
   ]
  },
  {
   "cell_type": "code",
   "execution_count": 22,
   "metadata": {},
   "outputs": [
    {
     "data": {
      "text/plain": [
       "Index(['name', 'username', '_api', '_json', 'created_at', 'id', 'id_str',\n",
       "       'full_text', 'truncated', 'display_text_range', 'entities',\n",
       "       'extended_entities', 'source', 'source_url', 'in_reply_to_status_id',\n",
       "       'in_reply_to_status_id_str', 'in_reply_to_user_id',\n",
       "       'in_reply_to_user_id_str', 'in_reply_to_screen_name', 'author', 'user',\n",
       "       'geo', 'coordinates', 'place', 'contributors', 'is_quote_status',\n",
       "       'retweet_count', 'favorite_count', 'favorited', 'retweeted',\n",
       "       'possibly_sensitive', 'lang', 'retweeted_status', 'quoted_status_id',\n",
       "       'quoted_status_id_str', 'quoted_status_permalink', 'quoted_status'],\n",
       "      dtype='object')"
      ]
     },
     "execution_count": 22,
     "metadata": {},
     "output_type": "execute_result"
    }
   ],
   "source": [
    "res_tweepy.columns"
   ]
  },
  {
   "cell_type": "markdown",
   "metadata": {},
   "source": [
    "Columns that might be most important for us:"
   ]
  },
  {
   "cell_type": "code",
   "execution_count": 23,
   "metadata": {},
   "outputs": [
    {
     "data": {
      "text/plain": [
       "Index(['name', 'username', '_api', 'id', 'truncated', 'entities',\n",
       "       'extended_entities', 'in_reply_to_screen_name', 'retweet_count',\n",
       "       'favorite_count', 'favorited', 'retweeted', 'possibly_sensitive',\n",
       "       'quoted_status_id'],\n",
       "      dtype='object')"
      ]
     },
     "execution_count": 23,
     "metadata": {},
     "output_type": "execute_result"
    }
   ],
   "source": [
    "res_tweepy.iloc[:,[0,1,2,5,8,10,11,18,26,27,28,29,30,33]].columns"
   ]
  },
  {
   "cell_type": "code",
   "execution_count": 26,
   "metadata": {
    "scrolled": true
   },
   "outputs": [
    {
     "data": {
      "text/html": [
       "<div>\n",
       "<style scoped>\n",
       "    .dataframe tbody tr th:only-of-type {\n",
       "        vertical-align: middle;\n",
       "    }\n",
       "\n",
       "    .dataframe tbody tr th {\n",
       "        vertical-align: top;\n",
       "    }\n",
       "\n",
       "    .dataframe thead th {\n",
       "        text-align: right;\n",
       "    }\n",
       "</style>\n",
       "<table border=\"1\" class=\"dataframe\">\n",
       "  <thead>\n",
       "    <tr style=\"text-align: right;\">\n",
       "      <th></th>\n",
       "      <th>name</th>\n",
       "      <th>username</th>\n",
       "      <th>created_at</th>\n",
       "      <th>full_text</th>\n",
       "      <th>display_text_range</th>\n",
       "      <th>entities</th>\n",
       "      <th>in_reply_to_user_id_str</th>\n",
       "      <th>is_quote_status</th>\n",
       "      <th>retweet_count</th>\n",
       "      <th>favorite_count</th>\n",
       "      <th>favorited</th>\n",
       "      <th>retweeted</th>\n",
       "      <th>retweeted_status</th>\n",
       "    </tr>\n",
       "  </thead>\n",
       "  <tbody>\n",
       "    <tr>\n",
       "      <th>0</th>\n",
       "      <td>Abercron, Dr. Michael von</td>\n",
       "      <td>mvabercron</td>\n",
       "      <td>2020-04-10 14:10:03</td>\n",
       "      <td>Dieser Karfreitag wird anders sein als in den ...</td>\n",
       "      <td>[0, 204]</td>\n",
       "      <td>{'hashtags': [], 'symbols': [], 'user_mentions...</td>\n",
       "      <td>None</td>\n",
       "      <td>False</td>\n",
       "      <td>1</td>\n",
       "      <td>3</td>\n",
       "      <td>False</td>\n",
       "      <td>False</td>\n",
       "      <td>NaN</td>\n",
       "    </tr>\n",
       "    <tr>\n",
       "      <th>1</th>\n",
       "      <td>Abercron, Dr. Michael von</td>\n",
       "      <td>mvabercron</td>\n",
       "      <td>2020-04-02 12:29:38</td>\n",
       "      <td>Uni fällt aus? Keine Angst, eine Pause im Lehr...</td>\n",
       "      <td>[0, 275]</td>\n",
       "      <td>{'hashtags': [{'text': 'BAföG', 'indices': [82...</td>\n",
       "      <td>None</td>\n",
       "      <td>False</td>\n",
       "      <td>0</td>\n",
       "      <td>0</td>\n",
       "      <td>False</td>\n",
       "      <td>False</td>\n",
       "      <td>NaN</td>\n",
       "    </tr>\n",
       "    <tr>\n",
       "      <th>2</th>\n",
       "      <td>Abercron, Dr. Michael von</td>\n",
       "      <td>mvabercron</td>\n",
       "      <td>2020-04-01 19:21:32</td>\n",
       "      <td>Alle Unternehmen können vom #Corona-Sonderprog...</td>\n",
       "      <td>[0, 199]</td>\n",
       "      <td>{'hashtags': [{'text': 'Corona', 'indices': [2...</td>\n",
       "      <td>None</td>\n",
       "      <td>False</td>\n",
       "      <td>2</td>\n",
       "      <td>1</td>\n",
       "      <td>False</td>\n",
       "      <td>False</td>\n",
       "      <td>NaN</td>\n",
       "    </tr>\n",
       "    <tr>\n",
       "      <th>3</th>\n",
       "      <td>Abercron, Dr. Michael von</td>\n",
       "      <td>mvabercron</td>\n",
       "      <td>2020-03-31 10:59:46</td>\n",
       "      <td>RT @cducsubt: .@gitta_connemann und @mvabercro...</td>\n",
       "      <td>[0, 140]</td>\n",
       "      <td>{'hashtags': [{'text': 'Corona', 'indices': [5...</td>\n",
       "      <td>None</td>\n",
       "      <td>False</td>\n",
       "      <td>4</td>\n",
       "      <td>0</td>\n",
       "      <td>False</td>\n",
       "      <td>False</td>\n",
       "      <td>Status(_api=&lt;tweepy.api.API object at 0x11e1fb...</td>\n",
       "    </tr>\n",
       "    <tr>\n",
       "      <th>4</th>\n",
       "      <td>Abercron, Dr. Michael von</td>\n",
       "      <td>mvabercron</td>\n",
       "      <td>2020-03-31 10:59:37</td>\n",
       "      <td>Wir kämpfen um jeden Job – durch Ausweitung d....</td>\n",
       "      <td>[0, 280]</td>\n",
       "      <td>{'hashtags': [{'text': 'wirhandeln', 'indices'...</td>\n",
       "      <td>None</td>\n",
       "      <td>False</td>\n",
       "      <td>0</td>\n",
       "      <td>0</td>\n",
       "      <td>False</td>\n",
       "      <td>False</td>\n",
       "      <td>NaN</td>\n",
       "    </tr>\n",
       "    <tr>\n",
       "      <th>...</th>\n",
       "      <td>...</td>\n",
       "      <td>...</td>\n",
       "      <td>...</td>\n",
       "      <td>...</td>\n",
       "      <td>...</td>\n",
       "      <td>...</td>\n",
       "      <td>...</td>\n",
       "      <td>...</td>\n",
       "      <td>...</td>\n",
       "      <td>...</td>\n",
       "      <td>...</td>\n",
       "      <td>...</td>\n",
       "      <td>...</td>\n",
       "    </tr>\n",
       "    <tr>\n",
       "      <th>182</th>\n",
       "      <td>Abercron, Dr. Michael von</td>\n",
       "      <td>mvabercron</td>\n",
       "      <td>2017-11-16 18:33:26</td>\n",
       "      <td>@MdB_Geburtstag @goekayakbulut Das wäre uns fa...</td>\n",
       "      <td>[31, 107]</td>\n",
       "      <td>{'hashtags': [], 'symbols': [], 'user_mentions...</td>\n",
       "      <td>2481661214</td>\n",
       "      <td>False</td>\n",
       "      <td>0</td>\n",
       "      <td>1</td>\n",
       "      <td>False</td>\n",
       "      <td>False</td>\n",
       "      <td>NaN</td>\n",
       "    </tr>\n",
       "    <tr>\n",
       "      <th>183</th>\n",
       "      <td>Abercron, Dr. Michael von</td>\n",
       "      <td>mvabercron</td>\n",
       "      <td>2017-11-16 18:13:03</td>\n",
       "      <td>Vorerst keinen starren Zeitplan bei der Sicher...</td>\n",
       "      <td>[0, 251]</td>\n",
       "      <td>{'hashtags': [], 'symbols': [], 'user_mentions...</td>\n",
       "      <td>None</td>\n",
       "      <td>False</td>\n",
       "      <td>0</td>\n",
       "      <td>2</td>\n",
       "      <td>False</td>\n",
       "      <td>False</td>\n",
       "      <td>NaN</td>\n",
       "    </tr>\n",
       "    <tr>\n",
       "      <th>184</th>\n",
       "      <td>Abercron, Dr. Michael von</td>\n",
       "      <td>mvabercron</td>\n",
       "      <td>2017-09-27 00:09:28</td>\n",
       "      <td>@Quadrateule Dass MvA direkt ist, hat nichts m...</td>\n",
       "      <td>[13, 100]</td>\n",
       "      <td>{'hashtags': [], 'symbols': [], 'user_mentions...</td>\n",
       "      <td>811931923656351744</td>\n",
       "      <td>False</td>\n",
       "      <td>0</td>\n",
       "      <td>0</td>\n",
       "      <td>False</td>\n",
       "      <td>False</td>\n",
       "      <td>NaN</td>\n",
       "    </tr>\n",
       "    <tr>\n",
       "      <th>185</th>\n",
       "      <td>Abercron, Dr. Michael von</td>\n",
       "      <td>mvabercron</td>\n",
       "      <td>2017-09-26 16:51:17</td>\n",
       "      <td>Trotz aller Verdienste, Volker Kauder hatte me...</td>\n",
       "      <td>[0, 135]</td>\n",
       "      <td>{'hashtags': [], 'symbols': [], 'user_mentions...</td>\n",
       "      <td>None</td>\n",
       "      <td>False</td>\n",
       "      <td>0</td>\n",
       "      <td>5</td>\n",
       "      <td>False</td>\n",
       "      <td>False</td>\n",
       "      <td>NaN</td>\n",
       "    </tr>\n",
       "    <tr>\n",
       "      <th>186</th>\n",
       "      <td>Abercron, Dr. Michael von</td>\n",
       "      <td>mvabercron</td>\n",
       "      <td>2017-09-25 11:48:35</td>\n",
       "      <td>Ab jetzt twittert hier Dr. Michael von Abercro...</td>\n",
       "      <td>[0, 138]</td>\n",
       "      <td>{'hashtags': [{'text': 'firsttweet', 'indices'...</td>\n",
       "      <td>None</td>\n",
       "      <td>False</td>\n",
       "      <td>2</td>\n",
       "      <td>3</td>\n",
       "      <td>False</td>\n",
       "      <td>False</td>\n",
       "      <td>NaN</td>\n",
       "    </tr>\n",
       "  </tbody>\n",
       "</table>\n",
       "<p>187 rows × 13 columns</p>\n",
       "</div>"
      ],
      "text/plain": [
       "                          name    username          created_at  \\\n",
       "0    Abercron, Dr. Michael von  mvabercron 2020-04-10 14:10:03   \n",
       "1    Abercron, Dr. Michael von  mvabercron 2020-04-02 12:29:38   \n",
       "2    Abercron, Dr. Michael von  mvabercron 2020-04-01 19:21:32   \n",
       "3    Abercron, Dr. Michael von  mvabercron 2020-03-31 10:59:46   \n",
       "4    Abercron, Dr. Michael von  mvabercron 2020-03-31 10:59:37   \n",
       "..                         ...         ...                 ...   \n",
       "182  Abercron, Dr. Michael von  mvabercron 2017-11-16 18:33:26   \n",
       "183  Abercron, Dr. Michael von  mvabercron 2017-11-16 18:13:03   \n",
       "184  Abercron, Dr. Michael von  mvabercron 2017-09-27 00:09:28   \n",
       "185  Abercron, Dr. Michael von  mvabercron 2017-09-26 16:51:17   \n",
       "186  Abercron, Dr. Michael von  mvabercron 2017-09-25 11:48:35   \n",
       "\n",
       "                                             full_text display_text_range  \\\n",
       "0    Dieser Karfreitag wird anders sein als in den ...           [0, 204]   \n",
       "1    Uni fällt aus? Keine Angst, eine Pause im Lehr...           [0, 275]   \n",
       "2    Alle Unternehmen können vom #Corona-Sonderprog...           [0, 199]   \n",
       "3    RT @cducsubt: .@gitta_connemann und @mvabercro...           [0, 140]   \n",
       "4    Wir kämpfen um jeden Job – durch Ausweitung d....           [0, 280]   \n",
       "..                                                 ...                ...   \n",
       "182  @MdB_Geburtstag @goekayakbulut Das wäre uns fa...          [31, 107]   \n",
       "183  Vorerst keinen starren Zeitplan bei der Sicher...           [0, 251]   \n",
       "184  @Quadrateule Dass MvA direkt ist, hat nichts m...          [13, 100]   \n",
       "185  Trotz aller Verdienste, Volker Kauder hatte me...           [0, 135]   \n",
       "186  Ab jetzt twittert hier Dr. Michael von Abercro...           [0, 138]   \n",
       "\n",
       "                                              entities  \\\n",
       "0    {'hashtags': [], 'symbols': [], 'user_mentions...   \n",
       "1    {'hashtags': [{'text': 'BAföG', 'indices': [82...   \n",
       "2    {'hashtags': [{'text': 'Corona', 'indices': [2...   \n",
       "3    {'hashtags': [{'text': 'Corona', 'indices': [5...   \n",
       "4    {'hashtags': [{'text': 'wirhandeln', 'indices'...   \n",
       "..                                                 ...   \n",
       "182  {'hashtags': [], 'symbols': [], 'user_mentions...   \n",
       "183  {'hashtags': [], 'symbols': [], 'user_mentions...   \n",
       "184  {'hashtags': [], 'symbols': [], 'user_mentions...   \n",
       "185  {'hashtags': [], 'symbols': [], 'user_mentions...   \n",
       "186  {'hashtags': [{'text': 'firsttweet', 'indices'...   \n",
       "\n",
       "    in_reply_to_user_id_str  is_quote_status  retweet_count  favorite_count  \\\n",
       "0                      None            False              1               3   \n",
       "1                      None            False              0               0   \n",
       "2                      None            False              2               1   \n",
       "3                      None            False              4               0   \n",
       "4                      None            False              0               0   \n",
       "..                      ...              ...            ...             ...   \n",
       "182              2481661214            False              0               1   \n",
       "183                    None            False              0               2   \n",
       "184      811931923656351744            False              0               0   \n",
       "185                    None            False              0               5   \n",
       "186                    None            False              2               3   \n",
       "\n",
       "     favorited  retweeted                                   retweeted_status  \n",
       "0        False      False                                                NaN  \n",
       "1        False      False                                                NaN  \n",
       "2        False      False                                                NaN  \n",
       "3        False      False  Status(_api=<tweepy.api.API object at 0x11e1fb...  \n",
       "4        False      False                                                NaN  \n",
       "..         ...        ...                                                ...  \n",
       "182      False      False                                                NaN  \n",
       "183      False      False                                                NaN  \n",
       "184      False      False                                                NaN  \n",
       "185      False      False                                                NaN  \n",
       "186      False      False                                                NaN  \n",
       "\n",
       "[187 rows x 13 columns]"
      ]
     },
     "execution_count": 26,
     "metadata": {},
     "output_type": "execute_result"
    }
   ],
   "source": [
    "res_tweepy.iloc[:,[0,1,4,7,9,10,17,25,26,27,28,29,32]]"
   ]
  },
  {
   "cell_type": "markdown",
   "metadata": {},
   "source": [
    "If 'in_reply_to_user_id_str' is not 'None', the tweet is a reply to another tweet. If 'is_quote_status' is not 'False', the tweet is a quote (check definition of quotes in twitter if unknown)."
   ]
  },
  {
   "cell_type": "markdown",
   "metadata": {},
   "source": [
    "### Author and User"
   ]
  },
  {
   "cell_type": "code",
   "execution_count": 44,
   "metadata": {},
   "outputs": [
    {
     "data": {
      "text/plain": [
       "19"
      ]
     },
     "execution_count": 44,
     "metadata": {},
     "output_type": "execute_result"
    }
   ],
   "source": [
    "res_tweepy.columns.get_loc('author')"
   ]
  },
  {
   "cell_type": "code",
   "execution_count": 45,
   "metadata": {},
   "outputs": [
    {
     "data": {
      "text/plain": [
       "20"
      ]
     },
     "execution_count": 45,
     "metadata": {},
     "output_type": "execute_result"
    }
   ],
   "source": [
    "res_tweepy.columns.get_loc('user')"
   ]
  },
  {
   "cell_type": "code",
   "execution_count": 56,
   "metadata": {},
   "outputs": [
    {
     "data": {
      "text/plain": [
       "User(_api=<tweepy.api.API object at 0x11e1fbb10>, _json={'id': 862747349277450240, 'id_str': '862747349277450240', 'name': 'Dr. Michael von Abercron MdB', 'screen_name': 'mvabercron', 'location': 'Pinneberg, Deutschland', 'description': 'Direkt gewählter Bundestagsabgeordneter aus dem Wahlkreis Pinneberg | Es schreiben Michael von Abercron und sein Team', 'url': 'https://t.co/5Qqm51N9U8', 'entities': {'url': {'urls': [{'url': 'https://t.co/5Qqm51N9U8', 'expanded_url': 'http://www.von-abercron.de', 'display_url': 'von-abercron.de', 'indices': [0, 23]}]}, 'description': {'urls': []}}, 'protected': False, 'followers_count': 752, 'friends_count': 674, 'listed_count': 46, 'created_at': 'Thu May 11 19:12:51 +0000 2017', 'favourites_count': 162, 'utc_offset': None, 'time_zone': None, 'geo_enabled': False, 'verified': True, 'statuses_count': 187, 'lang': None, 'contributors_enabled': False, 'is_translator': False, 'is_translation_enabled': False, 'profile_background_color': '000000', 'profile_background_image_url': 'http://abs.twimg.com/images/themes/theme1/bg.png', 'profile_background_image_url_https': 'https://abs.twimg.com/images/themes/theme1/bg.png', 'profile_background_tile': False, 'profile_image_url': 'http://pbs.twimg.com/profile_images/986200892566360065/KuYwECSZ_normal.jpg', 'profile_image_url_https': 'https://pbs.twimg.com/profile_images/986200892566360065/KuYwECSZ_normal.jpg', 'profile_banner_url': 'https://pbs.twimg.com/profile_banners/862747349277450240/1506789651', 'profile_link_color': '485152', 'profile_sidebar_border_color': '000000', 'profile_sidebar_fill_color': '000000', 'profile_text_color': '000000', 'profile_use_background_image': False, 'has_extended_profile': True, 'default_profile': False, 'default_profile_image': False, 'following': False, 'follow_request_sent': False, 'notifications': False, 'translator_type': 'none'}, id=862747349277450240, id_str='862747349277450240', name='Dr. Michael von Abercron MdB', screen_name='mvabercron', location='Pinneberg, Deutschland', description='Direkt gewählter Bundestagsabgeordneter aus dem Wahlkreis Pinneberg | Es schreiben Michael von Abercron und sein Team', url='https://t.co/5Qqm51N9U8', entities={'url': {'urls': [{'url': 'https://t.co/5Qqm51N9U8', 'expanded_url': 'http://www.von-abercron.de', 'display_url': 'von-abercron.de', 'indices': [0, 23]}]}, 'description': {'urls': []}}, protected=False, followers_count=752, friends_count=674, listed_count=46, created_at=datetime.datetime(2017, 5, 11, 19, 12, 51), favourites_count=162, utc_offset=None, time_zone=None, geo_enabled=False, verified=True, statuses_count=187, lang=None, contributors_enabled=False, is_translator=False, is_translation_enabled=False, profile_background_color='000000', profile_background_image_url='http://abs.twimg.com/images/themes/theme1/bg.png', profile_background_image_url_https='https://abs.twimg.com/images/themes/theme1/bg.png', profile_background_tile=False, profile_image_url='http://pbs.twimg.com/profile_images/986200892566360065/KuYwECSZ_normal.jpg', profile_image_url_https='https://pbs.twimg.com/profile_images/986200892566360065/KuYwECSZ_normal.jpg', profile_banner_url='https://pbs.twimg.com/profile_banners/862747349277450240/1506789651', profile_link_color='485152', profile_sidebar_border_color='000000', profile_sidebar_fill_color='000000', profile_text_color='000000', profile_use_background_image=False, has_extended_profile=True, default_profile=False, default_profile_image=False, following=False, follow_request_sent=False, notifications=False, translator_type='none')"
      ]
     },
     "execution_count": 56,
     "metadata": {},
     "output_type": "execute_result"
    }
   ],
   "source": [
    "res_tweepy.iloc[3,19]"
   ]
  },
  {
   "cell_type": "code",
   "execution_count": 57,
   "metadata": {},
   "outputs": [
    {
     "data": {
      "text/plain": [
       "User(_api=<tweepy.api.API object at 0x11e1fbb10>, _json={'id': 862747349277450240, 'id_str': '862747349277450240', 'name': 'Dr. Michael von Abercron MdB', 'screen_name': 'mvabercron', 'location': 'Pinneberg, Deutschland', 'description': 'Direkt gewählter Bundestagsabgeordneter aus dem Wahlkreis Pinneberg | Es schreiben Michael von Abercron und sein Team', 'url': 'https://t.co/5Qqm51N9U8', 'entities': {'url': {'urls': [{'url': 'https://t.co/5Qqm51N9U8', 'expanded_url': 'http://www.von-abercron.de', 'display_url': 'von-abercron.de', 'indices': [0, 23]}]}, 'description': {'urls': []}}, 'protected': False, 'followers_count': 752, 'friends_count': 674, 'listed_count': 46, 'created_at': 'Thu May 11 19:12:51 +0000 2017', 'favourites_count': 162, 'utc_offset': None, 'time_zone': None, 'geo_enabled': False, 'verified': True, 'statuses_count': 187, 'lang': None, 'contributors_enabled': False, 'is_translator': False, 'is_translation_enabled': False, 'profile_background_color': '000000', 'profile_background_image_url': 'http://abs.twimg.com/images/themes/theme1/bg.png', 'profile_background_image_url_https': 'https://abs.twimg.com/images/themes/theme1/bg.png', 'profile_background_tile': False, 'profile_image_url': 'http://pbs.twimg.com/profile_images/986200892566360065/KuYwECSZ_normal.jpg', 'profile_image_url_https': 'https://pbs.twimg.com/profile_images/986200892566360065/KuYwECSZ_normal.jpg', 'profile_banner_url': 'https://pbs.twimg.com/profile_banners/862747349277450240/1506789651', 'profile_link_color': '485152', 'profile_sidebar_border_color': '000000', 'profile_sidebar_fill_color': '000000', 'profile_text_color': '000000', 'profile_use_background_image': False, 'has_extended_profile': True, 'default_profile': False, 'default_profile_image': False, 'following': False, 'follow_request_sent': False, 'notifications': False, 'translator_type': 'none'}, id=862747349277450240, id_str='862747349277450240', name='Dr. Michael von Abercron MdB', screen_name='mvabercron', location='Pinneberg, Deutschland', description='Direkt gewählter Bundestagsabgeordneter aus dem Wahlkreis Pinneberg | Es schreiben Michael von Abercron und sein Team', url='https://t.co/5Qqm51N9U8', entities={'url': {'urls': [{'url': 'https://t.co/5Qqm51N9U8', 'expanded_url': 'http://www.von-abercron.de', 'display_url': 'von-abercron.de', 'indices': [0, 23]}]}, 'description': {'urls': []}}, protected=False, followers_count=752, friends_count=674, listed_count=46, created_at=datetime.datetime(2017, 5, 11, 19, 12, 51), favourites_count=162, utc_offset=None, time_zone=None, geo_enabled=False, verified=True, statuses_count=187, lang=None, contributors_enabled=False, is_translator=False, is_translation_enabled=False, profile_background_color='000000', profile_background_image_url='http://abs.twimg.com/images/themes/theme1/bg.png', profile_background_image_url_https='https://abs.twimg.com/images/themes/theme1/bg.png', profile_background_tile=False, profile_image_url='http://pbs.twimg.com/profile_images/986200892566360065/KuYwECSZ_normal.jpg', profile_image_url_https='https://pbs.twimg.com/profile_images/986200892566360065/KuYwECSZ_normal.jpg', profile_banner_url='https://pbs.twimg.com/profile_banners/862747349277450240/1506789651', profile_link_color='485152', profile_sidebar_border_color='000000', profile_sidebar_fill_color='000000', profile_text_color='000000', profile_use_background_image=False, has_extended_profile=True, default_profile=False, default_profile_image=False, following=False, follow_request_sent=False, notifications=False, translator_type='none')"
      ]
     },
     "execution_count": 57,
     "metadata": {},
     "output_type": "execute_result"
    }
   ],
   "source": [
    "res_tweepy.iloc[3,20]"
   ]
  },
  {
   "cell_type": "markdown",
   "metadata": {},
   "source": [
    "We see that 'author' and 'user' are essentially the same. On Stackoverflow it's stated that 'user' is deprecated, thus we should use 'author' (if needed)."
   ]
  },
  {
   "cell_type": "markdown",
   "metadata": {},
   "source": [
    "The following fields of the 'author' object might be interesting for us:"
   ]
  },
  {
   "cell_type": "code",
   "execution_count": 60,
   "metadata": {},
   "outputs": [
    {
     "data": {
      "text/plain": [
       "'Direkt gewählter Bundestagsabgeordneter aus dem Wahlkreis Pinneberg | Es schreiben Michael von Abercron und sein Team'"
      ]
     },
     "execution_count": 60,
     "metadata": {},
     "output_type": "execute_result"
    }
   ],
   "source": [
    "res_tweepy.iloc[3,19].description"
   ]
  },
  {
   "cell_type": "code",
   "execution_count": 61,
   "metadata": {},
   "outputs": [
    {
     "data": {
      "text/plain": [
       "'Pinneberg, Deutschland'"
      ]
     },
     "execution_count": 61,
     "metadata": {},
     "output_type": "execute_result"
    }
   ],
   "source": [
    "res_tweepy.iloc[3,19].location"
   ]
  },
  {
   "cell_type": "markdown",
   "metadata": {},
   "source": [
    "The number of followers this account currently has:"
   ]
  },
  {
   "cell_type": "code",
   "execution_count": 62,
   "metadata": {},
   "outputs": [
    {
     "data": {
      "text/plain": [
       "752"
      ]
     },
     "execution_count": 62,
     "metadata": {},
     "output_type": "execute_result"
    }
   ],
   "source": [
    "res_tweepy.iloc[3,19].followers_count"
   ]
  },
  {
   "cell_type": "markdown",
   "metadata": {},
   "source": [
    "The number of users this account is following (AKA their “followings”):"
   ]
  },
  {
   "cell_type": "code",
   "execution_count": 63,
   "metadata": {},
   "outputs": [
    {
     "data": {
      "text/plain": [
       "674"
      ]
     },
     "execution_count": 63,
     "metadata": {},
     "output_type": "execute_result"
    }
   ],
   "source": [
    "res_tweepy.iloc[3,19].friends_count"
   ]
  },
  {
   "cell_type": "markdown",
   "metadata": {},
   "source": [
    "The number of public lists that this user is a member of:"
   ]
  },
  {
   "cell_type": "code",
   "execution_count": 64,
   "metadata": {},
   "outputs": [
    {
     "data": {
      "text/plain": [
       "46"
      ]
     },
     "execution_count": 64,
     "metadata": {},
     "output_type": "execute_result"
    }
   ],
   "source": [
    "res_tweepy.iloc[3,19].listed_count"
   ]
  },
  {
   "cell_type": "markdown",
   "metadata": {},
   "source": [
    "The number of Tweets this user has liked in the account’s lifetime:"
   ]
  },
  {
   "cell_type": "code",
   "execution_count": 65,
   "metadata": {},
   "outputs": [
    {
     "data": {
      "text/plain": [
       "162"
      ]
     },
     "execution_count": 65,
     "metadata": {},
     "output_type": "execute_result"
    }
   ],
   "source": [
    "res_tweepy.iloc[3,19].favourites_count"
   ]
  },
  {
   "cell_type": "markdown",
   "metadata": {},
   "source": [
    "### Retweets"
   ]
  },
  {
   "cell_type": "markdown",
   "metadata": {},
   "source": [
    "By column 'retweeted_status' it can be checked, whether tweet is a retweet or a new tweet. Retweets are truncated to 140 characters:"
   ]
  },
  {
   "cell_type": "code",
   "execution_count": 49,
   "metadata": {},
   "outputs": [
    {
     "data": {
      "text/html": [
       "<div>\n",
       "<style scoped>\n",
       "    .dataframe tbody tr th:only-of-type {\n",
       "        vertical-align: middle;\n",
       "    }\n",
       "\n",
       "    .dataframe tbody tr th {\n",
       "        vertical-align: top;\n",
       "    }\n",
       "\n",
       "    .dataframe thead th {\n",
       "        text-align: right;\n",
       "    }\n",
       "</style>\n",
       "<table border=\"1\" class=\"dataframe\">\n",
       "  <thead>\n",
       "    <tr style=\"text-align: right;\">\n",
       "      <th></th>\n",
       "      <th>display_text_range</th>\n",
       "      <th>retweeted_status</th>\n",
       "    </tr>\n",
       "  </thead>\n",
       "  <tbody>\n",
       "    <tr>\n",
       "      <th>0</th>\n",
       "      <td>[0, 204]</td>\n",
       "      <td>NaN</td>\n",
       "    </tr>\n",
       "    <tr>\n",
       "      <th>1</th>\n",
       "      <td>[0, 275]</td>\n",
       "      <td>NaN</td>\n",
       "    </tr>\n",
       "    <tr>\n",
       "      <th>2</th>\n",
       "      <td>[0, 199]</td>\n",
       "      <td>NaN</td>\n",
       "    </tr>\n",
       "    <tr>\n",
       "      <th>3</th>\n",
       "      <td>[0, 140]</td>\n",
       "      <td>Status(_api=&lt;tweepy.api.API object at 0x11e1fb...</td>\n",
       "    </tr>\n",
       "    <tr>\n",
       "      <th>4</th>\n",
       "      <td>[0, 280]</td>\n",
       "      <td>NaN</td>\n",
       "    </tr>\n",
       "    <tr>\n",
       "      <th>...</th>\n",
       "      <td>...</td>\n",
       "      <td>...</td>\n",
       "    </tr>\n",
       "    <tr>\n",
       "      <th>182</th>\n",
       "      <td>[31, 107]</td>\n",
       "      <td>NaN</td>\n",
       "    </tr>\n",
       "    <tr>\n",
       "      <th>183</th>\n",
       "      <td>[0, 251]</td>\n",
       "      <td>NaN</td>\n",
       "    </tr>\n",
       "    <tr>\n",
       "      <th>184</th>\n",
       "      <td>[13, 100]</td>\n",
       "      <td>NaN</td>\n",
       "    </tr>\n",
       "    <tr>\n",
       "      <th>185</th>\n",
       "      <td>[0, 135]</td>\n",
       "      <td>NaN</td>\n",
       "    </tr>\n",
       "    <tr>\n",
       "      <th>186</th>\n",
       "      <td>[0, 138]</td>\n",
       "      <td>NaN</td>\n",
       "    </tr>\n",
       "  </tbody>\n",
       "</table>\n",
       "<p>187 rows × 2 columns</p>\n",
       "</div>"
      ],
      "text/plain": [
       "    display_text_range                                   retweeted_status\n",
       "0             [0, 204]                                                NaN\n",
       "1             [0, 275]                                                NaN\n",
       "2             [0, 199]                                                NaN\n",
       "3             [0, 140]  Status(_api=<tweepy.api.API object at 0x11e1fb...\n",
       "4             [0, 280]                                                NaN\n",
       "..                 ...                                                ...\n",
       "182          [31, 107]                                                NaN\n",
       "183           [0, 251]                                                NaN\n",
       "184          [13, 100]                                                NaN\n",
       "185           [0, 135]                                                NaN\n",
       "186           [0, 138]                                                NaN\n",
       "\n",
       "[187 rows x 2 columns]"
      ]
     },
     "execution_count": 49,
     "metadata": {},
     "output_type": "execute_result"
    }
   ],
   "source": [
    "res_tweepy[['display_text_range','retweeted_status']]"
   ]
  },
  {
   "cell_type": "markdown",
   "metadata": {},
   "source": [
    "We can retrieve the full text of a retweet by accessing the attribute 'full_text' of the tweepy object in column 'retweeted_status' (if the tweet is a retweet, in which case the value in this column is not NaN):"
   ]
  },
  {
   "cell_type": "code",
   "execution_count": 19,
   "metadata": {},
   "outputs": [
    {
     "data": {
      "text/plain": [
       "'.@gitta_connemann und @mvabercron erklären: #Corona-Soforthilfen auch für Höfe, Forstbetriebe und landwirtschaftlichen Gartenbau  https://t.co/CRADyyuX4D'"
      ]
     },
     "execution_count": 19,
     "metadata": {},
     "output_type": "execute_result"
    }
   ],
   "source": [
    "res_tweepy.iloc[3,33].full_text"
   ]
  },
  {
   "cell_type": "markdown",
   "metadata": {},
   "source": [
    "### Additional Information - 'entities'"
   ]
  },
  {
   "cell_type": "markdown",
   "metadata": {},
   "source": [
    "For each tweet, column 'entities' contains a dict with additional information, such as hashtags or users and urls that are mentioned in the tweet."
   ]
  },
  {
   "cell_type": "code",
   "execution_count": 20,
   "metadata": {},
   "outputs": [
    {
     "data": {
      "text/plain": [
       "{'hashtags': [{'text': 'Corona', 'indices': [58, 65]}],\n",
       " 'symbols': [],\n",
       " 'user_mentions': [{'screen_name': 'cducsubt',\n",
       "   'name': 'CDU/CSU',\n",
       "   'id': 46085533,\n",
       "   'id_str': '46085533',\n",
       "   'indices': [3, 12]},\n",
       "  {'screen_name': 'gitta_connemann',\n",
       "   'name': 'Gitta Connemann',\n",
       "   'id': 1125751445205262336,\n",
       "   'id_str': '1125751445205262336',\n",
       "   'indices': [15, 31]},\n",
       "  {'screen_name': 'mvabercron',\n",
       "   'name': 'Dr. Michael von Abercron MdB',\n",
       "   'id': 862747349277450240,\n",
       "   'id_str': '862747349277450240',\n",
       "   'indices': [36, 47]}],\n",
       " 'urls': []}"
      ]
     },
     "execution_count": 20,
     "metadata": {},
     "output_type": "execute_result"
    }
   ],
   "source": [
    "# value of 'entities' for the 4th downloaded tweet\n",
    "res_tweepy.iloc[3,11]"
   ]
  },
  {
   "cell_type": "code",
   "execution_count": 21,
   "metadata": {},
   "outputs": [
    {
     "data": {
      "text/plain": [
       "'Corona'"
      ]
     },
     "execution_count": 21,
     "metadata": {},
     "output_type": "execute_result"
    }
   ],
   "source": [
    "# Access first hashtag of this tweet (in this case the only hashtag)\n",
    "res_tweepy.iloc[3,11]['hashtags'][0]['text']"
   ]
  },
  {
   "cell_type": "code",
   "execution_count": 22,
   "metadata": {},
   "outputs": [
    {
     "data": {
      "text/plain": [
       "'Gitta Connemann'"
      ]
     },
     "execution_count": 22,
     "metadata": {},
     "output_type": "execute_result"
    }
   ],
   "source": [
    "# obtain username of second user that is mentioned\n",
    "res_tweepy.iloc[3,11]['user_mentions'][1]['name']"
   ]
  }
 ],
 "metadata": {
  "kernelspec": {
   "display_name": "Python 3",
   "language": "python",
   "name": "python3"
  },
  "language_info": {
   "codemirror_mode": {
    "name": "ipython",
    "version": 3
   },
   "file_extension": ".py",
   "mimetype": "text/x-python",
   "name": "python",
   "nbconvert_exporter": "python",
   "pygments_lexer": "ipython3",
   "version": "3.7.6"
  }
 },
 "nbformat": 4,
 "nbformat_minor": 4
}
